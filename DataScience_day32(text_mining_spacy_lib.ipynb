{
 "cells": [
  {
   "cell_type": "code",
   "execution_count": 1,
   "id": "493cacd1-0eff-4a2f-a033-04018e116bb8",
   "metadata": {
    "jupyter": {
     "source_hidden": true
    }
   },
   "outputs": [],
   "source": [
    "text='''Nepal is a beautiful landlocked country located in South Asia, nestled \n",
    "between China to the north and India to the south, east, and west. Known for its \n",
    "stunning natural landscapes, Nepal is home to eight of the world’s ten highest peaks,\n",
    "including Mount Everest, the tallest mountain on Earth. The country boasts a rich cultural \n",
    "and historical heritage, with a diverse population made up of various ethnic groups and languages.\n",
    "Kathmandu, the capital city, is famous for its ancient temples, vibrant festivals, \n",
    "and UNESCO World Heritage Sites. Nepal is also the birthplace of Lord Buddha, \n",
    "making it a significant pilgrimage site for Buddhists around the world. Despite being a\n",
    "developing country, Nepal's warm hospitality,\n",
    "unique traditions, and bre\n",
    "athtaking scenery attract travelers from all corners of the globe.'''"
   ]
  },
  {
   "cell_type": "code",
   "execution_count": null,
   "id": "ca1d0965-ac49-4b2b-b4cc-7a7ddb4daec1",
   "metadata": {},
   "outputs": [],
   "source": []
  },
  {
   "cell_type": "code",
   "execution_count": null,
   "id": "80664514-905c-4523-9486-8f23049ac95c",
   "metadata": {},
   "outputs": [],
   "source": []
  },
  {
   "cell_type": "code",
   "execution_count": null,
   "id": "752eab6a-734e-4aaf-a6f5-6fe508f7d2ca",
   "metadata": {},
   "outputs": [],
   "source": []
  },
  {
   "cell_type": "code",
   "execution_count": null,
   "id": "ed8b0be6-b32c-4e5c-81e8-09f649b8a35f",
   "metadata": {},
   "outputs": [],
   "source": []
  },
  {
   "cell_type": "code",
   "execution_count": 2,
   "id": "e3ba9979-645c-439a-9fc9-ade0a964f0df",
   "metadata": {},
   "outputs": [],
   "source": [
    "with open(\"spacy_lib.txt\", 'w', encoding='utf-8') as file:\n",
    "    file.write(text)\n"
   ]
  },
  {
   "cell_type": "code",
   "execution_count": 3,
   "id": "58f1f08e-a2da-4e54-af30-428bf5c9de6f",
   "metadata": {
    "collapsed": true,
    "jupyter": {
     "outputs_hidden": true
    }
   },
   "outputs": [
    {
     "name": "stdout",
     "output_type": "stream",
     "text": [
      "Nepal is a beautiful landlocked country located in South Asia, nestled \n",
      "between China to the north and India to the south, east, and west. Known for its \n",
      "stunning natural landscapes, Nepal is home to eight of the world’s ten highest peaks,\n",
      "including Mount Everest, the tallest mountain on Earth. The country boasts a rich cultural \n",
      "and historical heritage, with a diverse population made up of various ethnic groups and languages.\n",
      "Kathmandu, the capital city, is famous for its ancient temples, vibrant festivals, \n",
      "and UNESCO World Heritage Sites. Nepal is also the birthplace of Lord Buddha, \n",
      "making it a significant pilgrimage site for Buddhists around the world. Despite being a\n",
      "developing country, Nepal's warm hospitality,\n",
      "unique traditions, and bre\n",
      "athtaking scenery attract travelers from all corners of the globe.\n"
     ]
    }
   ],
   "source": [
    "print(text)"
   ]
  },
  {
   "cell_type": "code",
   "execution_count": 4,
   "id": "1ebe3c93-3270-4ba6-b4a0-6f3b9b789fe8",
   "metadata": {},
   "outputs": [],
   "source": [
    "import spacy"
   ]
  },
  {
   "cell_type": "code",
   "execution_count": 5,
   "id": "8c3d96cc-8123-4ac9-9bb1-47344459c9b8",
   "metadata": {},
   "outputs": [],
   "source": [
    "nlp = spacy.load(\"en_core_web_sm\") #is used to load the spaCy English language model called en_core_web_sm."
   ]
  },
  {
   "cell_type": "code",
   "execution_count": 7,
   "id": "5504d804-c1fe-4451-ab65-f998acddd4c3",
   "metadata": {
    "collapsed": true,
    "jupyter": {
     "outputs_hidden": true,
     "source_hidden": true
    }
   },
   "outputs": [
    {
     "name": "stdout",
     "output_type": "stream",
     "text": [
      "Tokens: ['Nepal', 'is', 'a', 'beautiful', 'landlocked', 'country', 'located', 'in', 'South', 'Asia', ',', 'nestled', '\\n', 'between', 'China', 'to', 'the', 'north', 'and', 'India', 'to', 'the', 'south', ',', 'east', ',', 'and', 'west', '.', 'Known', 'for', 'its', '\\n', 'stunning', 'natural', 'landscapes', ',', 'Nepal', 'is', 'home', 'to', 'eight', 'of', 'the', 'world', '’s', 'ten', 'highest', 'peaks', ',', '\\n', 'including', 'Mount', 'Everest', ',', 'the', 'tallest', 'mountain', 'on', 'Earth', '.', 'The', 'country', 'boasts', 'a', 'rich', 'cultural', '\\n', 'and', 'historical', 'heritage', ',', 'with', 'a', 'diverse', 'population', 'made', 'up', 'of', 'various', 'ethnic', 'groups', 'and', 'languages', '.', '\\n', 'Kathmandu', ',', 'the', 'capital', 'city', ',', 'is', 'famous', 'for', 'its', 'ancient', 'temples', ',', 'vibrant', 'festivals', ',', '\\n', 'and', 'UNESCO', 'World', 'Heritage', 'Sites', '.', 'Nepal', 'is', 'also', 'the', 'birthplace', 'of', 'Lord', 'Buddha', ',', '\\n', 'making', 'it', 'a', 'significant', 'pilgrimage', 'site', 'for', 'Buddhists', 'around', 'the', 'world', '.', 'Despite', 'being', 'a', '\\n', 'developing', 'country', ',', 'Nepal', \"'s\", 'warm', 'hospitality', ',', '\\n', 'unique', 'traditions', ',', 'and', 'bre', '\\n', 'athtaking', 'scenery', 'attract', 'travelers', 'from', 'all', 'corners', 'of', 'the', 'globe', '.']\n"
     ]
    }
   ],
   "source": [
    "# tokenization\n",
    "doc = nlp(text)\n",
    "tokens = [token.text for token in doc]\n",
    "print(\"Tokens:\", tokens)"
   ]
  },
  {
   "cell_type": "markdown",
   "id": "faed7e36-8371-494b-a11d-318ea2f6d07a",
   "metadata": {
    "jupyter": {
     "source_hidden": true
    }
   },
   "source": [
    "doc = nlp(text): Passes your text to spaCy's NLP pipeline, producing a Doc object.\n",
    "\n",
    "[token.text for token in doc]: Extracts the string value of each token.\n",
    "\n",
    "print(...): Displays the list of tokens (words, punctuation, etc.)."
   ]
  },
  {
   "cell_type": "code",
   "execution_count": 8,
   "id": "7dcbad30-613c-40cf-80a3-e74ba2d7c0d2",
   "metadata": {
    "jupyter": {
     "source_hidden": true
    }
   },
   "outputs": [
    {
     "name": "stdout",
     "output_type": "stream",
     "text": [
      "Most common: [(',', 15), ('\\n', 10), ('the', 8), ('and', 6), ('.', 6)]\n"
     ]
    }
   ],
   "source": [
    "#Count words\n",
    "from collections import Counter\n",
    "freq = Counter(tokens)\n",
    "\n",
    "most_common = freq.most_common(5)\n",
    "print(\"Most common:\", most_common)\n",
    "\n"
   ]
  },
  {
   "cell_type": "markdown",
   "id": "5054a986-09e6-4439-b75c-08a59376f7d7",
   "metadata": {
    "jupyter": {
     "source_hidden": true
    }
   },
   "source": [
    "Counter(tokens): Counts occurrences of each word.\n",
    "\n",
    "most_common(5): Returns the 5 most frequent tokens as a list of tuples.\n",
    "\n",
    "token.is_alpha: Filters only alphabetic tokens (no punctuation or numbers).\n",
    "\n",
    "not token.is_stop: Removes common stop words like \"is\", \"at\", \"the\", etc."
   ]
  },
  {
   "cell_type": "code",
   "execution_count": 9,
   "id": "515f7108-56b5-4895-874a-5cd415f59140",
   "metadata": {
    "collapsed": true,
    "jupyter": {
     "outputs_hidden": true
    }
   },
   "outputs": [
    {
     "name": "stdout",
     "output_type": "stream",
     "text": [
      "Without punctuation: ['Nepal', 'is', 'a', 'beautiful', 'landlocked', 'country', 'located', 'in', 'South', 'Asia', 'nestled', '\\n', 'between', 'China', 'to', 'the', 'north', 'and', 'India', 'to', 'the', 'south', 'east', 'and', 'west', 'Known', 'for', 'its', '\\n', 'stunning', 'natural', 'landscapes', 'Nepal', 'is', 'home', 'to', 'eight', 'of', 'the', 'world', '’s', 'ten', 'highest', 'peaks', '\\n', 'including', 'Mount', 'Everest', 'the', 'tallest', 'mountain', 'on', 'Earth', 'The', 'country', 'boasts', 'a', 'rich', 'cultural', '\\n', 'and', 'historical', 'heritage', 'with', 'a', 'diverse', 'population', 'made', 'up', 'of', 'various', 'ethnic', 'groups', 'and', 'languages', '\\n', 'Kathmandu', 'the', 'capital', 'city', 'is', 'famous', 'for', 'its', 'ancient', 'temples', 'vibrant', 'festivals', '\\n', 'and', 'UNESCO', 'World', 'Heritage', 'Sites', 'Nepal', 'is', 'also', 'the', 'birthplace', 'of', 'Lord', 'Buddha', '\\n', 'making', 'it', 'a', 'significant', 'pilgrimage', 'site', 'for', 'Buddhists', 'around', 'the', 'world', 'Despite', 'being', 'a', '\\n', 'developing', 'country', 'Nepal', \"'s\", 'warm', 'hospitality', '\\n', 'unique', 'traditions', 'and', 'bre', '\\n', 'athtaking', 'scenery', 'attract', 'travelers', 'from', 'all', 'corners', 'of', 'the', 'globe']\n"
     ]
    }
   ],
   "source": [
    "# 4. Remove Punctuation\n",
    "tokens_no_punct = [token.text for token in doc if not token.is_punct]\n",
    "print(\"Without punctuation:\", tokens_no_punct)\n"
   ]
  },
  {
   "cell_type": "markdown",
   "id": "599ad536-0c58-4a59-ae3f-7b40b53a6507",
   "metadata": {},
   "source": [
    "token.is_punct: This returns True if the token is a punctuation mark (like ,, ., !, etc.).\n",
    "if not token.is_punct: Filters out all punctuation tokens.\n",
    "token.text: Extracts the text of each token."
   ]
  },
  {
   "cell_type": "code",
   "execution_count": 10,
   "id": "f5e8f1f0-c47e-46d4-aa50-ef6d29aa8160",
   "metadata": {
    "collapsed": true,
    "jupyter": {
     "outputs_hidden": true
    }
   },
   "outputs": [
    {
     "name": "stdout",
     "output_type": "stream",
     "text": [
      "Without stopwords: ['Nepal', 'beautiful', 'landlocked', 'country', 'located', 'South', 'Asia', 'nestled', '\\n', 'China', 'north', 'India', 'south', 'east', 'west', 'Known', '\\n', 'stunning', 'natural', 'landscapes', 'Nepal', 'home', 'world', 'highest', 'peaks', '\\n', 'including', 'Mount', 'Everest', 'tallest', 'mountain', 'Earth', 'country', 'boasts', 'rich', 'cultural', '\\n', 'historical', 'heritage', 'diverse', 'population', 'ethnic', 'groups', 'languages', '\\n', 'Kathmandu', 'capital', 'city', 'famous', 'ancient', 'temples', 'vibrant', 'festivals', '\\n', 'UNESCO', 'World', 'Heritage', 'Sites', 'Nepal', 'birthplace', 'Lord', 'Buddha', '\\n', 'making', 'significant', 'pilgrimage', 'site', 'Buddhists', 'world', 'Despite', '\\n', 'developing', 'country', 'Nepal', 'warm', 'hospitality', '\\n', 'unique', 'traditions', 'bre', '\\n', 'athtaking', 'scenery', 'attract', 'travelers', 'corners', 'globe']\n"
     ]
    }
   ],
   "source": [
    "#Remove stopwords\n",
    "tokens_no_stop = [token.text for token in doc if not token.is_stop and not token.is_punct]\n",
    "print(\"Without stopwords:\", tokens_no_stop)"
   ]
  },
  {
   "cell_type": "markdown",
   "id": "a0005e3c-4e5c-4d06-8eda-fd25736a43c8",
   "metadata": {},
   "source": [
    "-token.is_stop: Checks if the token is a stopword.\n",
    "-token.is_punct: Checks if the token is punctuation.\n",
    "-not token.is_stop and not token.is_punct: Ensures only meaningful tokens are kept.\n",
    "-token.text: Extracts the raw text of the token."
   ]
  },
  {
   "cell_type": "code",
   "execution_count": 11,
   "id": "4600a112-c335-4812-b8bd-097dcfb5a910",
   "metadata": {},
   "outputs": [
    {
     "name": "stdout",
     "output_type": "stream",
     "text": [
      "Lemmas: ['Nepal', 'be', 'a', 'beautiful', 'landlocked', 'country', 'locate', 'in', 'South', 'Asia', 'nestle', '\\n', 'between', 'China', 'to', 'the', 'north', 'and', 'India', 'to', 'the', 'south', 'east', 'and', 'west', 'know', 'for', 'its', '\\n', 'stunning', 'natural', 'landscape', 'Nepal', 'be', 'home', 'to', 'eight', 'of', 'the', 'world', '’s', 'ten', 'high', 'peak', '\\n', 'include', 'Mount', 'Everest', 'the', 'tall', 'mountain', 'on', 'Earth', 'the', 'country', 'boast', 'a', 'rich', 'cultural', '\\n', 'and', 'historical', 'heritage', 'with', 'a', 'diverse', 'population', 'make', 'up', 'of', 'various', 'ethnic', 'group', 'and', 'language', '\\n', 'Kathmandu', 'the', 'capital', 'city', 'be', 'famous', 'for', 'its', 'ancient', 'temple', 'vibrant', 'festival', '\\n', 'and', 'UNESCO', 'World', 'Heritage', 'Sites', 'Nepal', 'be', 'also', 'the', 'birthplace', 'of', 'Lord', 'Buddha', '\\n', 'make', 'it', 'a', 'significant', 'pilgrimage', 'site', 'for', 'Buddhists', 'around', 'the', 'world', 'despite', 'be', 'a', '\\n', 'develop', 'country', 'Nepal', \"'s\", 'warm', 'hospitality', '\\n', 'unique', 'tradition', 'and', 'bre', '\\n', 'athtake', 'scenery', 'attract', 'traveler', 'from', 'all', 'corner', 'of', 'the', 'globe']\n"
     ]
    }
   ],
   "source": [
    "# 6. Lemmatization\n",
    "lemmas = [token.lemma_ for token in doc if not token.is_punct]\n",
    "print(\"Lemmas:\", lemmas)\n"
   ]
  },
  {
   "cell_type": "markdown",
   "id": "4c3c2e6e-e033-4842-92d4-7fe02b7303d3",
   "metadata": {},
   "source": [
    "🧠 Explanation:\n",
    "token.lemma_: This gives you the lemma of the token (e.g., \"running\" → \"run\", \"better\" → \"good\").\n",
    "not token.is_punct: Skips punctuation.\n",
    "\n"
   ]
  },
  {
   "cell_type": "code",
   "execution_count": 13,
   "id": "2b7628a6-a3ef-484c-a43b-b0f49cab43ca",
   "metadata": {
    "collapsed": true,
    "jupyter": {
     "outputs_hidden": true
    }
   },
   "outputs": [
    {
     "name": "stdout",
     "output_type": "stream",
     "text": [
      "Nepal: PROPN\n",
      "is: AUX\n",
      "a: DET\n",
      "beautiful: ADJ\n",
      "landlocked: ADJ\n",
      "country: NOUN\n",
      "located: VERB\n",
      "in: ADP\n",
      "South: PROPN\n",
      "Asia: PROPN\n",
      ",: PUNCT\n",
      "nestled: VERB\n",
      "\n",
      ": SPACE\n",
      "between: ADP\n",
      "China: PROPN\n",
      "to: ADP\n",
      "the: DET\n",
      "north: NOUN\n",
      "and: CCONJ\n",
      "India: PROPN\n",
      "to: ADP\n",
      "the: DET\n",
      "south: NOUN\n",
      ",: PUNCT\n",
      "east: NOUN\n",
      ",: PUNCT\n",
      "and: CCONJ\n",
      "west: NOUN\n",
      ".: PUNCT\n",
      "Known: VERB\n",
      "for: ADP\n",
      "its: PRON\n",
      "\n",
      ": SPACE\n",
      "stunning: ADJ\n",
      "natural: ADJ\n",
      "landscapes: NOUN\n",
      ",: PUNCT\n",
      "Nepal: PROPN\n",
      "is: AUX\n",
      "home: ADV\n",
      "to: ADP\n",
      "eight: NUM\n",
      "of: ADP\n",
      "the: DET\n",
      "world: NOUN\n",
      "’s: PART\n",
      "ten: NUM\n",
      "highest: ADJ\n",
      "peaks: NOUN\n",
      ",: PUNCT\n",
      "\n",
      ": SPACE\n",
      "including: VERB\n",
      "Mount: PROPN\n",
      "Everest: PROPN\n",
      ",: PUNCT\n",
      "the: DET\n",
      "tallest: ADJ\n",
      "mountain: NOUN\n",
      "on: ADP\n",
      "Earth: PROPN\n",
      ".: PUNCT\n",
      "The: DET\n",
      "country: NOUN\n",
      "boasts: VERB\n",
      "a: DET\n",
      "rich: ADJ\n",
      "cultural: ADJ\n",
      "\n",
      ": SPACE\n",
      "and: CCONJ\n",
      "historical: ADJ\n",
      "heritage: NOUN\n",
      ",: PUNCT\n",
      "with: ADP\n",
      "a: DET\n",
      "diverse: ADJ\n",
      "population: NOUN\n",
      "made: VERB\n",
      "up: ADP\n",
      "of: ADP\n",
      "various: ADJ\n",
      "ethnic: ADJ\n",
      "groups: NOUN\n",
      "and: CCONJ\n",
      "languages: NOUN\n",
      ".: PUNCT\n",
      "\n",
      ": SPACE\n",
      "Kathmandu: PROPN\n",
      ",: PUNCT\n",
      "the: DET\n",
      "capital: NOUN\n",
      "city: NOUN\n",
      ",: PUNCT\n",
      "is: AUX\n",
      "famous: ADJ\n",
      "for: ADP\n",
      "its: PRON\n",
      "ancient: ADJ\n",
      "temples: NOUN\n",
      ",: PUNCT\n",
      "vibrant: ADJ\n",
      "festivals: NOUN\n",
      ",: PUNCT\n",
      "\n",
      ": SPACE\n",
      "and: CCONJ\n",
      "UNESCO: PROPN\n",
      "World: PROPN\n",
      "Heritage: PROPN\n",
      "Sites: PROPN\n",
      ".: PUNCT\n",
      "Nepal: PROPN\n",
      "is: AUX\n",
      "also: ADV\n",
      "the: DET\n",
      "birthplace: NOUN\n",
      "of: ADP\n",
      "Lord: PROPN\n",
      "Buddha: PROPN\n",
      ",: PUNCT\n",
      "\n",
      ": SPACE\n",
      "making: VERB\n",
      "it: PRON\n",
      "a: DET\n",
      "significant: ADJ\n",
      "pilgrimage: NOUN\n",
      "site: NOUN\n",
      "for: ADP\n",
      "Buddhists: PROPN\n",
      "around: ADP\n",
      "the: DET\n",
      "world: NOUN\n",
      ".: PUNCT\n",
      "Despite: SCONJ\n",
      "being: AUX\n",
      "a: DET\n",
      "\n",
      ": SPACE\n",
      "developing: VERB\n",
      "country: NOUN\n",
      ",: PUNCT\n",
      "Nepal: PROPN\n",
      "'s: PART\n",
      "warm: ADJ\n",
      "hospitality: NOUN\n",
      ",: PUNCT\n",
      "\n",
      ": SPACE\n",
      "unique: ADJ\n",
      "traditions: NOUN\n",
      ",: PUNCT\n",
      "and: CCONJ\n",
      "bre: NOUN\n",
      "\n",
      ": SPACE\n",
      "athtaking: VERB\n",
      "scenery: NOUN\n",
      "attract: VERB\n",
      "travelers: NOUN\n",
      "from: ADP\n",
      "all: DET\n",
      "corners: NOUN\n",
      "of: ADP\n",
      "the: DET\n",
      "globe: NOUN\n",
      ".: PUNCT\n"
     ]
    }
   ],
   "source": [
    "\n",
    "# 7. Pos tagging\n",
    "for token in doc:\n",
    "    print(f\"{token.text}: {token.pos_}\")\n"
   ]
  },
  {
   "cell_type": "code",
   "execution_count": null,
   "id": "12a1d15a-0325-4a3f-af62-04b007c40b02",
   "metadata": {},
   "outputs": [],
   "source": []
  },
  {
   "cell_type": "code",
   "execution_count": null,
   "id": "420a616d-71a8-4dae-85c8-4d22c6f2d6ff",
   "metadata": {},
   "outputs": [],
   "source": []
  },
  {
   "cell_type": "code",
   "execution_count": null,
   "id": "ab394ab3-4682-4adb-8723-b56586fa9a7d",
   "metadata": {},
   "outputs": [],
   "source": []
  },
  {
   "cell_type": "code",
   "execution_count": null,
   "id": "03e0027a-3983-44bd-895b-7bae0bf87396",
   "metadata": {},
   "outputs": [],
   "source": []
  },
  {
   "cell_type": "markdown",
   "id": "b011cd1d-49c9-4b49-a141-5e299de46473",
   "metadata": {},
   "source": [
    "🧠 Explanation:\n",
    "token.text: The actual word/token in the text.\n",
    "token.pos_: The coarse-grained part of speech (e.g., NOUN, VERB, ADJ, etc.)."
   ]
  },
  {
   "cell_type": "code",
   "execution_count": null,
   "id": "acb0f293-85bf-4dfb-9783-60301c8cfade",
   "metadata": {},
   "outputs": [],
   "source": []
  },
  {
   "cell_type": "code",
   "execution_count": null,
   "id": "2ae36abd-927f-438a-b91e-ff61d2f49e82",
   "metadata": {},
   "outputs": [],
   "source": []
  },
  {
   "cell_type": "code",
   "execution_count": null,
   "id": "9a313535-9960-42ee-a00d-2c446daa27d3",
   "metadata": {},
   "outputs": [],
   "source": []
  },
  {
   "cell_type": "code",
   "execution_count": null,
   "id": "16bd79eb-ef44-4c0f-b8f4-7698956b4e2b",
   "metadata": {},
   "outputs": [],
   "source": []
  },
  {
   "cell_type": "code",
   "execution_count": null,
   "id": "5f522a05-c95e-440b-b48c-07ec48857804",
   "metadata": {},
   "outputs": [],
   "source": []
  }
 ],
 "metadata": {
  "kernelspec": {
   "display_name": "Python 3 (ipykernel)",
   "language": "python",
   "name": "python3"
  },
  "language_info": {
   "codemirror_mode": {
    "name": "ipython",
    "version": 3
   },
   "file_extension": ".py",
   "mimetype": "text/x-python",
   "name": "python",
   "nbconvert_exporter": "python",
   "pygments_lexer": "ipython3",
   "version": "3.13.1"
  }
 },
 "nbformat": 4,
 "nbformat_minor": 5
}
