{
 "cells": [
  {
   "cell_type": "code",
   "execution_count": 5,
   "id": "d810bc5d-ff50-4aa6-9ec9-27a7b0406b90",
   "metadata": {},
   "outputs": [],
   "source": [
    "with open('text_mining.txt','r',encoding='utf-8') as file:\n",
    "    content=file.read()"
   ]
  },
  {
   "cell_type": "code",
   "execution_count": 6,
   "id": "3e03a9f9-6e11-4dff-82b2-e0f8f146f87e",
   "metadata": {},
   "outputs": [
    {
     "name": "stdout",
     "output_type": "stream",
     "text": [
      "Law enforcement and criminal justice authorities are increasingly using artificial intelligence (AI) and automated decision-making (ADM) systems in their work.\n",
      "These systems can be used to profile people as criminal, ‘predict’ their \n",
      "actions, and assess their risk\n",
      "of certain behaviour, such as committing a crime, in the future.\n",
      "This can have devastating consequences for the people involved, if they are profiled as \n",
      "criminals or considered a ‘risk’ even though they haven’t actually committed a crime.\n",
      "These criminal ‘prediction’ systems or ‘predictive’  policing are no longer confined to the realms of science fiction. \n",
      "These systems are being used by law enforcement around the world.\n",
      "And predictions, profiles, and risk assessments that are based on data analysis, \n",
      "algorithms and AI, often lead to real criminal justice outcomes. This can include monitoring or surveillance,\n",
      "repeated stop and search, questioning, fines and arrests. \n",
      "These systems can also heavily influence prosecution, sentencing and probation decisions\n"
     ]
    }
   ],
   "source": [
    "print(content)"
   ]
  },
  {
   "cell_type": "code",
   "execution_count": 7,
   "id": "3216da9c-615f-4430-b7ba-941aa0c07430",
   "metadata": {},
   "outputs": [
    {
     "ename": "SyntaxError",
     "evalue": "invalid syntax (2702756375.py, line 1)",
     "output_type": "error",
     "traceback": [
      "  \u001b[36mCell\u001b[39m\u001b[36m \u001b[39m\u001b[32mIn[7]\u001b[39m\u001b[32m, line 1\u001b[39m\n\u001b[31m    \u001b[39m\u001b[31mAnother way of open the file is pathlib so\u001b[39m\n            ^\n\u001b[31mSyntaxError\u001b[39m\u001b[31m:\u001b[39m invalid syntax\n"
     ]
    }
   ],
   "source": [
    "Another way of open the file is pathlib so "
   ]
  },
  {
   "cell_type": "code",
   "execution_count": 8,
   "id": "77e9a5aa-8bb5-48b7-a037-bfd2e125a280",
   "metadata": {},
   "outputs": [
    {
     "name": "stdout",
     "output_type": "stream",
     "text": [
      "Defaulting to user installation because normal site-packages is not writeable\n",
      "Requirement already satisfied: pathlib in c:\\users\\acer\\appdata\\roaming\\python\\python313\\site-packages (1.0.1)\n",
      "Note: you may need to restart the kernel to use updated packages.\n"
     ]
    }
   ],
   "source": [
    "pip install pathlib"
   ]
  },
  {
   "cell_type": "code",
   "execution_count": 9,
   "id": "c81849c8-38b3-4509-abe0-3ec909382b5f",
   "metadata": {},
   "outputs": [],
   "source": [
    "from pathlib import Path "
   ]
  },
  {
   "cell_type": "code",
   "execution_count": 10,
   "id": "76d85f98-782d-4b05-84f3-e558a00f890e",
   "metadata": {},
   "outputs": [],
   "source": [
    "content=Path('text_mining.txt').read_text\n"
   ]
  },
  {
   "cell_type": "code",
   "execution_count": 11,
   "id": "d645c9dc-e270-4bb4-b85a-0baccad8d0a9",
   "metadata": {},
   "outputs": [],
   "source": [
    "# Tokenization \n",
    "\n",
    "from nltk import word_tokenize\n"
   ]
  },
  {
   "cell_type": "code",
   "execution_count": 12,
   "id": "a692f042-7db2-4494-aa5b-540bb41ac6e2",
   "metadata": {},
   "outputs": [],
   "source": [
    "import nltk"
   ]
  },
  {
   "cell_type": "code",
   "execution_count": 13,
   "id": "fac438c1-f658-4e6a-a0d1-cfad22ca9969",
   "metadata": {},
   "outputs": [
    {
     "name": "stderr",
     "output_type": "stream",
     "text": [
      "[nltk_data] Downloading package punkt_tab to\n",
      "[nltk_data]     C:\\Users\\Acer\\AppData\\Roaming\\nltk_data...\n",
      "[nltk_data]   Package punkt_tab is already up-to-date!\n"
     ]
    },
    {
     "data": {
      "text/plain": [
       "True"
      ]
     },
     "execution_count": 13,
     "metadata": {},
     "output_type": "execute_result"
    }
   ],
   "source": [
    "nltk.download('punkt_tab')"
   ]
  },
  {
   "cell_type": "code",
   "execution_count": 14,
   "id": "7cfeabd4-8c6f-490b-8ec6-6a8748815926",
   "metadata": {},
   "outputs": [
    {
     "ename": "TypeError",
     "evalue": "expected string or bytes-like object, got 'method'",
     "output_type": "error",
     "traceback": [
      "\u001b[31m---------------------------------------------------------------------------\u001b[39m",
      "\u001b[31mTypeError\u001b[39m                                 Traceback (most recent call last)",
      "\u001b[36mCell\u001b[39m\u001b[36m \u001b[39m\u001b[32mIn[14]\u001b[39m\u001b[32m, line 1\u001b[39m\n\u001b[32m----> \u001b[39m\u001b[32m1\u001b[39m tokens=\u001b[43mword_tokenize\u001b[49m\u001b[43m(\u001b[49m\u001b[43mcontent\u001b[49m\u001b[43m)\u001b[49m\n\u001b[32m      2\u001b[39m \u001b[38;5;28mprint\u001b[39m(tokens)\n",
      "\u001b[36mFile \u001b[39m\u001b[32m~\\AppData\\Roaming\\Python\\Python313\\site-packages\\nltk\\tokenize\\__init__.py:142\u001b[39m, in \u001b[36mword_tokenize\u001b[39m\u001b[34m(text, language, preserve_line)\u001b[39m\n\u001b[32m    127\u001b[39m \u001b[38;5;28;01mdef\u001b[39;00m\u001b[38;5;250m \u001b[39m\u001b[34mword_tokenize\u001b[39m(text, language=\u001b[33m\"\u001b[39m\u001b[33menglish\u001b[39m\u001b[33m\"\u001b[39m, preserve_line=\u001b[38;5;28;01mFalse\u001b[39;00m):\n\u001b[32m    128\u001b[39m \u001b[38;5;250m    \u001b[39m\u001b[33;03m\"\"\"\u001b[39;00m\n\u001b[32m    129\u001b[39m \u001b[33;03m    Return a tokenized copy of *text*,\u001b[39;00m\n\u001b[32m    130\u001b[39m \u001b[33;03m    using NLTK's recommended word tokenizer\u001b[39;00m\n\u001b[32m   (...)\u001b[39m\u001b[32m    140\u001b[39m \u001b[33;03m    :type preserve_line: bool\u001b[39;00m\n\u001b[32m    141\u001b[39m \u001b[33;03m    \"\"\"\u001b[39;00m\n\u001b[32m--> \u001b[39m\u001b[32m142\u001b[39m     sentences = [text] \u001b[38;5;28;01mif\u001b[39;00m preserve_line \u001b[38;5;28;01melse\u001b[39;00m \u001b[43msent_tokenize\u001b[49m\u001b[43m(\u001b[49m\u001b[43mtext\u001b[49m\u001b[43m,\u001b[49m\u001b[43m \u001b[49m\u001b[43mlanguage\u001b[49m\u001b[43m)\u001b[49m\n\u001b[32m    143\u001b[39m     \u001b[38;5;28;01mreturn\u001b[39;00m [\n\u001b[32m    144\u001b[39m         token \u001b[38;5;28;01mfor\u001b[39;00m sent \u001b[38;5;129;01min\u001b[39;00m sentences \u001b[38;5;28;01mfor\u001b[39;00m token \u001b[38;5;129;01min\u001b[39;00m _treebank_word_tokenizer.tokenize(sent)\n\u001b[32m    145\u001b[39m     ]\n",
      "\u001b[36mFile \u001b[39m\u001b[32m~\\AppData\\Roaming\\Python\\Python313\\site-packages\\nltk\\tokenize\\__init__.py:120\u001b[39m, in \u001b[36msent_tokenize\u001b[39m\u001b[34m(text, language)\u001b[39m\n\u001b[32m    110\u001b[39m \u001b[38;5;250m\u001b[39m\u001b[33;03m\"\"\"\u001b[39;00m\n\u001b[32m    111\u001b[39m \u001b[33;03mReturn a sentence-tokenized copy of *text*,\u001b[39;00m\n\u001b[32m    112\u001b[39m \u001b[33;03musing NLTK's recommended sentence tokenizer\u001b[39;00m\n\u001b[32m   (...)\u001b[39m\u001b[32m    117\u001b[39m \u001b[33;03m:param language: the model name in the Punkt corpus\u001b[39;00m\n\u001b[32m    118\u001b[39m \u001b[33;03m\"\"\"\u001b[39;00m\n\u001b[32m    119\u001b[39m tokenizer = _get_punkt_tokenizer(language)\n\u001b[32m--> \u001b[39m\u001b[32m120\u001b[39m \u001b[38;5;28;01mreturn\u001b[39;00m \u001b[43mtokenizer\u001b[49m\u001b[43m.\u001b[49m\u001b[43mtokenize\u001b[49m\u001b[43m(\u001b[49m\u001b[43mtext\u001b[49m\u001b[43m)\u001b[49m\n",
      "\u001b[36mFile \u001b[39m\u001b[32m~\\AppData\\Roaming\\Python\\Python313\\site-packages\\nltk\\tokenize\\punkt.py:1280\u001b[39m, in \u001b[36mPunktSentenceTokenizer.tokenize\u001b[39m\u001b[34m(self, text, realign_boundaries)\u001b[39m\n\u001b[32m   1276\u001b[39m \u001b[38;5;28;01mdef\u001b[39;00m\u001b[38;5;250m \u001b[39m\u001b[34mtokenize\u001b[39m(\u001b[38;5;28mself\u001b[39m, text: \u001b[38;5;28mstr\u001b[39m, realign_boundaries: \u001b[38;5;28mbool\u001b[39m = \u001b[38;5;28;01mTrue\u001b[39;00m) -> List[\u001b[38;5;28mstr\u001b[39m]:\n\u001b[32m   1277\u001b[39m \u001b[38;5;250m    \u001b[39m\u001b[33;03m\"\"\"\u001b[39;00m\n\u001b[32m   1278\u001b[39m \u001b[33;03m    Given a text, returns a list of the sentences in that text.\u001b[39;00m\n\u001b[32m   1279\u001b[39m \u001b[33;03m    \"\"\"\u001b[39;00m\n\u001b[32m-> \u001b[39m\u001b[32m1280\u001b[39m     \u001b[38;5;28;01mreturn\u001b[39;00m \u001b[38;5;28mlist\u001b[39m(\u001b[38;5;28;43mself\u001b[39;49m\u001b[43m.\u001b[49m\u001b[43msentences_from_text\u001b[49m\u001b[43m(\u001b[49m\u001b[43mtext\u001b[49m\u001b[43m,\u001b[49m\u001b[43m \u001b[49m\u001b[43mrealign_boundaries\u001b[49m\u001b[43m)\u001b[49m)\n",
      "\u001b[36mFile \u001b[39m\u001b[32m~\\AppData\\Roaming\\Python\\Python313\\site-packages\\nltk\\tokenize\\punkt.py:1340\u001b[39m, in \u001b[36mPunktSentenceTokenizer.sentences_from_text\u001b[39m\u001b[34m(self, text, realign_boundaries)\u001b[39m\n\u001b[32m   1331\u001b[39m \u001b[38;5;28;01mdef\u001b[39;00m\u001b[38;5;250m \u001b[39m\u001b[34msentences_from_text\u001b[39m(\n\u001b[32m   1332\u001b[39m     \u001b[38;5;28mself\u001b[39m, text: \u001b[38;5;28mstr\u001b[39m, realign_boundaries: \u001b[38;5;28mbool\u001b[39m = \u001b[38;5;28;01mTrue\u001b[39;00m\n\u001b[32m   1333\u001b[39m ) -> List[\u001b[38;5;28mstr\u001b[39m]:\n\u001b[32m   1334\u001b[39m \u001b[38;5;250m    \u001b[39m\u001b[33;03m\"\"\"\u001b[39;00m\n\u001b[32m   1335\u001b[39m \u001b[33;03m    Given a text, generates the sentences in that text by only\u001b[39;00m\n\u001b[32m   1336\u001b[39m \u001b[33;03m    testing candidate sentence breaks. If realign_boundaries is\u001b[39;00m\n\u001b[32m   1337\u001b[39m \u001b[33;03m    True, includes in the sentence closing punctuation that\u001b[39;00m\n\u001b[32m   1338\u001b[39m \u001b[33;03m    follows the period.\u001b[39;00m\n\u001b[32m   1339\u001b[39m \u001b[33;03m    \"\"\"\u001b[39;00m\n\u001b[32m-> \u001b[39m\u001b[32m1340\u001b[39m     \u001b[38;5;28;01mreturn\u001b[39;00m \u001b[43m[\u001b[49m\u001b[43mtext\u001b[49m\u001b[43m[\u001b[49m\u001b[43ms\u001b[49m\u001b[43m:\u001b[49m\u001b[43me\u001b[49m\u001b[43m]\u001b[49m\u001b[43m \u001b[49m\u001b[38;5;28;43;01mfor\u001b[39;49;00m\u001b[43m \u001b[49m\u001b[43ms\u001b[49m\u001b[43m,\u001b[49m\u001b[43m \u001b[49m\u001b[43me\u001b[49m\u001b[43m \u001b[49m\u001b[38;5;129;43;01min\u001b[39;49;00m\u001b[43m \u001b[49m\u001b[38;5;28;43mself\u001b[39;49m\u001b[43m.\u001b[49m\u001b[43mspan_tokenize\u001b[49m\u001b[43m(\u001b[49m\u001b[43mtext\u001b[49m\u001b[43m,\u001b[49m\u001b[43m \u001b[49m\u001b[43mrealign_boundaries\u001b[49m\u001b[43m)\u001b[49m\u001b[43m]\u001b[49m\n",
      "\u001b[36mFile \u001b[39m\u001b[32m~\\AppData\\Roaming\\Python\\Python313\\site-packages\\nltk\\tokenize\\punkt.py:1328\u001b[39m, in \u001b[36mPunktSentenceTokenizer.span_tokenize\u001b[39m\u001b[34m(self, text, realign_boundaries)\u001b[39m\n\u001b[32m   1326\u001b[39m \u001b[38;5;28;01mif\u001b[39;00m realign_boundaries:\n\u001b[32m   1327\u001b[39m     slices = \u001b[38;5;28mself\u001b[39m._realign_boundaries(text, slices)\n\u001b[32m-> \u001b[39m\u001b[32m1328\u001b[39m \u001b[43m\u001b[49m\u001b[38;5;28;43;01mfor\u001b[39;49;00m\u001b[43m \u001b[49m\u001b[43msentence\u001b[49m\u001b[43m \u001b[49m\u001b[38;5;129;43;01min\u001b[39;49;00m\u001b[43m \u001b[49m\u001b[43mslices\u001b[49m\u001b[43m:\u001b[49m\n\u001b[32m   1329\u001b[39m \u001b[43m    \u001b[49m\u001b[38;5;28;43;01myield\u001b[39;49;00m\u001b[43m \u001b[49m\u001b[43m(\u001b[49m\u001b[43msentence\u001b[49m\u001b[43m.\u001b[49m\u001b[43mstart\u001b[49m\u001b[43m,\u001b[49m\u001b[43m \u001b[49m\u001b[43msentence\u001b[49m\u001b[43m.\u001b[49m\u001b[43mstop\u001b[49m\u001b[43m)\u001b[49m\n",
      "\u001b[36mFile \u001b[39m\u001b[32m~\\AppData\\Roaming\\Python\\Python313\\site-packages\\nltk\\tokenize\\punkt.py:1457\u001b[39m, in \u001b[36mPunktSentenceTokenizer._realign_boundaries\u001b[39m\u001b[34m(self, text, slices)\u001b[39m\n\u001b[32m   1444\u001b[39m \u001b[38;5;250m\u001b[39m\u001b[33;03m\"\"\"\u001b[39;00m\n\u001b[32m   1445\u001b[39m \u001b[33;03mAttempts to realign punctuation that falls after the period but\u001b[39;00m\n\u001b[32m   1446\u001b[39m \u001b[33;03mshould otherwise be included in the same sentence.\u001b[39;00m\n\u001b[32m   (...)\u001b[39m\u001b[32m   1454\u001b[39m \u001b[33;03m    [\"(Sent1.)\", \"Sent2.\"].\u001b[39;00m\n\u001b[32m   1455\u001b[39m \u001b[33;03m\"\"\"\u001b[39;00m\n\u001b[32m   1456\u001b[39m realign = \u001b[32m0\u001b[39m\n\u001b[32m-> \u001b[39m\u001b[32m1457\u001b[39m \u001b[43m\u001b[49m\u001b[38;5;28;43;01mfor\u001b[39;49;00m\u001b[43m \u001b[49m\u001b[43msentence1\u001b[49m\u001b[43m,\u001b[49m\u001b[43m \u001b[49m\u001b[43msentence2\u001b[49m\u001b[43m \u001b[49m\u001b[38;5;129;43;01min\u001b[39;49;00m\u001b[43m \u001b[49m\u001b[43m_pair_iter\u001b[49m\u001b[43m(\u001b[49m\u001b[43mslices\u001b[49m\u001b[43m)\u001b[49m\u001b[43m:\u001b[49m\n\u001b[32m   1458\u001b[39m \u001b[43m    \u001b[49m\u001b[43msentence1\u001b[49m\u001b[43m \u001b[49m\u001b[43m=\u001b[49m\u001b[43m \u001b[49m\u001b[38;5;28;43mslice\u001b[39;49m\u001b[43m(\u001b[49m\u001b[43msentence1\u001b[49m\u001b[43m.\u001b[49m\u001b[43mstart\u001b[49m\u001b[43m \u001b[49m\u001b[43m+\u001b[49m\u001b[43m \u001b[49m\u001b[43mrealign\u001b[49m\u001b[43m,\u001b[49m\u001b[43m \u001b[49m\u001b[43msentence1\u001b[49m\u001b[43m.\u001b[49m\u001b[43mstop\u001b[49m\u001b[43m)\u001b[49m\n\u001b[32m   1459\u001b[39m \u001b[43m    \u001b[49m\u001b[38;5;28;43;01mif\u001b[39;49;00m\u001b[43m \u001b[49m\u001b[38;5;129;43;01mnot\u001b[39;49;00m\u001b[43m \u001b[49m\u001b[43msentence2\u001b[49m\u001b[43m:\u001b[49m\n",
      "\u001b[36mFile \u001b[39m\u001b[32m~\\AppData\\Roaming\\Python\\Python313\\site-packages\\nltk\\tokenize\\punkt.py:321\u001b[39m, in \u001b[36m_pair_iter\u001b[39m\u001b[34m(iterator)\u001b[39m\n\u001b[32m    319\u001b[39m iterator = \u001b[38;5;28miter\u001b[39m(iterator)\n\u001b[32m    320\u001b[39m \u001b[38;5;28;01mtry\u001b[39;00m:\n\u001b[32m--> \u001b[39m\u001b[32m321\u001b[39m     prev = \u001b[38;5;28;43mnext\u001b[39;49m\u001b[43m(\u001b[49m\u001b[43miterator\u001b[49m\u001b[43m)\u001b[49m\n\u001b[32m    322\u001b[39m \u001b[38;5;28;01mexcept\u001b[39;00m \u001b[38;5;167;01mStopIteration\u001b[39;00m:\n\u001b[32m    323\u001b[39m     \u001b[38;5;28;01mreturn\u001b[39;00m\n",
      "\u001b[36mFile \u001b[39m\u001b[32m~\\AppData\\Roaming\\Python\\Python313\\site-packages\\nltk\\tokenize\\punkt.py:1429\u001b[39m, in \u001b[36mPunktSentenceTokenizer._slices_from_text\u001b[39m\u001b[34m(self, text)\u001b[39m\n\u001b[32m   1427\u001b[39m \u001b[38;5;28;01mdef\u001b[39;00m\u001b[38;5;250m \u001b[39m\u001b[34m_slices_from_text\u001b[39m(\u001b[38;5;28mself\u001b[39m, text: \u001b[38;5;28mstr\u001b[39m) -> Iterator[\u001b[38;5;28mslice\u001b[39m]:\n\u001b[32m   1428\u001b[39m     last_break = \u001b[32m0\u001b[39m\n\u001b[32m-> \u001b[39m\u001b[32m1429\u001b[39m \u001b[43m    \u001b[49m\u001b[38;5;28;43;01mfor\u001b[39;49;00m\u001b[43m \u001b[49m\u001b[43mmatch\u001b[49m\u001b[43m,\u001b[49m\u001b[43m \u001b[49m\u001b[43mcontext\u001b[49m\u001b[43m \u001b[49m\u001b[38;5;129;43;01min\u001b[39;49;00m\u001b[43m \u001b[49m\u001b[38;5;28;43mself\u001b[39;49m\u001b[43m.\u001b[49m\u001b[43m_match_potential_end_contexts\u001b[49m\u001b[43m(\u001b[49m\u001b[43mtext\u001b[49m\u001b[43m)\u001b[49m\u001b[43m:\u001b[49m\n\u001b[32m   1430\u001b[39m \u001b[43m        \u001b[49m\u001b[38;5;28;43;01mif\u001b[39;49;00m\u001b[43m \u001b[49m\u001b[38;5;28;43mself\u001b[39;49m\u001b[43m.\u001b[49m\u001b[43mtext_contains_sentbreak\u001b[49m\u001b[43m(\u001b[49m\u001b[43mcontext\u001b[49m\u001b[43m)\u001b[49m\u001b[43m:\u001b[49m\n\u001b[32m   1431\u001b[39m \u001b[43m            \u001b[49m\u001b[38;5;28;43;01myield\u001b[39;49;00m\u001b[43m \u001b[49m\u001b[38;5;28;43mslice\u001b[39;49m\u001b[43m(\u001b[49m\u001b[43mlast_break\u001b[49m\u001b[43m,\u001b[49m\u001b[43m \u001b[49m\u001b[43mmatch\u001b[49m\u001b[43m.\u001b[49m\u001b[43mend\u001b[49m\u001b[43m(\u001b[49m\u001b[43m)\u001b[49m\u001b[43m)\u001b[49m\n",
      "\u001b[36mFile \u001b[39m\u001b[32m~\\AppData\\Roaming\\Python\\Python313\\site-packages\\nltk\\tokenize\\punkt.py:1394\u001b[39m, in \u001b[36mPunktSentenceTokenizer._match_potential_end_contexts\u001b[39m\u001b[34m(self, text)\u001b[39m\n\u001b[32m   1392\u001b[39m previous_slice = \u001b[38;5;28mslice\u001b[39m(\u001b[32m0\u001b[39m, \u001b[32m0\u001b[39m)\n\u001b[32m   1393\u001b[39m previous_match = \u001b[38;5;28;01mNone\u001b[39;00m\n\u001b[32m-> \u001b[39m\u001b[32m1394\u001b[39m \u001b[38;5;28;01mfor\u001b[39;00m match \u001b[38;5;129;01min\u001b[39;00m \u001b[38;5;28;43mself\u001b[39;49m\u001b[43m.\u001b[49m\u001b[43m_lang_vars\u001b[49m\u001b[43m.\u001b[49m\u001b[43mperiod_context_re\u001b[49m\u001b[43m(\u001b[49m\u001b[43m)\u001b[49m\u001b[43m.\u001b[49m\u001b[43mfinditer\u001b[49m\u001b[43m(\u001b[49m\u001b[43mtext\u001b[49m\u001b[43m)\u001b[49m:\n\u001b[32m   1395\u001b[39m     \u001b[38;5;66;03m# Get the slice of the previous word\u001b[39;00m\n\u001b[32m   1396\u001b[39m     before_text = text[previous_slice.stop : match.start()]\n\u001b[32m   1397\u001b[39m     index_after_last_space = \u001b[38;5;28mself\u001b[39m._get_last_whitespace_index(before_text)\n",
      "\u001b[31mTypeError\u001b[39m: expected string or bytes-like object, got 'method'"
     ]
    }
   ],
   "source": [
    "tokens=word_tokenize(content)\n",
    "print(tokens)"
   ]
  },
  {
   "cell_type": "code",
   "execution_count": null,
   "id": "8227e17a-19d3-4580-ba25-43111f0c9665",
   "metadata": {
    "scrolled": true
   },
   "outputs": [],
   "source": [
    "tokens=content.split()\n",
    "tokens"
   ]
  },
  {
   "cell_type": "code",
   "execution_count": null,
   "id": "ca8f8c10-1217-4f37-ae8f-adac89066be2",
   "metadata": {},
   "outputs": [],
   "source": [
    "# Most Frequent \n",
    "\n",
    "from nltk.probability import FreqDist\n",
    "frequency=FreqDist(tokens)\n",
    "print(frequency)"
   ]
  },
  {
   "cell_type": "code",
   "execution_count": null,
   "id": "48b563c0-7d03-4b90-b190-5e2e182a00ca",
   "metadata": {},
   "outputs": [],
   "source": [
    "here in the above output out of 150 outcomes 105 are unique "
   ]
  },
  {
   "cell_type": "code",
   "execution_count": null,
   "id": "bdca69a0-722c-4185-8651-e218f99a312e",
   "metadata": {},
   "outputs": [],
   "source": [
    "frequency.most_common(5)"
   ]
  },
  {
   "cell_type": "code",
   "execution_count": null,
   "id": "246919a7-790d-432f-b8cd-7568946b08f1",
   "metadata": {},
   "outputs": [],
   "source": [
    "frequency.most_common(10) # top 10 most common repeated data "
   ]
  },
  {
   "cell_type": "code",
   "execution_count": null,
   "id": "690d8bcb-3754-46b2-8836-27d8d42d85f3",
   "metadata": {},
   "outputs": [],
   "source": [
    "#Punctaution Removal \n",
    "import string\n"
   ]
  },
  {
   "cell_type": "code",
   "execution_count": null,
   "id": "f8141a67-75ff-4877-9597-7885b940ffbf",
   "metadata": {},
   "outputs": [],
   "source": [
    "string.punctuation"
   ]
  },
  {
   "cell_type": "code",
   "execution_count": null,
   "id": "ca7c2472-4fd4-42f3-935f-d4e163a93783",
   "metadata": {},
   "outputs": [],
   "source": [
    "translator=str.maketrans('','',string.punctuation)\n",
    "# if the liyako token cahi string .puncuation ma xa vanyue teslai chai \n",
    "# empty ley represent '','' yeni haruley 2 ota space ko matlab yauta ley chai represent garne arko ley chai replace garne \n",
    "# "
   ]
  },
  {
   "cell_type": "code",
   "execution_count": null,
   "id": "21676341-cd42-4cc3-84ac-0ba29acc4627",
   "metadata": {},
   "outputs": [],
   "source": [
    "after_content=content.translate(translator)"
   ]
  },
  {
   "cell_type": "code",
   "execution_count": null,
   "id": "e3dc959c-d658-40a4-aab8-3b143ceef143",
   "metadata": {},
   "outputs": [],
   "source": [
    "after_content"
   ]
  },
  {
   "cell_type": "code",
   "execution_count": null,
   "id": "fb84e139-25f6-4e69-be33-fe1be183ff0d",
   "metadata": {},
   "outputs": [],
   "source": [
    "tokens=content.split()\n",
    "tokens"
   ]
  },
  {
   "cell_type": "code",
   "execution_count": null,
   "id": "ee05615f-4370-48c2-815e-3de24865895c",
   "metadata": {},
   "outputs": [],
   "source": []
  },
  {
   "cell_type": "code",
   "execution_count": null,
   "id": "83b3ce56-9852-41fe-909b-feeec3272ef8",
   "metadata": {},
   "outputs": [],
   "source": []
  },
  {
   "cell_type": "code",
   "execution_count": null,
   "id": "f9da1582-b4ce-46af-a73e-f577e4f97d66",
   "metadata": {},
   "outputs": [],
   "source": [
    "# /n is the indication of the new line and all the other puncuation are removed from here \n",
    "# after using content.translator"
   ]
  },
  {
   "cell_type": "code",
   "execution_count": null,
   "id": "4b3dfcda-0f76-48cf-a9b2-7021b8994130",
   "metadata": {},
   "outputs": [],
   "source": [
    "stopwords => a, an, the , but(preposition and conjuction)\n",
    "# stopwords use garne import corpus garno parxa\n",
    "# corpus is the collection of the documents "
   ]
  },
  {
   "cell_type": "code",
   "execution_count": null,
   "id": "0a3c9ee6-346b-4ed2-8319-4df2d9507d2a",
   "metadata": {},
   "outputs": [],
   "source": [
    "import nltk.corpus "
   ]
  },
  {
   "cell_type": "code",
   "execution_count": null,
   "id": "12c4b7c5-c6b8-4e47-92af-eaa54bf71706",
   "metadata": {},
   "outputs": [],
   "source": [
    "from nltk.corpus import stopwords"
   ]
  },
  {
   "cell_type": "code",
   "execution_count": null,
   "id": "7518d31a-873b-400c-8cff-eb6b7bfed494",
   "metadata": {},
   "outputs": [],
   "source": [
    "nltk.download('stopwords')"
   ]
  },
  {
   "cell_type": "code",
   "execution_count": null,
   "id": "15674489-003f-47ab-8a07-27b5b97b6425",
   "metadata": {},
   "outputs": [],
   "source": [
    "stop_words=set(stopwords.words('english')) # english ko stopwords lai set garyako"
   ]
  },
  {
   "cell_type": "code",
   "execution_count": null,
   "id": "9824e156-8c86-4b07-a9a0-d56e14672353",
   "metadata": {},
   "outputs": [],
   "source": [
    "stop_words"
   ]
  },
  {
   "cell_type": "code",
   "execution_count": 18,
   "id": "4b3ef515-db25-4ee5-8677-0cda38ebfb05",
   "metadata": {},
   "outputs": [
    {
     "ename": "NameError",
     "evalue": "name 'tokens' is not defined",
     "output_type": "error",
     "traceback": [
      "\u001b[31m---------------------------------------------------------------------------\u001b[39m",
      "\u001b[31mNameError\u001b[39m                                 Traceback (most recent call last)",
      "\u001b[36mCell\u001b[39m\u001b[36m \u001b[39m\u001b[32mIn[18]\u001b[39m\u001b[32m, line 2\u001b[39m\n\u001b[32m      1\u001b[39m after_stopwords=[]\n\u001b[32m----> \u001b[39m\u001b[32m2\u001b[39m \u001b[38;5;28;01mfor\u001b[39;00m word \u001b[38;5;129;01min\u001b[39;00m \u001b[43mtokens\u001b[49m:\n\u001b[32m      3\u001b[39m     \u001b[38;5;28;01mif\u001b[39;00m word \u001b[38;5;129;01mnot\u001b[39;00m \u001b[38;5;129;01min\u001b[39;00m stop_words:\n\u001b[32m      4\u001b[39m         after_stopwords.append(word)\n",
      "\u001b[31mNameError\u001b[39m: name 'tokens' is not defined"
     ]
    }
   ],
   "source": [
    "after_stopwords=[]\n",
    "for word in tokens:\n",
    "    if word not in stop_words:\n",
    "        after_stopwords.append(word)\n",
    "        "
   ]
  },
  {
   "cell_type": "code",
   "execution_count": 17,
   "id": "3de1dbca-bbbd-4ee6-b32d-90e5f0fa0dd6",
   "metadata": {},
   "outputs": [
    {
     "ename": "NameError",
     "evalue": "name 'after_stopwords' is not defined",
     "output_type": "error",
     "traceback": [
      "\u001b[31m---------------------------------------------------------------------------\u001b[39m",
      "\u001b[31mNameError\u001b[39m                                 Traceback (most recent call last)",
      "\u001b[36mCell\u001b[39m\u001b[36m \u001b[39m\u001b[32mIn[17]\u001b[39m\u001b[32m, line 1\u001b[39m\n\u001b[32m----> \u001b[39m\u001b[32m1\u001b[39m \u001b[43mafter_stopwords\u001b[49m\n",
      "\u001b[31mNameError\u001b[39m: name 'after_stopwords' is not defined"
     ]
    }
   ],
   "source": [
    "after_stopwords"
   ]
  },
  {
   "cell_type": "markdown",
   "id": "96e376b3-e578-4a7c-8f3a-b58fbf8722a4",
   "metadata": {},
   "source": [
    "line 42 number logic is for removing the stopword from the text"
   ]
  },
  {
   "cell_type": "markdown",
   "id": "2eba0ff1-c870-4249-a872-7db234b8ba5c",
   "metadata": {},
   "source": [
    "if we want this stopwords in the paragraph we have to use the join with the help of space"
   ]
  },
  {
   "cell_type": "code",
   "execution_count": 35,
   "id": "353796e8-0c8a-4910-963b-33c45242a4ed",
   "metadata": {},
   "outputs": [],
   "source": [
    "final_content=' '.join(after_stopwords)\n",
    "\n",
    "#joins a list of words (after removing stopwords) into a single string, where each word is separated by a space.'space'"
   ]
  },
  {
   "cell_type": "code",
   "execution_count": 36,
   "id": "c31ffeac-0e9f-4ee6-bb5c-80b92a84f293",
   "metadata": {},
   "outputs": [
    {
     "data": {
      "text/plain": [
       "''"
      ]
     },
     "execution_count": 36,
     "metadata": {},
     "output_type": "execute_result"
    }
   ],
   "source": [
    "final_content"
   ]
  },
  {
   "cell_type": "code",
   "execution_count": 37,
   "id": "ebd72833-9296-4423-a740-de1645f326c2",
   "metadata": {},
   "outputs": [],
   "source": [
    "  #list compherension\n",
    "number=[2,3,4,5,6]"
   ]
  },
  {
   "cell_type": "code",
   "execution_count": 38,
   "id": "e6c0b7b6-16e1-47ed-ba19-a5102ad5f1db",
   "metadata": {},
   "outputs": [],
   "source": [
    "sq_list=[]\n",
    "for x in number:\n",
    "    sq=x*x\n",
    "    sq_list.append(sq)\n",
    "    "
   ]
  },
  {
   "cell_type": "code",
   "execution_count": 23,
   "id": "265e0432-1338-491f-b1bd-ef7dcdf2e0ff",
   "metadata": {},
   "outputs": [
    {
     "data": {
      "text/plain": [
       "[4, 9, 16, 25, 36]"
      ]
     },
     "execution_count": 23,
     "metadata": {},
     "output_type": "execute_result"
    }
   ],
   "source": [
    "sq_list"
   ]
  },
  {
   "cell_type": "code",
   "execution_count": 24,
   "id": "9d8496d2-3ebf-4832-98ca-ecfc8e76c891",
   "metadata": {},
   "outputs": [],
   "source": [
    "# yeslai 1 line ko logic ma ni garana sakinccha list comphernsion use garyarw"
   ]
  },
  {
   "cell_type": "code",
   "execution_count": 25,
   "id": "9570484d-92c6-4f48-81c2-8e5c4fbdc697",
   "metadata": {},
   "outputs": [],
   "source": [
    "# List comphernsion\n",
    "sq_list=[x**2 for x in number]"
   ]
  },
  {
   "cell_type": "code",
   "execution_count": 26,
   "id": "48eb2e63-2f32-47a9-bcef-55926e0f99cf",
   "metadata": {},
   "outputs": [
    {
     "data": {
      "text/plain": [
       "[4, 9, 16, 25, 36]"
      ]
     },
     "execution_count": 26,
     "metadata": {},
     "output_type": "execute_result"
    }
   ],
   "source": [
    "sq_list"
   ]
  },
  {
   "cell_type": "code",
   "execution_count": 27,
   "id": "ad0d0ce3-a244-499c-9aca-279e61e7d42e",
   "metadata": {},
   "outputs": [],
   "source": [
    "# Assignment for the spacy "
   ]
  },
  {
   "cell_type": "code",
   "execution_count": 28,
   "id": "0820fa32-b66a-48fb-9dce-23b410cb190a",
   "metadata": {
    "collapsed": true,
    "jupyter": {
     "outputs_hidden": true
    }
   },
   "outputs": [
    {
     "name": "stdout",
     "output_type": "stream",
     "text": [
      "Defaulting to user installation because normal site-packages is not writeable\n",
      "Requirement already satisfied: spacy in c:\\users\\acer\\appdata\\roaming\\python\\python313\\site-packages (3.8.7)\n",
      "Requirement already satisfied: spacy-legacy<3.1.0,>=3.0.11 in c:\\users\\acer\\appdata\\roaming\\python\\python313\\site-packages (from spacy) (3.0.12)\n",
      "Requirement already satisfied: spacy-loggers<2.0.0,>=1.0.0 in c:\\users\\acer\\appdata\\roaming\\python\\python313\\site-packages (from spacy) (1.0.5)\n",
      "Requirement already satisfied: murmurhash<1.1.0,>=0.28.0 in c:\\users\\acer\\appdata\\roaming\\python\\python313\\site-packages (from spacy) (1.0.13)\n",
      "Requirement already satisfied: cymem<2.1.0,>=2.0.2 in c:\\users\\acer\\appdata\\roaming\\python\\python313\\site-packages (from spacy) (2.0.11)\n",
      "Requirement already satisfied: preshed<3.1.0,>=3.0.2 in c:\\users\\acer\\appdata\\roaming\\python\\python313\\site-packages (from spacy) (3.0.10)\n",
      "Requirement already satisfied: thinc<8.4.0,>=8.3.4 in c:\\users\\acer\\appdata\\roaming\\python\\python313\\site-packages (from spacy) (8.3.6)\n",
      "Requirement already satisfied: wasabi<1.2.0,>=0.9.1 in c:\\users\\acer\\appdata\\roaming\\python\\python313\\site-packages (from spacy) (1.1.3)\n",
      "Requirement already satisfied: srsly<3.0.0,>=2.4.3 in c:\\users\\acer\\appdata\\roaming\\python\\python313\\site-packages (from spacy) (2.5.1)\n",
      "Requirement already satisfied: catalogue<2.1.0,>=2.0.6 in c:\\users\\acer\\appdata\\roaming\\python\\python313\\site-packages (from spacy) (2.0.10)\n",
      "Requirement already satisfied: weasel<0.5.0,>=0.1.0 in c:\\users\\acer\\appdata\\roaming\\python\\python313\\site-packages (from spacy) (0.4.1)\n",
      "Requirement already satisfied: typer<1.0.0,>=0.3.0 in c:\\users\\acer\\appdata\\roaming\\python\\python313\\site-packages (from spacy) (0.16.0)\n",
      "Requirement already satisfied: tqdm<5.0.0,>=4.38.0 in c:\\users\\acer\\appdata\\roaming\\python\\python313\\site-packages (from spacy) (4.67.1)\n",
      "Requirement already satisfied: numpy>=1.19.0 in c:\\users\\acer\\appdata\\roaming\\python\\python313\\site-packages (from spacy) (2.2.1)\n",
      "Requirement already satisfied: requests<3.0.0,>=2.13.0 in c:\\users\\acer\\appdata\\roaming\\python\\python313\\site-packages (from spacy) (2.32.3)\n",
      "Requirement already satisfied: pydantic!=1.8,!=1.8.1,<3.0.0,>=1.7.4 in c:\\users\\acer\\appdata\\roaming\\python\\python313\\site-packages (from spacy) (2.11.7)\n",
      "Requirement already satisfied: jinja2 in c:\\users\\acer\\appdata\\roaming\\python\\python313\\site-packages (from spacy) (3.1.6)\n",
      "Requirement already satisfied: setuptools in c:\\users\\acer\\appdata\\roaming\\python\\python313\\site-packages (from spacy) (78.1.0)\n",
      "Requirement already satisfied: packaging>=20.0 in c:\\users\\acer\\appdata\\roaming\\python\\python313\\site-packages (from spacy) (24.2)\n",
      "Requirement already satisfied: langcodes<4.0.0,>=3.2.0 in c:\\users\\acer\\appdata\\roaming\\python\\python313\\site-packages (from spacy) (3.5.0)\n",
      "Requirement already satisfied: language-data>=1.2 in c:\\users\\acer\\appdata\\roaming\\python\\python313\\site-packages (from langcodes<4.0.0,>=3.2.0->spacy) (1.3.0)\n",
      "Requirement already satisfied: annotated-types>=0.6.0 in c:\\users\\acer\\appdata\\roaming\\python\\python313\\site-packages (from pydantic!=1.8,!=1.8.1,<3.0.0,>=1.7.4->spacy) (0.7.0)\n",
      "Requirement already satisfied: pydantic-core==2.33.2 in c:\\users\\acer\\appdata\\roaming\\python\\python313\\site-packages (from pydantic!=1.8,!=1.8.1,<3.0.0,>=1.7.4->spacy) (2.33.2)\n",
      "Requirement already satisfied: typing-extensions>=4.12.2 in c:\\users\\acer\\appdata\\roaming\\python\\python313\\site-packages (from pydantic!=1.8,!=1.8.1,<3.0.0,>=1.7.4->spacy) (4.13.2)\n",
      "Requirement already satisfied: typing-inspection>=0.4.0 in c:\\users\\acer\\appdata\\roaming\\python\\python313\\site-packages (from pydantic!=1.8,!=1.8.1,<3.0.0,>=1.7.4->spacy) (0.4.1)\n",
      "Requirement already satisfied: charset-normalizer<4,>=2 in c:\\users\\acer\\appdata\\roaming\\python\\python313\\site-packages (from requests<3.0.0,>=2.13.0->spacy) (3.4.1)\n",
      "Requirement already satisfied: idna<4,>=2.5 in c:\\users\\acer\\appdata\\roaming\\python\\python313\\site-packages (from requests<3.0.0,>=2.13.0->spacy) (3.10)\n",
      "Requirement already satisfied: urllib3<3,>=1.21.1 in c:\\users\\acer\\appdata\\roaming\\python\\python313\\site-packages (from requests<3.0.0,>=2.13.0->spacy) (2.4.0)\n",
      "Requirement already satisfied: certifi>=2017.4.17 in c:\\users\\acer\\appdata\\roaming\\python\\python313\\site-packages (from requests<3.0.0,>=2.13.0->spacy) (2025.1.31)\n",
      "Requirement already satisfied: blis<1.4.0,>=1.3.0 in c:\\users\\acer\\appdata\\roaming\\python\\python313\\site-packages (from thinc<8.4.0,>=8.3.4->spacy) (1.3.0)\n",
      "Requirement already satisfied: confection<1.0.0,>=0.0.1 in c:\\users\\acer\\appdata\\roaming\\python\\python313\\site-packages (from thinc<8.4.0,>=8.3.4->spacy) (0.1.5)\n",
      "Requirement already satisfied: colorama in c:\\users\\acer\\appdata\\roaming\\python\\python313\\site-packages (from tqdm<5.0.0,>=4.38.0->spacy) (0.4.6)\n",
      "Requirement already satisfied: click>=8.0.0 in c:\\users\\acer\\appdata\\roaming\\python\\python313\\site-packages (from typer<1.0.0,>=0.3.0->spacy) (8.2.1)\n",
      "Requirement already satisfied: shellingham>=1.3.0 in c:\\users\\acer\\appdata\\roaming\\python\\python313\\site-packages (from typer<1.0.0,>=0.3.0->spacy) (1.5.4)\n",
      "Requirement already satisfied: rich>=10.11.0 in c:\\users\\acer\\appdata\\roaming\\python\\python313\\site-packages (from typer<1.0.0,>=0.3.0->spacy) (14.0.0)\n",
      "Requirement already satisfied: cloudpathlib<1.0.0,>=0.7.0 in c:\\users\\acer\\appdata\\roaming\\python\\python313\\site-packages (from weasel<0.5.0,>=0.1.0->spacy) (0.21.1)\n",
      "Requirement already satisfied: smart-open<8.0.0,>=5.2.1 in c:\\users\\acer\\appdata\\roaming\\python\\python313\\site-packages (from weasel<0.5.0,>=0.1.0->spacy) (7.1.0)\n",
      "Requirement already satisfied: wrapt in c:\\users\\acer\\appdata\\roaming\\python\\python313\\site-packages (from smart-open<8.0.0,>=5.2.1->weasel<0.5.0,>=0.1.0->spacy) (1.17.2)\n",
      "Requirement already satisfied: marisa-trie>=1.1.0 in c:\\users\\acer\\appdata\\roaming\\python\\python313\\site-packages (from language-data>=1.2->langcodes<4.0.0,>=3.2.0->spacy) (1.2.1)\n",
      "Requirement already satisfied: markdown-it-py>=2.2.0 in c:\\users\\acer\\appdata\\roaming\\python\\python313\\site-packages (from rich>=10.11.0->typer<1.0.0,>=0.3.0->spacy) (3.0.0)\n",
      "Requirement already satisfied: pygments<3.0.0,>=2.13.0 in c:\\users\\acer\\appdata\\roaming\\python\\python313\\site-packages (from rich>=10.11.0->typer<1.0.0,>=0.3.0->spacy) (2.19.1)\n",
      "Requirement already satisfied: mdurl~=0.1 in c:\\users\\acer\\appdata\\roaming\\python\\python313\\site-packages (from markdown-it-py>=2.2.0->rich>=10.11.0->typer<1.0.0,>=0.3.0->spacy) (0.1.2)\n",
      "Requirement already satisfied: MarkupSafe>=2.0 in c:\\users\\acer\\appdata\\roaming\\python\\python313\\site-packages (from jinja2->spacy) (3.0.2)\n",
      "Note: you may need to restart the kernel to use updated packages.\n"
     ]
    }
   ],
   "source": [
    "pip install spacy"
   ]
  },
  {
   "cell_type": "code",
   "execution_count": 29,
   "id": "36fd426b-690c-447f-bcc6-71ab99c2a4cd",
   "metadata": {
    "collapsed": true,
    "jupyter": {
     "outputs_hidden": true
    }
   },
   "outputs": [
    {
     "name": "stdout",
     "output_type": "stream",
     "text": [
      "Defaulting to user installation because normal site-packages is not writeable\n",
      "Collecting en-core-web-md==3.8.0\n",
      "  Downloading https://github.com/explosion/spacy-models/releases/download/en_core_web_md-3.8.0/en_core_web_md-3.8.0-py3-none-any.whl (33.5 MB)\n",
      "     ---------------------------------------- 0.0/33.5 MB ? eta -:--:--\n",
      "     ---------------------------------------- 0.3/33.5 MB ? eta -:--:--\n",
      "     - -------------------------------------- 1.3/33.5 MB 6.0 MB/s eta 0:00:06\n",
      "     --- ------------------------------------ 2.9/33.5 MB 6.4 MB/s eta 0:00:05\n",
      "     ----- ---------------------------------- 4.2/33.5 MB 5.9 MB/s eta 0:00:05\n",
      "     ------ --------------------------------- 5.5/33.5 MB 6.1 MB/s eta 0:00:05\n",
      "     ------- -------------------------------- 6.6/33.5 MB 6.0 MB/s eta 0:00:05\n",
      "     --------- ------------------------------ 7.6/33.5 MB 5.9 MB/s eta 0:00:05\n",
      "     ---------- ----------------------------- 8.7/33.5 MB 5.7 MB/s eta 0:00:05\n",
      "     ----------- ---------------------------- 9.7/33.5 MB 5.6 MB/s eta 0:00:05\n",
      "     ------------ --------------------------- 10.7/33.5 MB 5.6 MB/s eta 0:00:05\n",
      "     ------------- -------------------------- 11.5/33.5 MB 5.5 MB/s eta 0:00:04\n",
      "     --------------- ------------------------ 12.6/33.5 MB 5.4 MB/s eta 0:00:04\n",
      "     ---------------- ----------------------- 13.6/33.5 MB 5.3 MB/s eta 0:00:04\n",
      "     ----------------- ---------------------- 14.4/33.5 MB 5.2 MB/s eta 0:00:04\n",
      "     ----------------- ---------------------- 14.9/33.5 MB 5.1 MB/s eta 0:00:04\n",
      "     ------------------ --------------------- 15.7/33.5 MB 4.9 MB/s eta 0:00:04\n",
      "     ------------------- -------------------- 16.3/33.5 MB 4.8 MB/s eta 0:00:04\n",
      "     -------------------- ------------------- 17.0/33.5 MB 4.7 MB/s eta 0:00:04\n",
      "     -------------------- ------------------- 17.6/33.5 MB 4.6 MB/s eta 0:00:04\n",
      "     --------------------- ------------------ 18.4/33.5 MB 4.5 MB/s eta 0:00:04\n",
      "     ---------------------- ----------------- 18.9/33.5 MB 4.5 MB/s eta 0:00:04\n",
      "     ----------------------- ---------------- 19.7/33.5 MB 4.4 MB/s eta 0:00:04\n",
      "     ------------------------ --------------- 20.4/33.5 MB 4.4 MB/s eta 0:00:03\n",
      "     ------------------------- -------------- 21.0/33.5 MB 4.4 MB/s eta 0:00:03\n",
      "     ------------------------- -------------- 21.5/33.5 MB 4.3 MB/s eta 0:00:03\n",
      "     -------------------------- ------------- 22.3/33.5 MB 4.2 MB/s eta 0:00:03\n",
      "     --------------------------- ------------ 22.8/33.5 MB 4.2 MB/s eta 0:00:03\n",
      "     --------------------------- ------------ 23.3/33.5 MB 4.1 MB/s eta 0:00:03\n",
      "     ---------------------------- ----------- 23.9/33.5 MB 4.1 MB/s eta 0:00:03\n",
      "     ----------------------------- ---------- 24.6/33.5 MB 4.0 MB/s eta 0:00:03\n",
      "     ------------------------------ --------- 25.2/33.5 MB 4.0 MB/s eta 0:00:03\n",
      "     ------------------------------ --------- 25.7/33.5 MB 4.0 MB/s eta 0:00:02\n",
      "     ------------------------------- -------- 26.5/33.5 MB 3.9 MB/s eta 0:00:02\n",
      "     -------------------------------- ------- 27.0/33.5 MB 3.9 MB/s eta 0:00:02\n",
      "     --------------------------------- ------ 27.8/33.5 MB 3.9 MB/s eta 0:00:02\n",
      "     --------------------------------- ------ 28.3/33.5 MB 3.9 MB/s eta 0:00:02\n",
      "     ---------------------------------- ----- 29.1/33.5 MB 3.9 MB/s eta 0:00:02\n",
      "     ----------------------------------- ---- 29.9/33.5 MB 3.9 MB/s eta 0:00:01\n",
      "     ------------------------------------ --- 30.4/33.5 MB 3.8 MB/s eta 0:00:01\n",
      "     ------------------------------------ --- 30.7/33.5 MB 3.8 MB/s eta 0:00:01\n",
      "     ------------------------------------- -- 31.2/33.5 MB 3.8 MB/s eta 0:00:01\n",
      "     -------------------------------------- - 32.0/33.5 MB 3.7 MB/s eta 0:00:01\n",
      "     -------------------------------------- - 32.5/33.5 MB 3.7 MB/s eta 0:00:01\n",
      "     ---------------------------------------  33.0/33.5 MB 3.7 MB/s eta 0:00:01\n",
      "     ---------------------------------------  33.3/33.5 MB 3.7 MB/s eta 0:00:01\n",
      "     ---------------------------------------- 33.5/33.5 MB 3.6 MB/s eta 0:00:00\n",
      "\u001b[38;5;2m[+] Download and installation successful\u001b[0m\n",
      "You can now load the package via spacy.load('en_core_web_md')\n"
     ]
    }
   ],
   "source": [
    "!python -m spacy download en_core_web_md\n"
   ]
  },
  {
   "cell_type": "code",
   "execution_count": 30,
   "id": "00e77bf3-8a65-48a4-9d54-c49f11fc7946",
   "metadata": {
    "collapsed": true,
    "jupyter": {
     "outputs_hidden": true
    }
   },
   "outputs": [
    {
     "name": "stdout",
     "output_type": "stream",
     "text": [
      "Defaulting to user installation because normal site-packages is not writeable\n",
      "Collecting en-core-web-sm==3.8.0\n",
      "  Downloading https://github.com/explosion/spacy-models/releases/download/en_core_web_sm-3.8.0/en_core_web_sm-3.8.0-py3-none-any.whl (12.8 MB)\n",
      "     ---------------------------------------- 0.0/12.8 MB ? eta -:--:--\n",
      "      --------------------------------------- 0.3/12.8 MB ? eta -:--:--\n",
      "     --- ------------------------------------ 1.0/12.8 MB 7.1 MB/s eta 0:00:02\n",
      "     ----------- ---------------------------- 3.7/12.8 MB 8.1 MB/s eta 0:00:02\n",
      "     ------------------ --------------------- 5.8/12.8 MB 8.7 MB/s eta 0:00:01\n",
      "     ---------------------- ----------------- 7.1/12.8 MB 8.6 MB/s eta 0:00:01\n",
      "     -------------------------- ------------- 8.4/12.8 MB 7.9 MB/s eta 0:00:01\n",
      "     ---------------------------- ----------- 9.2/12.8 MB 7.2 MB/s eta 0:00:01\n",
      "     ------------------------------- -------- 10.2/12.8 MB 6.8 MB/s eta 0:00:01\n",
      "     ---------------------------------- ----- 11.0/12.8 MB 6.5 MB/s eta 0:00:01\n",
      "     ------------------------------------ --- 11.5/12.8 MB 6.4 MB/s eta 0:00:01\n",
      "     -------------------------------------- - 12.3/12.8 MB 5.9 MB/s eta 0:00:01\n",
      "     ---------------------------------------  12.6/12.8 MB 5.7 MB/s eta 0:00:01\n",
      "     ---------------------------------------- 12.8/12.8 MB 5.4 MB/s eta 0:00:00\n",
      "\u001b[38;5;2m[+] Download and installation successful\u001b[0m\n",
      "You can now load the package via spacy.load('en_core_web_sm')\n"
     ]
    }
   ],
   "source": [
    "!python -m spacy download en_core_web_sm\n"
   ]
  },
  {
   "cell_type": "code",
   "execution_count": 31,
   "id": "30a0ca75-4e54-48f5-9bce-d4f1849aa0a1",
   "metadata": {
    "collapsed": true,
    "jupyter": {
     "outputs_hidden": true
    }
   },
   "outputs": [
    {
     "name": "stdout",
     "output_type": "stream",
     "text": [
      "Defaulting to user installation because normal site-packages is not writeable\n",
      "Collecting en-core-web-lg==3.8.0\n",
      "  Downloading https://github.com/explosion/spacy-models/releases/download/en_core_web_lg-3.8.0/en_core_web_lg-3.8.0-py3-none-any.whl (400.7 MB)\n",
      "     ---------------------------------------- 0.0/400.7 MB ? eta -:--:--\n",
      "     ---------------------------------------- 0.3/400.7 MB ? eta -:--:--\n",
      "     ---------------------------------------- 2.1/400.7 MB 7.8 MB/s eta 0:00:51\n",
      "     ---------------------------------------- 4.5/400.7 MB 9.1 MB/s eta 0:00:44\n",
      "      --------------------------------------- 6.3/400.7 MB 9.0 MB/s eta 0:00:44\n",
      "      --------------------------------------- 7.9/400.7 MB 9.0 MB/s eta 0:00:44\n",
      "      --------------------------------------- 9.7/400.7 MB 8.8 MB/s eta 0:00:45\n",
      "     - ------------------------------------- 11.5/400.7 MB 8.7 MB/s eta 0:00:45\n",
      "     - ------------------------------------- 13.4/400.7 MB 8.6 MB/s eta 0:00:45\n",
      "     - ------------------------------------- 14.7/400.7 MB 8.4 MB/s eta 0:00:46\n",
      "     - ------------------------------------- 16.0/400.7 MB 8.2 MB/s eta 0:00:47\n",
      "     - ------------------------------------- 17.6/400.7 MB 8.1 MB/s eta 0:00:48\n",
      "     - ------------------------------------- 18.9/400.7 MB 8.0 MB/s eta 0:00:48\n",
      "     - ------------------------------------- 20.2/400.7 MB 7.9 MB/s eta 0:00:49\n",
      "     -- ------------------------------------ 21.2/400.7 MB 7.6 MB/s eta 0:00:50\n",
      "     -- ------------------------------------ 22.3/400.7 MB 7.4 MB/s eta 0:00:51\n",
      "     -- ------------------------------------ 23.1/400.7 MB 7.3 MB/s eta 0:00:53\n",
      "     -- ------------------------------------ 23.9/400.7 MB 7.0 MB/s eta 0:00:54\n",
      "     -- ------------------------------------ 24.6/400.7 MB 6.9 MB/s eta 0:00:55\n",
      "     -- ------------------------------------ 25.7/400.7 MB 6.7 MB/s eta 0:00:57\n",
      "     -- ------------------------------------ 26.5/400.7 MB 6.6 MB/s eta 0:00:58\n",
      "     -- ------------------------------------ 27.5/400.7 MB 6.4 MB/s eta 0:00:59\n",
      "     -- ------------------------------------ 28.3/400.7 MB 6.3 MB/s eta 0:00:59\n",
      "     -- ------------------------------------ 29.1/400.7 MB 6.3 MB/s eta 0:01:00\n",
      "     -- ------------------------------------ 30.1/400.7 MB 6.2 MB/s eta 0:01:00\n",
      "     --- ----------------------------------- 31.2/400.7 MB 6.1 MB/s eta 0:01:01\n",
      "     --- ----------------------------------- 32.0/400.7 MB 6.1 MB/s eta 0:01:01\n",
      "     --- ----------------------------------- 33.0/400.7 MB 6.0 MB/s eta 0:01:02\n",
      "     --- ----------------------------------- 33.8/400.7 MB 6.0 MB/s eta 0:01:02\n",
      "     --- ----------------------------------- 34.9/400.7 MB 5.9 MB/s eta 0:01:03\n",
      "     --- ----------------------------------- 35.7/400.7 MB 5.9 MB/s eta 0:01:03\n",
      "     --- ----------------------------------- 36.7/400.7 MB 5.8 MB/s eta 0:01:03\n",
      "     --- ----------------------------------- 37.7/400.7 MB 5.8 MB/s eta 0:01:03\n",
      "     --- ----------------------------------- 38.8/400.7 MB 5.7 MB/s eta 0:01:04\n",
      "     --- ----------------------------------- 39.6/400.7 MB 5.7 MB/s eta 0:01:04\n",
      "     --- ----------------------------------- 40.6/400.7 MB 5.7 MB/s eta 0:01:04\n",
      "     ---- ---------------------------------- 41.7/400.7 MB 5.7 MB/s eta 0:01:04\n",
      "     ---- ---------------------------------- 42.7/400.7 MB 5.6 MB/s eta 0:01:04\n",
      "     ---- ---------------------------------- 43.8/400.7 MB 5.6 MB/s eta 0:01:04\n",
      "     ---- ---------------------------------- 44.8/400.7 MB 5.6 MB/s eta 0:01:04\n",
      "     ---- ---------------------------------- 45.9/400.7 MB 5.6 MB/s eta 0:01:04\n",
      "     ---- ---------------------------------- 46.9/400.7 MB 5.6 MB/s eta 0:01:04\n",
      "     ---- ---------------------------------- 48.0/400.7 MB 5.6 MB/s eta 0:01:04\n",
      "     ---- ---------------------------------- 49.0/400.7 MB 5.6 MB/s eta 0:01:04\n",
      "     ---- ---------------------------------- 50.1/400.7 MB 5.6 MB/s eta 0:01:04\n",
      "     ----- --------------------------------- 51.4/400.7 MB 5.6 MB/s eta 0:01:03\n",
      "     ----- --------------------------------- 52.4/400.7 MB 5.6 MB/s eta 0:01:03\n",
      "     ----- --------------------------------- 53.5/400.7 MB 5.5 MB/s eta 0:01:03\n",
      "     ----- --------------------------------- 54.5/400.7 MB 5.5 MB/s eta 0:01:03\n",
      "     ----- --------------------------------- 55.8/400.7 MB 5.5 MB/s eta 0:01:03\n",
      "     ----- --------------------------------- 56.6/400.7 MB 5.5 MB/s eta 0:01:03\n",
      "     ----- --------------------------------- 57.4/400.7 MB 5.5 MB/s eta 0:01:03\n",
      "     ----- --------------------------------- 58.5/400.7 MB 5.5 MB/s eta 0:01:03\n",
      "     ----- --------------------------------- 59.8/400.7 MB 5.5 MB/s eta 0:01:03\n",
      "     ----- --------------------------------- 60.8/400.7 MB 5.5 MB/s eta 0:01:03\n",
      "     ------ -------------------------------- 61.9/400.7 MB 5.5 MB/s eta 0:01:02\n",
      "     ------ -------------------------------- 63.2/400.7 MB 5.5 MB/s eta 0:01:02\n",
      "     ------ -------------------------------- 64.5/400.7 MB 5.5 MB/s eta 0:01:02\n",
      "     ------ -------------------------------- 65.5/400.7 MB 5.5 MB/s eta 0:01:01\n",
      "     ------ -------------------------------- 66.6/400.7 MB 5.5 MB/s eta 0:01:01\n",
      "     ------ -------------------------------- 67.9/400.7 MB 5.5 MB/s eta 0:01:01\n",
      "     ------ -------------------------------- 69.2/400.7 MB 5.5 MB/s eta 0:01:01\n",
      "     ------ -------------------------------- 70.5/400.7 MB 5.5 MB/s eta 0:01:00\n",
      "     ------ -------------------------------- 71.8/400.7 MB 5.5 MB/s eta 0:01:00\n",
      "     ------- ------------------------------- 73.1/400.7 MB 5.5 MB/s eta 0:01:00\n",
      "     ------- ------------------------------- 74.4/400.7 MB 5.6 MB/s eta 0:00:59\n",
      "     ------- ------------------------------- 75.5/400.7 MB 5.6 MB/s eta 0:00:59\n",
      "     ------- ------------------------------- 76.5/400.7 MB 5.6 MB/s eta 0:00:59\n",
      "     ------- ------------------------------- 77.6/400.7 MB 5.5 MB/s eta 0:00:59\n",
      "     ------- ------------------------------- 78.6/400.7 MB 5.5 MB/s eta 0:00:59\n",
      "     ------- ------------------------------- 80.0/400.7 MB 5.5 MB/s eta 0:00:58\n",
      "     ------- ------------------------------- 81.0/400.7 MB 5.5 MB/s eta 0:00:58\n",
      "     ------- ------------------------------- 82.1/400.7 MB 5.5 MB/s eta 0:00:58\n",
      "     -------- ------------------------------ 83.1/400.7 MB 5.5 MB/s eta 0:00:58\n",
      "     -------- ------------------------------ 83.9/400.7 MB 5.5 MB/s eta 0:00:58\n",
      "     -------- ------------------------------ 84.9/400.7 MB 5.5 MB/s eta 0:00:58\n",
      "     -------- ------------------------------ 85.7/400.7 MB 5.5 MB/s eta 0:00:58\n",
      "     -------- ------------------------------ 86.2/400.7 MB 5.4 MB/s eta 0:00:58\n",
      "     -------- ------------------------------ 86.8/400.7 MB 5.4 MB/s eta 0:00:59\n",
      "     -------- ------------------------------ 87.6/400.7 MB 5.4 MB/s eta 0:00:59\n",
      "     -------- ------------------------------ 87.8/400.7 MB 5.3 MB/s eta 0:00:59\n",
      "     -------- ------------------------------ 88.1/400.7 MB 5.3 MB/s eta 0:00:59\n",
      "     -------- ------------------------------ 88.3/400.7 MB 5.3 MB/s eta 0:01:00\n",
      "     -------- ------------------------------ 88.6/400.7 MB 5.2 MB/s eta 0:01:00\n",
      "     -------- ------------------------------ 89.1/400.7 MB 5.1 MB/s eta 0:01:01\n",
      "     -------- ------------------------------ 89.1/400.7 MB 5.1 MB/s eta 0:01:01\n",
      "     -------- ------------------------------ 89.4/400.7 MB 5.1 MB/s eta 0:01:02\n",
      "     -------- ------------------------------ 89.7/400.7 MB 5.0 MB/s eta 0:01:02\n",
      "     -------- ------------------------------ 89.9/400.7 MB 5.0 MB/s eta 0:01:03\n",
      "     -------- ------------------------------ 89.9/400.7 MB 5.0 MB/s eta 0:01:03\n",
      "     -------- ------------------------------ 90.2/400.7 MB 4.9 MB/s eta 0:01:04\n",
      "     -------- ------------------------------ 90.4/400.7 MB 4.8 MB/s eta 0:01:05\n",
      "     -------- ------------------------------ 90.4/400.7 MB 4.8 MB/s eta 0:01:05\n",
      "     -------- ------------------------------ 90.7/400.7 MB 4.8 MB/s eta 0:01:05\n",
      "     -------- ------------------------------ 91.0/400.7 MB 4.7 MB/s eta 0:01:06\n",
      "     -------- ------------------------------ 91.2/400.7 MB 4.7 MB/s eta 0:01:07\n",
      "     -------- ------------------------------ 91.5/400.7 MB 4.6 MB/s eta 0:01:07\n",
      "     -------- ------------------------------ 91.8/400.7 MB 4.6 MB/s eta 0:01:08\n",
      "     -------- ------------------------------ 91.8/400.7 MB 4.6 MB/s eta 0:01:08\n",
      "     -------- ------------------------------ 92.0/400.7 MB 4.5 MB/s eta 0:01:09\n",
      "     -------- ------------------------------ 92.0/400.7 MB 4.5 MB/s eta 0:01:09\n",
      "     -------- ------------------------------ 92.3/400.7 MB 4.4 MB/s eta 0:01:10\n",
      "     -------- ------------------------------ 92.3/400.7 MB 4.4 MB/s eta 0:01:10\n",
      "     --------- ----------------------------- 92.5/400.7 MB 4.4 MB/s eta 0:01:11\n",
      "     --------- ----------------------------- 92.8/400.7 MB 4.3 MB/s eta 0:01:12\n",
      "     --------- ----------------------------- 92.8/400.7 MB 4.3 MB/s eta 0:01:12\n",
      "     --------- ----------------------------- 93.1/400.7 MB 4.3 MB/s eta 0:01:12\n",
      "     --------- ----------------------------- 93.3/400.7 MB 4.2 MB/s eta 0:01:13\n",
      "     --------- ----------------------------- 93.6/400.7 MB 4.2 MB/s eta 0:01:14\n",
      "     --------- ----------------------------- 93.8/400.7 MB 4.2 MB/s eta 0:01:14\n",
      "     --------- ----------------------------- 94.1/400.7 MB 4.1 MB/s eta 0:01:15\n",
      "     --------- ----------------------------- 94.1/400.7 MB 4.1 MB/s eta 0:01:15\n",
      "     --------- ----------------------------- 94.4/400.7 MB 4.1 MB/s eta 0:01:15\n",
      "     --------- ----------------------------- 94.6/400.7 MB 4.1 MB/s eta 0:01:15\n",
      "     --------- ----------------------------- 94.9/400.7 MB 4.1 MB/s eta 0:01:16\n",
      "     --------- ----------------------------- 95.2/400.7 MB 4.0 MB/s eta 0:01:17\n",
      "     --------- ----------------------------- 95.4/400.7 MB 4.0 MB/s eta 0:01:17\n",
      "     --------- ----------------------------- 95.7/400.7 MB 4.0 MB/s eta 0:01:17\n",
      "     --------- ----------------------------- 96.2/400.7 MB 3.9 MB/s eta 0:01:18\n",
      "     --------- ----------------------------- 96.5/400.7 MB 3.9 MB/s eta 0:01:18\n",
      "     --------- ----------------------------- 96.7/400.7 MB 3.9 MB/s eta 0:01:18\n",
      "     --------- ----------------------------- 97.0/400.7 MB 3.9 MB/s eta 0:01:18\n",
      "     --------- ----------------------------- 97.3/400.7 MB 3.9 MB/s eta 0:01:19\n",
      "     --------- ----------------------------- 97.5/400.7 MB 3.9 MB/s eta 0:01:19\n",
      "     --------- ----------------------------- 97.8/400.7 MB 3.8 MB/s eta 0:01:20\n",
      "     --------- ----------------------------- 98.3/400.7 MB 3.8 MB/s eta 0:01:20\n",
      "     --------- ----------------------------- 98.6/400.7 MB 3.8 MB/s eta 0:01:20\n",
      "     --------- ----------------------------- 98.8/400.7 MB 3.8 MB/s eta 0:01:21\n",
      "     --------- ----------------------------- 99.1/400.7 MB 3.8 MB/s eta 0:01:21\n",
      "     --------- ----------------------------- 99.6/400.7 MB 3.7 MB/s eta 0:01:21\n",
      "     --------- ----------------------------- 99.9/400.7 MB 3.7 MB/s eta 0:01:21\n",
      "     --------- ---------------------------- 100.1/400.7 MB 3.7 MB/s eta 0:01:22\n",
      "     --------- ---------------------------- 100.7/400.7 MB 3.7 MB/s eta 0:01:22\n",
      "     --------- ---------------------------- 100.9/400.7 MB 3.7 MB/s eta 0:01:22\n",
      "     --------- ---------------------------- 101.2/400.7 MB 3.7 MB/s eta 0:01:22\n",
      "     --------- ---------------------------- 101.4/400.7 MB 3.6 MB/s eta 0:01:23\n",
      "     --------- ---------------------------- 102.0/400.7 MB 3.6 MB/s eta 0:01:23\n",
      "     --------- ---------------------------- 102.2/400.7 MB 3.6 MB/s eta 0:01:23\n",
      "     --------- ---------------------------- 102.5/400.7 MB 3.6 MB/s eta 0:01:23\n",
      "     --------- ---------------------------- 103.0/400.7 MB 3.6 MB/s eta 0:01:24\n",
      "     --------- ---------------------------- 103.3/400.7 MB 3.6 MB/s eta 0:01:24\n",
      "     --------- ---------------------------- 103.5/400.7 MB 3.6 MB/s eta 0:01:24\n",
      "     --------- ---------------------------- 104.1/400.7 MB 3.5 MB/s eta 0:01:24\n",
      "     --------- ---------------------------- 104.3/400.7 MB 3.5 MB/s eta 0:01:24\n",
      "     --------- ---------------------------- 104.9/400.7 MB 3.5 MB/s eta 0:01:25\n",
      "     --------- ---------------------------- 105.1/400.7 MB 3.5 MB/s eta 0:01:25\n",
      "     ---------- --------------------------- 105.6/400.7 MB 3.5 MB/s eta 0:01:26\n",
      "     ---------- --------------------------- 105.9/400.7 MB 3.4 MB/s eta 0:01:27\n",
      "     ---------- --------------------------- 106.4/400.7 MB 3.3 MB/s eta 0:01:28\n",
      "     ---------- --------------------------- 106.7/400.7 MB 3.3 MB/s eta 0:01:29\n",
      "     ---------- --------------------------- 107.2/400.7 MB 3.3 MB/s eta 0:01:30\n",
      "     ---------- --------------------------- 107.7/400.7 MB 3.2 MB/s eta 0:01:31\n",
      "     ---------- --------------------------- 108.0/400.7 MB 3.2 MB/s eta 0:01:32\n",
      "     ---------- --------------------------- 108.5/400.7 MB 3.1 MB/s eta 0:01:33\n",
      "     ---------- --------------------------- 109.1/400.7 MB 3.1 MB/s eta 0:01:34\n",
      "     ---------- --------------------------- 109.6/400.7 MB 3.1 MB/s eta 0:01:35\n",
      "     ---------- --------------------------- 110.1/400.7 MB 3.0 MB/s eta 0:01:36\n",
      "     ---------- --------------------------- 110.6/400.7 MB 3.0 MB/s eta 0:01:37\n",
      "     ---------- --------------------------- 110.9/400.7 MB 3.0 MB/s eta 0:01:37\n",
      "     ---------- --------------------------- 111.4/400.7 MB 3.0 MB/s eta 0:01:38\n",
      "     ---------- --------------------------- 111.7/400.7 MB 3.0 MB/s eta 0:01:38\n",
      "     ---------- --------------------------- 112.2/400.7 MB 2.9 MB/s eta 0:01:38\n",
      "     ---------- --------------------------- 112.7/400.7 MB 2.9 MB/s eta 0:01:39\n",
      "     ---------- --------------------------- 113.2/400.7 MB 2.9 MB/s eta 0:01:39\n",
      "     ---------- --------------------------- 113.8/400.7 MB 2.9 MB/s eta 0:01:39\n",
      "     ---------- --------------------------- 114.3/400.7 MB 2.9 MB/s eta 0:01:39\n",
      "     ---------- --------------------------- 114.8/400.7 MB 2.9 MB/s eta 0:01:40\n",
      "     ---------- --------------------------- 115.3/400.7 MB 2.9 MB/s eta 0:01:40\n",
      "     ---------- --------------------------- 115.6/400.7 MB 2.9 MB/s eta 0:01:40\n",
      "     ----------- -------------------------- 116.1/400.7 MB 2.8 MB/s eta 0:01:41\n",
      "     ----------- -------------------------- 116.4/400.7 MB 2.8 MB/s eta 0:01:41\n",
      "     ----------- -------------------------- 116.7/400.7 MB 2.8 MB/s eta 0:01:42\n",
      "     ----------- -------------------------- 116.9/400.7 MB 2.8 MB/s eta 0:01:43\n",
      "     ----------- -------------------------- 117.2/400.7 MB 2.8 MB/s eta 0:01:43\n",
      "     ----------- -------------------------- 117.4/400.7 MB 2.7 MB/s eta 0:01:44\n",
      "     ----------- -------------------------- 117.7/400.7 MB 2.7 MB/s eta 0:01:45\n",
      "     ----------- -------------------------- 118.2/400.7 MB 2.7 MB/s eta 0:01:46\n",
      "     ----------- -------------------------- 118.5/400.7 MB 2.7 MB/s eta 0:01:46\n",
      "     ----------- -------------------------- 118.8/400.7 MB 2.7 MB/s eta 0:01:47\n",
      "     ----------- -------------------------- 119.3/400.7 MB 2.6 MB/s eta 0:01:48\n",
      "     ----------- -------------------------- 119.5/400.7 MB 2.6 MB/s eta 0:01:48\n",
      "     ----------- -------------------------- 120.1/400.7 MB 2.6 MB/s eta 0:01:49\n",
      "     ----------- -------------------------- 120.3/400.7 MB 2.6 MB/s eta 0:01:50\n",
      "     ----------- -------------------------- 120.8/400.7 MB 2.5 MB/s eta 0:01:51\n",
      "     ----------- -------------------------- 120.8/400.7 MB 2.5 MB/s eta 0:01:51\n",
      "     ----------- -------------------------- 121.1/400.7 MB 2.5 MB/s eta 0:01:53\n",
      "     ----------- -------------------------- 121.4/400.7 MB 2.4 MB/s eta 0:01:55\n",
      "     ----------- -------------------------- 121.4/400.7 MB 2.4 MB/s eta 0:01:55\n",
      "     ----------- -------------------------- 121.6/400.7 MB 2.4 MB/s eta 0:01:57\n",
      "     ----------- -------------------------- 121.9/400.7 MB 2.4 MB/s eta 0:01:59\n",
      "     ----------- -------------------------- 122.2/400.7 MB 2.3 MB/s eta 0:02:01\n",
      "     ----------- -------------------------- 122.2/400.7 MB 2.3 MB/s eta 0:02:01\n",
      "     ----------- -------------------------- 122.4/400.7 MB 2.3 MB/s eta 0:02:02\n",
      "     ----------- -------------------------- 122.7/400.7 MB 2.2 MB/s eta 0:02:04\n",
      "     ----------- -------------------------- 122.9/400.7 MB 2.2 MB/s eta 0:02:06\n",
      "     ----------- -------------------------- 123.2/400.7 MB 2.2 MB/s eta 0:02:06\n",
      "     ----------- -------------------------- 123.5/400.7 MB 2.2 MB/s eta 0:02:07\n",
      "     ----------- -------------------------- 123.7/400.7 MB 2.2 MB/s eta 0:02:09\n",
      "     ----------- -------------------------- 124.3/400.7 MB 2.1 MB/s eta 0:02:12\n",
      "     ----------- -------------------------- 124.5/400.7 MB 2.1 MB/s eta 0:02:13\n",
      "     ----------- -------------------------- 124.8/400.7 MB 2.1 MB/s eta 0:02:15\n",
      "     ----------- -------------------------- 125.0/400.7 MB 2.0 MB/s eta 0:02:16\n",
      "     ----------- -------------------------- 125.6/400.7 MB 2.0 MB/s eta 0:02:19\n",
      "     ----------- -------------------------- 125.8/400.7 MB 2.0 MB/s eta 0:02:20\n",
      "     ----------- -------------------------- 126.4/400.7 MB 1.9 MB/s eta 0:02:22\n",
      "     ------------ ------------------------- 126.6/400.7 MB 1.9 MB/s eta 0:02:24\n",
      "     ------------ ------------------------- 126.9/400.7 MB 1.9 MB/s eta 0:02:25\n",
      "     ------------ ------------------------- 127.4/400.7 MB 1.9 MB/s eta 0:02:28\n",
      "     ------------ ------------------------- 127.9/400.7 MB 1.8 MB/s eta 0:02:30\n",
      "     ------------ ------------------------- 128.2/400.7 MB 1.8 MB/s eta 0:02:32\n",
      "     ------------ ------------------------- 128.7/400.7 MB 1.8 MB/s eta 0:02:34\n",
      "     ------------ ------------------------- 129.2/400.7 MB 1.7 MB/s eta 0:02:36\n",
      "     ------------ ------------------------- 129.5/400.7 MB 1.7 MB/s eta 0:02:37\n",
      "     ------------ ------------------------- 130.0/400.7 MB 1.7 MB/s eta 0:02:39\n",
      "     ------------ ------------------------- 130.5/400.7 MB 1.7 MB/s eta 0:02:41\n",
      "     ------------ ------------------------- 130.8/400.7 MB 1.7 MB/s eta 0:02:43\n",
      "     ------------ ------------------------- 131.3/400.7 MB 1.6 MB/s eta 0:02:45\n",
      "     ------------ ------------------------- 131.6/400.7 MB 1.6 MB/s eta 0:02:48\n",
      "     ------------ ------------------------- 132.1/400.7 MB 1.6 MB/s eta 0:02:49\n",
      "     ------------ ------------------------- 132.4/400.7 MB 1.6 MB/s eta 0:02:50\n",
      "     ------------ ------------------------- 132.9/400.7 MB 1.6 MB/s eta 0:02:52\n",
      "     ------------ ------------------------- 133.2/400.7 MB 1.6 MB/s eta 0:02:53\n",
      "     ------------ ------------------------- 133.2/400.7 MB 1.6 MB/s eta 0:02:53\n",
      "     ------------ ------------------------- 133.4/400.7 MB 1.5 MB/s eta 0:02:54\n",
      "     ------------ ------------------------- 133.7/400.7 MB 1.5 MB/s eta 0:02:56\n",
      "     ------------ ------------------------- 133.7/400.7 MB 1.5 MB/s eta 0:02:56\n",
      "     ------------ ------------------------- 134.0/400.7 MB 1.5 MB/s eta 0:02:56\n",
      "     ------------ ------------------------- 134.2/400.7 MB 1.5 MB/s eta 0:02:56\n",
      "     ------------ ------------------------- 134.5/400.7 MB 1.5 MB/s eta 0:02:56\n",
      "     ------------ ------------------------- 134.7/400.7 MB 1.5 MB/s eta 0:02:56\n",
      "     ------------ ------------------------- 135.0/400.7 MB 1.5 MB/s eta 0:02:56\n",
      "     ------------ ------------------------- 135.0/400.7 MB 1.5 MB/s eta 0:02:56\n",
      "     ------------ ------------------------- 135.5/400.7 MB 1.5 MB/s eta 0:02:55\n",
      "     ------------ ------------------------- 135.5/400.7 MB 1.5 MB/s eta 0:02:55\n",
      "     ------------ ------------------------- 135.8/400.7 MB 1.5 MB/s eta 0:02:54\n",
      "     ------------ ------------------------- 136.1/400.7 MB 1.5 MB/s eta 0:02:55\n",
      "     ------------ ------------------------- 136.3/400.7 MB 1.5 MB/s eta 0:02:54\n",
      "     ------------ ------------------------- 136.6/400.7 MB 1.5 MB/s eta 0:02:54\n",
      "     ------------ ------------------------- 136.8/400.7 MB 1.5 MB/s eta 0:02:53\n",
      "     ------------- ------------------------ 137.1/400.7 MB 1.5 MB/s eta 0:02:53\n",
      "     ------------- ------------------------ 137.4/400.7 MB 1.5 MB/s eta 0:02:53\n",
      "     ------------- ------------------------ 137.6/400.7 MB 1.5 MB/s eta 0:02:52\n",
      "     ------------- ------------------------ 137.9/400.7 MB 1.5 MB/s eta 0:02:52\n",
      "     ------------- ------------------------ 138.1/400.7 MB 1.5 MB/s eta 0:02:51\n",
      "     ------------- ------------------------ 138.4/400.7 MB 1.5 MB/s eta 0:02:50\n",
      "     ------------- ------------------------ 138.7/400.7 MB 1.6 MB/s eta 0:02:49\n",
      "     ------------- ------------------------ 139.2/400.7 MB 1.6 MB/s eta 0:02:48\n",
      "     ------------- ------------------------ 139.5/400.7 MB 1.6 MB/s eta 0:02:48\n",
      "     ------------- ------------------------ 139.7/400.7 MB 1.6 MB/s eta 0:02:47\n",
      "     ------------- ------------------------ 140.2/400.7 MB 1.6 MB/s eta 0:02:45\n",
      "     ------------- ------------------------ 140.5/400.7 MB 1.6 MB/s eta 0:02:45\n",
      "     ------------- ------------------------ 141.0/400.7 MB 1.6 MB/s eta 0:02:44\n",
      "     ------------- ------------------------ 141.3/400.7 MB 1.6 MB/s eta 0:02:44\n",
      "     ------------- ------------------------ 141.8/400.7 MB 1.6 MB/s eta 0:02:43\n",
      "     ------------- ------------------------ 142.3/400.7 MB 1.6 MB/s eta 0:02:42\n",
      "     ------------- ------------------------ 142.6/400.7 MB 1.6 MB/s eta 0:02:41\n",
      "     ------------- ------------------------ 143.1/400.7 MB 1.6 MB/s eta 0:02:40\n",
      "     ------------- ------------------------ 143.7/400.7 MB 1.6 MB/s eta 0:02:38\n",
      "     ------------- ------------------------ 144.2/400.7 MB 1.6 MB/s eta 0:02:37\n",
      "     ------------- ------------------------ 144.4/400.7 MB 1.6 MB/s eta 0:02:37\n",
      "     ------------- ------------------------ 145.0/400.7 MB 1.6 MB/s eta 0:02:36\n",
      "     ------------- ------------------------ 145.5/400.7 MB 1.7 MB/s eta 0:02:35\n",
      "     ------------- ------------------------ 146.0/400.7 MB 1.7 MB/s eta 0:02:34\n",
      "     ------------- ------------------------ 146.5/400.7 MB 1.7 MB/s eta 0:02:33\n",
      "     ------------- ------------------------ 147.1/400.7 MB 1.7 MB/s eta 0:02:32\n",
      "     ------------- ------------------------ 147.6/400.7 MB 1.7 MB/s eta 0:02:31\n",
      "     -------------- ----------------------- 148.4/400.7 MB 1.7 MB/s eta 0:02:29\n",
      "     -------------- ----------------------- 148.9/400.7 MB 1.7 MB/s eta 0:02:28\n",
      "     -------------- ----------------------- 149.4/400.7 MB 1.7 MB/s eta 0:02:27\n",
      "     -------------- ----------------------- 149.9/400.7 MB 1.7 MB/s eta 0:02:26\n",
      "     -------------- ----------------------- 150.7/400.7 MB 1.7 MB/s eta 0:02:25\n",
      "     -------------- ----------------------- 151.3/400.7 MB 1.7 MB/s eta 0:02:24\n",
      "     -------------- ----------------------- 152.0/400.7 MB 1.8 MB/s eta 0:02:22\n",
      "     -------------- ----------------------- 152.6/400.7 MB 1.8 MB/s eta 0:02:22\n",
      "     -------------- ----------------------- 153.1/400.7 MB 1.8 MB/s eta 0:02:21\n",
      "     -------------- ----------------------- 153.9/400.7 MB 1.8 MB/s eta 0:02:19\n",
      "     -------------- ----------------------- 154.4/400.7 MB 1.8 MB/s eta 0:02:19\n",
      "     -------------- ----------------------- 154.9/400.7 MB 1.8 MB/s eta 0:02:18\n",
      "     -------------- ----------------------- 155.5/400.7 MB 1.8 MB/s eta 0:02:17\n",
      "     -------------- ----------------------- 156.2/400.7 MB 1.8 MB/s eta 0:02:15\n",
      "     -------------- ----------------------- 157.0/400.7 MB 1.8 MB/s eta 0:02:14\n",
      "     -------------- ----------------------- 157.8/400.7 MB 1.8 MB/s eta 0:02:12\n",
      "     --------------- ---------------------- 158.9/400.7 MB 1.9 MB/s eta 0:02:10\n",
      "     --------------- ---------------------- 159.6/400.7 MB 1.9 MB/s eta 0:02:09\n",
      "     --------------- ---------------------- 161.0/400.7 MB 1.9 MB/s eta 0:02:06\n",
      "     --------------- ---------------------- 162.0/400.7 MB 1.9 MB/s eta 0:02:04\n",
      "     --------------- ---------------------- 163.3/400.7 MB 2.0 MB/s eta 0:02:01\n",
      "     --------------- ---------------------- 164.6/400.7 MB 2.0 MB/s eta 0:01:59\n",
      "     --------------- ---------------------- 165.9/400.7 MB 2.0 MB/s eta 0:01:56\n",
      "     --------------- ---------------------- 167.5/400.7 MB 2.1 MB/s eta 0:01:53\n",
      "     ---------------- --------------------- 169.3/400.7 MB 2.1 MB/s eta 0:01:50\n",
      "     ---------------- --------------------- 170.9/400.7 MB 2.2 MB/s eta 0:01:47\n",
      "     ---------------- --------------------- 173.0/400.7 MB 2.2 MB/s eta 0:01:43\n",
      "     ---------------- --------------------- 174.9/400.7 MB 2.3 MB/s eta 0:01:41\n",
      "     ---------------- --------------------- 176.9/400.7 MB 2.3 MB/s eta 0:01:37\n",
      "     ---------------- --------------------- 178.3/400.7 MB 2.3 MB/s eta 0:01:35\n",
      "     ----------------- -------------------- 179.8/400.7 MB 2.4 MB/s eta 0:01:33\n",
      "     ----------------- -------------------- 181.4/400.7 MB 2.4 MB/s eta 0:01:31\n",
      "     ----------------- -------------------- 182.7/400.7 MB 2.4 MB/s eta 0:01:30\n",
      "     ----------------- -------------------- 184.5/400.7 MB 2.5 MB/s eta 0:01:27\n",
      "     ----------------- -------------------- 185.9/400.7 MB 2.5 MB/s eta 0:01:26\n",
      "     ----------------- -------------------- 187.2/400.7 MB 2.5 MB/s eta 0:01:24\n",
      "     ----------------- -------------------- 188.2/400.7 MB 2.6 MB/s eta 0:01:23\n",
      "     ----------------- -------------------- 189.3/400.7 MB 2.6 MB/s eta 0:01:22\n",
      "     ------------------ ------------------- 190.1/400.7 MB 2.6 MB/s eta 0:01:21\n",
      "     ------------------ ------------------- 191.1/400.7 MB 2.6 MB/s eta 0:01:20\n",
      "     ------------------ ------------------- 191.9/400.7 MB 2.6 MB/s eta 0:01:20\n",
      "     ------------------ ------------------- 192.9/400.7 MB 2.7 MB/s eta 0:01:19\n",
      "     ------------------ ------------------- 194.0/400.7 MB 2.7 MB/s eta 0:01:18\n",
      "     ------------------ ------------------- 195.0/400.7 MB 2.7 MB/s eta 0:01:17\n",
      "     ------------------ ------------------- 195.8/400.7 MB 2.7 MB/s eta 0:01:16\n",
      "     ------------------ ------------------- 196.9/400.7 MB 2.7 MB/s eta 0:01:16\n",
      "     ------------------ ------------------- 197.9/400.7 MB 2.7 MB/s eta 0:01:15\n",
      "     ------------------ ------------------- 199.0/400.7 MB 2.8 MB/s eta 0:01:13\n",
      "     ------------------ ------------------- 200.3/400.7 MB 2.8 MB/s eta 0:01:12\n",
      "     ------------------- ------------------ 201.3/400.7 MB 2.8 MB/s eta 0:01:11\n",
      "     ------------------- ------------------ 202.4/400.7 MB 2.8 MB/s eta 0:01:10\n",
      "     ------------------- ------------------ 203.4/400.7 MB 2.9 MB/s eta 0:01:09\n",
      "     ------------------- ------------------ 204.5/400.7 MB 2.9 MB/s eta 0:01:08\n",
      "     ------------------- ------------------ 205.5/400.7 MB 2.9 MB/s eta 0:01:07\n",
      "     ------------------- ------------------ 206.3/400.7 MB 2.9 MB/s eta 0:01:07\n",
      "     ------------------- ------------------ 207.4/400.7 MB 3.0 MB/s eta 0:01:06\n",
      "     ------------------- ------------------ 208.1/400.7 MB 3.0 MB/s eta 0:01:05\n",
      "     ------------------- ------------------ 208.9/400.7 MB 3.0 MB/s eta 0:01:05\n",
      "     ------------------- ------------------ 209.7/400.7 MB 3.0 MB/s eta 0:01:04\n",
      "     ------------------- ------------------ 210.8/400.7 MB 3.0 MB/s eta 0:01:03\n",
      "     -------------------- ----------------- 211.6/400.7 MB 3.0 MB/s eta 0:01:03\n",
      "     -------------------- ----------------- 212.1/400.7 MB 3.1 MB/s eta 0:01:02\n",
      "     -------------------- ----------------- 212.9/400.7 MB 3.1 MB/s eta 0:01:02\n",
      "     -------------------- ----------------- 213.4/400.7 MB 3.1 MB/s eta 0:01:01\n",
      "     -------------------- ----------------- 213.9/400.7 MB 3.1 MB/s eta 0:01:01\n",
      "     -------------------- ----------------- 214.2/400.7 MB 3.1 MB/s eta 0:01:01\n",
      "     -------------------- ----------------- 214.4/400.7 MB 3.1 MB/s eta 0:01:00\n",
      "     -------------------- ----------------- 214.7/400.7 MB 3.1 MB/s eta 0:01:00\n",
      "     -------------------- ----------------- 214.7/400.7 MB 3.1 MB/s eta 0:01:00\n",
      "     -------------------- ----------------- 215.0/400.7 MB 3.1 MB/s eta 0:01:01\n",
      "     -------------------- ----------------- 215.0/400.7 MB 3.1 MB/s eta 0:01:01\n",
      "     -------------------- ----------------- 215.2/400.7 MB 3.1 MB/s eta 0:01:00\n",
      "     -------------------- ----------------- 215.5/400.7 MB 3.1 MB/s eta 0:01:01\n",
      "     -------------------- ----------------- 215.7/400.7 MB 3.1 MB/s eta 0:01:00\n",
      "     -------------------- ----------------- 215.7/400.7 MB 3.1 MB/s eta 0:01:00\n",
      "     -------------------- ----------------- 216.0/400.7 MB 3.1 MB/s eta 0:01:01\n",
      "     -------------------- ----------------- 216.0/400.7 MB 3.1 MB/s eta 0:01:01\n",
      "     -------------------- ----------------- 216.3/400.7 MB 3.1 MB/s eta 0:01:01\n",
      "     -------------------- ----------------- 216.5/400.7 MB 3.1 MB/s eta 0:01:01\n",
      "     -------------------- ----------------- 216.8/400.7 MB 3.1 MB/s eta 0:01:01\n",
      "     -------------------- ----------------- 216.8/400.7 MB 3.1 MB/s eta 0:01:01\n",
      "     -------------------- ----------------- 217.1/400.7 MB 3.0 MB/s eta 0:01:01\n",
      "     -------------------- ----------------- 217.3/400.7 MB 3.0 MB/s eta 0:01:01\n",
      "     -------------------- ----------------- 217.3/400.7 MB 3.0 MB/s eta 0:01:01\n",
      "     -------------------- ----------------- 217.6/400.7 MB 3.0 MB/s eta 0:01:01\n",
      "     -------------------- ----------------- 217.8/400.7 MB 3.0 MB/s eta 0:01:01\n",
      "     -------------------- ----------------- 218.1/400.7 MB 3.0 MB/s eta 0:01:01\n",
      "     -------------------- ----------------- 218.1/400.7 MB 3.0 MB/s eta 0:01:01\n",
      "     -------------------- ----------------- 218.4/400.7 MB 3.0 MB/s eta 0:01:01\n",
      "     -------------------- ----------------- 218.6/400.7 MB 3.0 MB/s eta 0:01:02\n",
      "     -------------------- ----------------- 218.9/400.7 MB 3.0 MB/s eta 0:01:02\n",
      "     -------------------- ----------------- 219.2/400.7 MB 3.0 MB/s eta 0:01:02\n",
      "     -------------------- ----------------- 219.2/400.7 MB 3.0 MB/s eta 0:01:02\n",
      "     -------------------- ----------------- 219.4/400.7 MB 2.9 MB/s eta 0:01:02\n",
      "     -------------------- ----------------- 219.4/400.7 MB 2.9 MB/s eta 0:01:02\n",
      "     -------------------- ----------------- 219.7/400.7 MB 2.9 MB/s eta 0:01:02\n",
      "     -------------------- ----------------- 219.9/400.7 MB 2.9 MB/s eta 0:01:02\n",
      "     -------------------- ----------------- 219.9/400.7 MB 2.9 MB/s eta 0:01:02\n",
      "     -------------------- ----------------- 220.2/400.7 MB 2.9 MB/s eta 0:01:03\n",
      "     -------------------- ----------------- 220.5/400.7 MB 2.9 MB/s eta 0:01:02\n",
      "     -------------------- ----------------- 220.7/400.7 MB 2.9 MB/s eta 0:01:02\n",
      "     -------------------- ----------------- 220.7/400.7 MB 2.9 MB/s eta 0:01:02\n",
      "     -------------------- ----------------- 221.0/400.7 MB 2.9 MB/s eta 0:01:02\n",
      "     -------------------- ----------------- 221.2/400.7 MB 2.9 MB/s eta 0:01:02\n",
      "     -------------------- ----------------- 221.2/400.7 MB 2.9 MB/s eta 0:01:02\n",
      "     --------------------- ---------------- 221.5/400.7 MB 2.9 MB/s eta 0:01:02\n",
      "     --------------------- ---------------- 221.5/400.7 MB 2.9 MB/s eta 0:01:02\n",
      "     --------------------- ---------------- 221.8/400.7 MB 2.9 MB/s eta 0:01:02\n",
      "     --------------------- ---------------- 222.0/400.7 MB 2.9 MB/s eta 0:01:02\n",
      "     --------------------- ---------------- 222.0/400.7 MB 2.9 MB/s eta 0:01:02\n",
      "     --------------------- ---------------- 222.3/400.7 MB 2.9 MB/s eta 0:01:02\n",
      "     --------------------- ---------------- 222.6/400.7 MB 2.9 MB/s eta 0:01:02\n",
      "     --------------------- ---------------- 222.8/400.7 MB 2.9 MB/s eta 0:01:02\n",
      "     --------------------- ---------------- 223.1/400.7 MB 2.9 MB/s eta 0:01:02\n",
      "     --------------------- ---------------- 223.3/400.7 MB 2.9 MB/s eta 0:01:02\n",
      "     --------------------- ---------------- 223.6/400.7 MB 2.9 MB/s eta 0:01:02\n",
      "     --------------------- ---------------- 223.9/400.7 MB 2.9 MB/s eta 0:01:01\n",
      "     --------------------- ---------------- 224.1/400.7 MB 2.9 MB/s eta 0:01:01\n",
      "     --------------------- ---------------- 224.4/400.7 MB 2.9 MB/s eta 0:01:01\n",
      "     --------------------- ---------------- 224.9/400.7 MB 2.9 MB/s eta 0:01:01\n",
      "     --------------------- ---------------- 225.2/400.7 MB 2.9 MB/s eta 0:01:01\n",
      "     --------------------- ---------------- 225.4/400.7 MB 2.9 MB/s eta 0:01:01\n",
      "     --------------------- ---------------- 226.0/400.7 MB 2.9 MB/s eta 0:01:01\n",
      "     --------------------- ---------------- 226.2/400.7 MB 2.9 MB/s eta 0:01:00\n",
      "     --------------------- ---------------- 226.5/400.7 MB 2.9 MB/s eta 0:01:00\n",
      "     --------------------- ---------------- 227.0/400.7 MB 2.9 MB/s eta 0:01:00\n",
      "     --------------------- ---------------- 227.5/400.7 MB 2.9 MB/s eta 0:01:00\n",
      "     --------------------- ---------------- 227.8/400.7 MB 2.9 MB/s eta 0:01:00\n",
      "     --------------------- ---------------- 228.3/400.7 MB 2.9 MB/s eta 0:01:00\n",
      "     --------------------- ---------------- 228.9/400.7 MB 2.9 MB/s eta 0:00:59\n",
      "     --------------------- ---------------- 229.1/400.7 MB 2.9 MB/s eta 0:00:59\n",
      "     --------------------- ---------------- 229.6/400.7 MB 2.9 MB/s eta 0:00:59\n",
      "     --------------------- ---------------- 230.2/400.7 MB 2.9 MB/s eta 0:00:59\n",
      "     --------------------- ---------------- 230.7/400.7 MB 2.9 MB/s eta 0:00:59\n",
      "     --------------------- ---------------- 231.2/400.7 MB 2.9 MB/s eta 0:00:58\n",
      "     --------------------- ---------------- 231.7/400.7 MB 2.9 MB/s eta 0:00:58\n",
      "     ---------------------- --------------- 232.3/400.7 MB 2.9 MB/s eta 0:00:58\n",
      "     ---------------------- --------------- 232.5/400.7 MB 2.9 MB/s eta 0:00:58\n",
      "     ---------------------- --------------- 233.0/400.7 MB 2.9 MB/s eta 0:00:58\n",
      "     ---------------------- --------------- 233.8/400.7 MB 2.9 MB/s eta 0:00:58\n",
      "     ---------------------- --------------- 234.4/400.7 MB 2.9 MB/s eta 0:00:57\n",
      "     ---------------------- --------------- 234.9/400.7 MB 2.9 MB/s eta 0:00:57\n",
      "     ---------------------- --------------- 235.4/400.7 MB 2.9 MB/s eta 0:00:57\n",
      "     ---------------------- --------------- 236.2/400.7 MB 2.9 MB/s eta 0:00:57\n",
      "     ---------------------- --------------- 237.0/400.7 MB 2.9 MB/s eta 0:00:56\n",
      "     ---------------------- --------------- 237.8/400.7 MB 2.9 MB/s eta 0:00:56\n",
      "     ---------------------- --------------- 238.3/400.7 MB 3.0 MB/s eta 0:00:55\n",
      "     ---------------------- --------------- 239.1/400.7 MB 3.0 MB/s eta 0:00:55\n",
      "     ---------------------- --------------- 239.9/400.7 MB 3.0 MB/s eta 0:00:55\n",
      "     ---------------------- --------------- 240.4/400.7 MB 3.0 MB/s eta 0:00:55\n",
      "     ---------------------- --------------- 241.2/400.7 MB 3.0 MB/s eta 0:00:54\n",
      "     ---------------------- --------------- 242.0/400.7 MB 3.0 MB/s eta 0:00:54\n",
      "     ----------------------- -------------- 242.7/400.7 MB 3.0 MB/s eta 0:00:54\n",
      "     ----------------------- -------------- 243.5/400.7 MB 3.0 MB/s eta 0:00:53\n",
      "     ----------------------- -------------- 244.3/400.7 MB 3.0 MB/s eta 0:00:53\n",
      "     ----------------------- -------------- 245.1/400.7 MB 3.0 MB/s eta 0:00:53\n",
      "     ----------------------- -------------- 245.9/400.7 MB 3.0 MB/s eta 0:00:52\n",
      "     ----------------------- -------------- 246.7/400.7 MB 3.0 MB/s eta 0:00:52\n",
      "     ----------------------- -------------- 247.5/400.7 MB 3.0 MB/s eta 0:00:52\n",
      "     ----------------------- -------------- 248.3/400.7 MB 3.0 MB/s eta 0:00:51\n",
      "     ----------------------- -------------- 249.0/400.7 MB 3.0 MB/s eta 0:00:51\n",
      "     ----------------------- -------------- 250.1/400.7 MB 3.0 MB/s eta 0:00:51\n",
      "     ----------------------- -------------- 250.9/400.7 MB 3.0 MB/s eta 0:00:51\n",
      "     ----------------------- -------------- 251.7/400.7 MB 3.0 MB/s eta 0:00:51\n",
      "     ----------------------- -------------- 252.7/400.7 MB 2.9 MB/s eta 0:00:51\n",
      "     ------------------------ ------------- 253.5/400.7 MB 2.9 MB/s eta 0:00:51\n",
      "     ------------------------ ------------- 254.3/400.7 MB 2.9 MB/s eta 0:00:51\n",
      "     ------------------------ ------------- 255.1/400.7 MB 2.9 MB/s eta 0:00:51\n",
      "     ------------------------ ------------- 255.9/400.7 MB 2.8 MB/s eta 0:00:51\n",
      "     ------------------------ ------------- 256.6/400.7 MB 2.8 MB/s eta 0:00:52\n",
      "     ------------------------ ------------- 257.7/400.7 MB 2.8 MB/s eta 0:00:52\n",
      "     ------------------------ ------------- 258.5/400.7 MB 2.7 MB/s eta 0:00:52\n",
      "     ------------------------ ------------- 259.3/400.7 MB 2.7 MB/s eta 0:00:52\n",
      "     ------------------------ ------------- 260.0/400.7 MB 2.7 MB/s eta 0:00:53\n",
      "     ------------------------ ------------- 261.1/400.7 MB 2.7 MB/s eta 0:00:53\n",
      "     ------------------------ ------------- 261.9/400.7 MB 2.7 MB/s eta 0:00:53\n",
      "     ------------------------ ------------- 262.7/400.7 MB 2.6 MB/s eta 0:00:53\n",
      "     ------------------------ ------------- 263.2/400.7 MB 2.6 MB/s eta 0:00:53\n",
      "     ------------------------- ------------ 263.7/400.7 MB 2.6 MB/s eta 0:00:54\n",
      "     ------------------------- ------------ 264.8/400.7 MB 2.6 MB/s eta 0:00:54\n",
      "     ------------------------- ------------ 265.8/400.7 MB 2.6 MB/s eta 0:00:53\n",
      "     ------------------------- ------------ 266.6/400.7 MB 2.6 MB/s eta 0:00:53\n",
      "     ------------------------- ------------ 267.6/400.7 MB 2.6 MB/s eta 0:00:52\n",
      "     ------------------------- ------------ 268.7/400.7 MB 2.6 MB/s eta 0:00:52\n",
      "     ------------------------- ------------ 269.7/400.7 MB 2.6 MB/s eta 0:00:52\n",
      "     ------------------------- ------------ 270.8/400.7 MB 2.6 MB/s eta 0:00:51\n",
      "     ------------------------- ------------ 271.6/400.7 MB 2.6 MB/s eta 0:00:51\n",
      "     ------------------------- ------------ 272.6/400.7 MB 2.6 MB/s eta 0:00:50\n",
      "     ------------------------- ------------ 273.7/400.7 MB 2.6 MB/s eta 0:00:50\n",
      "     -------------------------- ----------- 274.5/400.7 MB 2.6 MB/s eta 0:00:50\n",
      "     -------------------------- ----------- 275.3/400.7 MB 2.6 MB/s eta 0:00:50\n",
      "     -------------------------- ----------- 275.8/400.7 MB 2.5 MB/s eta 0:00:50\n",
      "     -------------------------- ----------- 276.3/400.7 MB 2.5 MB/s eta 0:00:50\n",
      "     -------------------------- ----------- 276.6/400.7 MB 2.5 MB/s eta 0:00:50\n",
      "     -------------------------- ----------- 276.8/400.7 MB 2.5 MB/s eta 0:00:51\n",
      "     -------------------------- ----------- 276.8/400.7 MB 2.5 MB/s eta 0:00:51\n",
      "     -------------------------- ----------- 277.1/400.7 MB 2.4 MB/s eta 0:00:52\n",
      "     -------------------------- ----------- 277.3/400.7 MB 2.4 MB/s eta 0:00:52\n",
      "     -------------------------- ----------- 277.6/400.7 MB 2.4 MB/s eta 0:00:53\n",
      "     -------------------------- ----------- 277.6/400.7 MB 2.4 MB/s eta 0:00:53\n",
      "     -------------------------- ----------- 277.9/400.7 MB 2.3 MB/s eta 0:00:53\n",
      "     -------------------------- ----------- 278.1/400.7 MB 2.3 MB/s eta 0:00:54\n",
      "     -------------------------- ----------- 278.4/400.7 MB 2.3 MB/s eta 0:00:54\n",
      "     -------------------------- ----------- 278.7/400.7 MB 2.3 MB/s eta 0:00:55\n",
      "     -------------------------- ----------- 278.9/400.7 MB 2.2 MB/s eta 0:00:55\n",
      "     -------------------------- ----------- 279.2/400.7 MB 2.2 MB/s eta 0:00:55\n",
      "     -------------------------- ----------- 279.4/400.7 MB 2.2 MB/s eta 0:00:55\n",
      "     -------------------------- ----------- 280.0/400.7 MB 2.2 MB/s eta 0:00:55\n",
      "     -------------------------- ----------- 280.2/400.7 MB 2.2 MB/s eta 0:00:55\n",
      "     -------------------------- ----------- 280.5/400.7 MB 2.2 MB/s eta 0:00:55\n",
      "     -------------------------- ----------- 280.8/400.7 MB 2.2 MB/s eta 0:00:54\n",
      "     -------------------------- ----------- 280.8/400.7 MB 2.2 MB/s eta 0:00:54\n",
      "     -------------------------- ----------- 281.0/400.7 MB 2.2 MB/s eta 0:00:55\n",
      "     -------------------------- ----------- 281.0/400.7 MB 2.2 MB/s eta 0:00:55\n",
      "     -------------------------- ----------- 281.3/400.7 MB 2.2 MB/s eta 0:00:55\n",
      "     -------------------------- ----------- 281.3/400.7 MB 2.2 MB/s eta 0:00:55\n",
      "     -------------------------- ----------- 281.5/400.7 MB 2.2 MB/s eta 0:00:54\n",
      "     -------------------------- ----------- 281.5/400.7 MB 2.2 MB/s eta 0:00:54\n",
      "     -------------------------- ----------- 281.8/400.7 MB 2.2 MB/s eta 0:00:54\n",
      "     -------------------------- ----------- 282.1/400.7 MB 2.2 MB/s eta 0:00:54\n",
      "     -------------------------- ----------- 282.1/400.7 MB 2.2 MB/s eta 0:00:54\n",
      "     -------------------------- ----------- 282.3/400.7 MB 2.2 MB/s eta 0:00:54\n",
      "     -------------------------- ----------- 282.6/400.7 MB 2.2 MB/s eta 0:00:54\n",
      "     -------------------------- ----------- 282.9/400.7 MB 2.2 MB/s eta 0:00:54\n",
      "     -------------------------- ----------- 282.9/400.7 MB 2.2 MB/s eta 0:00:54\n",
      "     -------------------------- ----------- 283.1/400.7 MB 2.2 MB/s eta 0:00:54\n",
      "     -------------------------- ----------- 283.4/400.7 MB 2.2 MB/s eta 0:00:53\n",
      "     -------------------------- ----------- 283.6/400.7 MB 2.2 MB/s eta 0:00:54\n",
      "     -------------------------- ----------- 283.9/400.7 MB 2.2 MB/s eta 0:00:53\n",
      "     -------------------------- ----------- 284.2/400.7 MB 2.2 MB/s eta 0:00:53\n",
      "     -------------------------- ----------- 284.4/400.7 MB 2.2 MB/s eta 0:00:53\n",
      "     --------------------------- ---------- 284.7/400.7 MB 2.2 MB/s eta 0:00:53\n",
      "     --------------------------- ---------- 285.2/400.7 MB 2.2 MB/s eta 0:00:53\n",
      "     --------------------------- ---------- 285.5/400.7 MB 2.2 MB/s eta 0:00:52\n",
      "     --------------------------- ---------- 285.7/400.7 MB 2.2 MB/s eta 0:00:52\n",
      "     --------------------------- ---------- 286.3/400.7 MB 2.3 MB/s eta 0:00:51\n",
      "     --------------------------- ---------- 286.5/400.7 MB 2.3 MB/s eta 0:00:51\n",
      "     --------------------------- ---------- 287.0/400.7 MB 2.3 MB/s eta 0:00:51\n",
      "     --------------------------- ---------- 287.3/400.7 MB 2.3 MB/s eta 0:00:51\n",
      "     --------------------------- ---------- 287.8/400.7 MB 2.3 MB/s eta 0:00:50\n",
      "     --------------------------- ---------- 288.1/400.7 MB 2.3 MB/s eta 0:00:50\n",
      "     --------------------------- ---------- 288.6/400.7 MB 2.3 MB/s eta 0:00:49\n",
      "     --------------------------- ---------- 289.1/400.7 MB 2.3 MB/s eta 0:00:49\n",
      "     --------------------------- ---------- 289.4/400.7 MB 2.3 MB/s eta 0:00:49\n",
      "     --------------------------- ---------- 289.9/400.7 MB 2.3 MB/s eta 0:00:48\n",
      "     --------------------------- ---------- 290.5/400.7 MB 2.3 MB/s eta 0:00:48\n",
      "     --------------------------- ---------- 291.0/400.7 MB 2.3 MB/s eta 0:00:47\n",
      "     --------------------------- ---------- 291.5/400.7 MB 2.3 MB/s eta 0:00:47\n",
      "     --------------------------- ---------- 292.0/400.7 MB 2.4 MB/s eta 0:00:46\n",
      "     --------------------------- ---------- 292.6/400.7 MB 2.4 MB/s eta 0:00:46\n",
      "     --------------------------- ---------- 293.1/400.7 MB 2.4 MB/s eta 0:00:46\n",
      "     --------------------------- ---------- 293.6/400.7 MB 2.4 MB/s eta 0:00:45\n",
      "     --------------------------- ---------- 294.1/400.7 MB 2.4 MB/s eta 0:00:45\n",
      "     --------------------------- ---------- 294.6/400.7 MB 2.4 MB/s eta 0:00:44\n",
      "     ---------------------------- --------- 295.4/400.7 MB 2.4 MB/s eta 0:00:44\n",
      "     ---------------------------- --------- 296.2/400.7 MB 2.5 MB/s eta 0:00:43\n",
      "     ---------------------------- --------- 297.0/400.7 MB 2.5 MB/s eta 0:00:42\n",
      "     ---------------------------- --------- 297.8/400.7 MB 2.5 MB/s eta 0:00:42\n",
      "     ---------------------------- --------- 298.6/400.7 MB 2.5 MB/s eta 0:00:41\n",
      "     ---------------------------- --------- 299.6/400.7 MB 2.5 MB/s eta 0:00:40\n",
      "     ---------------------------- --------- 300.7/400.7 MB 2.6 MB/s eta 0:00:40\n",
      "     ---------------------------- --------- 301.7/400.7 MB 2.6 MB/s eta 0:00:39\n",
      "     ---------------------------- --------- 303.0/400.7 MB 2.6 MB/s eta 0:00:38\n",
      "     ---------------------------- --------- 304.6/400.7 MB 2.7 MB/s eta 0:00:37\n",
      "     ----------------------------- -------- 305.9/400.7 MB 2.7 MB/s eta 0:00:36\n",
      "     ----------------------------- -------- 307.2/400.7 MB 2.7 MB/s eta 0:00:35\n",
      "     ----------------------------- -------- 308.8/400.7 MB 2.8 MB/s eta 0:00:34\n",
      "     ----------------------------- -------- 310.6/400.7 MB 2.8 MB/s eta 0:00:32\n",
      "     ----------------------------- -------- 312.5/400.7 MB 2.9 MB/s eta 0:00:31\n",
      "     ----------------------------- -------- 314.3/400.7 MB 2.9 MB/s eta 0:00:30\n",
      "     ----------------------------- -------- 315.1/400.7 MB 2.9 MB/s eta 0:00:30\n",
      "     ------------------------------ ------- 317.5/400.7 MB 3.0 MB/s eta 0:00:28\n",
      "     ------------------------------ ------- 319.0/400.7 MB 3.0 MB/s eta 0:00:27\n",
      "     ------------------------------ ------- 320.6/400.7 MB 3.1 MB/s eta 0:00:27\n",
      "     ------------------------------ ------- 321.7/400.7 MB 3.1 MB/s eta 0:00:26\n",
      "     ------------------------------ ------- 323.2/400.7 MB 3.1 MB/s eta 0:00:25\n",
      "     ------------------------------ ------- 324.3/400.7 MB 3.1 MB/s eta 0:00:25\n",
      "     ------------------------------ ------- 325.1/400.7 MB 3.2 MB/s eta 0:00:24\n",
      "     ------------------------------ ------- 326.1/400.7 MB 3.2 MB/s eta 0:00:24\n",
      "     ------------------------------- ------ 326.9/400.7 MB 3.2 MB/s eta 0:00:24\n",
      "     ------------------------------- ------ 327.7/400.7 MB 3.2 MB/s eta 0:00:23\n",
      "     ------------------------------- ------ 328.5/400.7 MB 3.2 MB/s eta 0:00:23\n",
      "     ------------------------------- ------ 329.3/400.7 MB 3.2 MB/s eta 0:00:23\n",
      "     ------------------------------- ------ 330.3/400.7 MB 3.2 MB/s eta 0:00:22\n",
      "     ------------------------------- ------ 331.4/400.7 MB 3.2 MB/s eta 0:00:22\n",
      "     ------------------------------- ------ 332.4/400.7 MB 3.3 MB/s eta 0:00:21\n",
      "     ------------------------------- ------ 333.4/400.7 MB 3.3 MB/s eta 0:00:21\n",
      "     ------------------------------- ------ 334.2/400.7 MB 3.3 MB/s eta 0:00:21\n",
      "     ------------------------------- ------ 335.0/400.7 MB 3.3 MB/s eta 0:00:20\n",
      "     ------------------------------- ------ 335.5/400.7 MB 3.3 MB/s eta 0:00:20\n",
      "     ------------------------------- ------ 336.3/400.7 MB 3.3 MB/s eta 0:00:20\n",
      "     ------------------------------- ------ 336.9/400.7 MB 3.3 MB/s eta 0:00:20\n",
      "     ------------------------------- ------ 337.4/400.7 MB 3.3 MB/s eta 0:00:20\n",
      "     -------------------------------- ----- 337.9/400.7 MB 3.3 MB/s eta 0:00:20\n",
      "     -------------------------------- ----- 338.2/400.7 MB 3.2 MB/s eta 0:00:20\n",
      "     -------------------------------- ----- 338.7/400.7 MB 3.2 MB/s eta 0:00:20\n",
      "     -------------------------------- ----- 339.2/400.7 MB 3.2 MB/s eta 0:00:20\n",
      "     -------------------------------- ----- 339.7/400.7 MB 3.2 MB/s eta 0:00:19\n",
      "     -------------------------------- ----- 340.0/400.7 MB 3.2 MB/s eta 0:00:19\n",
      "     -------------------------------- ----- 340.5/400.7 MB 3.2 MB/s eta 0:00:19\n",
      "     -------------------------------- ----- 341.0/400.7 MB 3.2 MB/s eta 0:00:19\n",
      "     -------------------------------- ----- 341.6/400.7 MB 3.2 MB/s eta 0:00:19\n",
      "     -------------------------------- ----- 342.1/400.7 MB 3.2 MB/s eta 0:00:19\n",
      "     -------------------------------- ----- 342.6/400.7 MB 3.2 MB/s eta 0:00:19\n",
      "     -------------------------------- ----- 343.1/400.7 MB 3.2 MB/s eta 0:00:19\n",
      "     -------------------------------- ----- 343.7/400.7 MB 3.1 MB/s eta 0:00:19\n",
      "     -------------------------------- ----- 344.5/400.7 MB 3.1 MB/s eta 0:00:18\n",
      "     -------------------------------- ----- 345.0/400.7 MB 3.1 MB/s eta 0:00:18\n",
      "     -------------------------------- ----- 345.5/400.7 MB 3.1 MB/s eta 0:00:18\n",
      "     -------------------------------- ----- 345.8/400.7 MB 3.1 MB/s eta 0:00:18\n",
      "     -------------------------------- ----- 346.3/400.7 MB 3.1 MB/s eta 0:00:18\n",
      "     -------------------------------- ----- 346.8/400.7 MB 3.1 MB/s eta 0:00:18\n",
      "     -------------------------------- ----- 347.1/400.7 MB 3.1 MB/s eta 0:00:18\n",
      "     -------------------------------- ----- 347.6/400.7 MB 3.0 MB/s eta 0:00:18\n",
      "     --------------------------------- ---- 348.1/400.7 MB 3.0 MB/s eta 0:00:18\n",
      "     --------------------------------- ---- 348.7/400.7 MB 3.0 MB/s eta 0:00:18\n",
      "     --------------------------------- ---- 348.9/400.7 MB 3.0 MB/s eta 0:00:18\n",
      "     --------------------------------- ---- 349.2/400.7 MB 3.0 MB/s eta 0:00:18\n",
      "     --------------------------------- ---- 349.7/400.7 MB 3.0 MB/s eta 0:00:18\n",
      "     --------------------------------- ---- 350.0/400.7 MB 3.0 MB/s eta 0:00:18\n",
      "     --------------------------------- ---- 350.5/400.7 MB 2.9 MB/s eta 0:00:18\n",
      "     --------------------------------- ---- 351.0/400.7 MB 2.9 MB/s eta 0:00:17\n",
      "     --------------------------------- ---- 351.5/400.7 MB 2.9 MB/s eta 0:00:17\n",
      "     --------------------------------- ---- 351.8/400.7 MB 2.9 MB/s eta 0:00:17\n",
      "     --------------------------------- ---- 352.3/400.7 MB 2.9 MB/s eta 0:00:17\n",
      "     --------------------------------- ---- 352.8/400.7 MB 2.9 MB/s eta 0:00:17\n",
      "     --------------------------------- ---- 353.4/400.7 MB 2.9 MB/s eta 0:00:17\n",
      "     --------------------------------- ---- 353.9/400.7 MB 2.9 MB/s eta 0:00:17\n",
      "     --------------------------------- ---- 354.4/400.7 MB 2.8 MB/s eta 0:00:17\n",
      "     --------------------------------- ---- 354.9/400.7 MB 2.8 MB/s eta 0:00:17\n",
      "     --------------------------------- ---- 355.2/400.7 MB 2.8 MB/s eta 0:00:17\n",
      "     --------------------------------- ---- 355.7/400.7 MB 2.8 MB/s eta 0:00:17\n",
      "     --------------------------------- ---- 356.0/400.7 MB 2.8 MB/s eta 0:00:17\n",
      "     --------------------------------- ---- 356.5/400.7 MB 2.7 MB/s eta 0:00:17\n",
      "     --------------------------------- ---- 357.0/400.7 MB 2.7 MB/s eta 0:00:16\n",
      "     --------------------------------- ---- 357.3/400.7 MB 2.7 MB/s eta 0:00:16\n",
      "     --------------------------------- ---- 357.8/400.7 MB 2.7 MB/s eta 0:00:16\n",
      "     --------------------------------- ---- 358.1/400.7 MB 2.7 MB/s eta 0:00:16\n",
      "     --------------------------------- ---- 358.4/400.7 MB 2.7 MB/s eta 0:00:16\n",
      "     ---------------------------------- --- 358.9/400.7 MB 2.7 MB/s eta 0:00:16\n",
      "     ---------------------------------- --- 359.1/400.7 MB 2.7 MB/s eta 0:00:16\n",
      "     ---------------------------------- --- 359.7/400.7 MB 2.7 MB/s eta 0:00:15\n",
      "     ---------------------------------- --- 359.9/400.7 MB 2.8 MB/s eta 0:00:15\n",
      "     ---------------------------------- --- 360.4/400.7 MB 2.8 MB/s eta 0:00:15\n",
      "     ---------------------------------- --- 360.7/400.7 MB 2.8 MB/s eta 0:00:15\n",
      "     ---------------------------------- --- 361.2/400.7 MB 2.8 MB/s eta 0:00:15\n",
      "     ---------------------------------- --- 361.8/400.7 MB 2.8 MB/s eta 0:00:14\n",
      "     ---------------------------------- --- 362.3/400.7 MB 2.8 MB/s eta 0:00:14\n",
      "     ---------------------------------- --- 362.5/400.7 MB 2.8 MB/s eta 0:00:14\n",
      "     ---------------------------------- --- 362.8/400.7 MB 2.8 MB/s eta 0:00:14\n",
      "     ---------------------------------- --- 363.1/400.7 MB 2.8 MB/s eta 0:00:14\n",
      "     ---------------------------------- --- 363.3/400.7 MB 2.8 MB/s eta 0:00:14\n",
      "     ---------------------------------- --- 363.6/400.7 MB 2.8 MB/s eta 0:00:14\n",
      "     ---------------------------------- --- 363.9/400.7 MB 2.8 MB/s eta 0:00:14\n",
      "     ---------------------------------- --- 364.1/400.7 MB 2.8 MB/s eta 0:00:14\n",
      "     ---------------------------------- --- 364.4/400.7 MB 2.8 MB/s eta 0:00:13\n",
      "     ---------------------------------- --- 364.6/400.7 MB 2.8 MB/s eta 0:00:13\n",
      "     ---------------------------------- --- 364.9/400.7 MB 2.8 MB/s eta 0:00:13\n",
      "     ---------------------------------- --- 365.2/400.7 MB 2.8 MB/s eta 0:00:13\n",
      "     ---------------------------------- --- 365.2/400.7 MB 2.8 MB/s eta 0:00:13\n",
      "     ---------------------------------- --- 365.4/400.7 MB 2.8 MB/s eta 0:00:13\n",
      "     ---------------------------------- --- 365.7/400.7 MB 2.8 MB/s eta 0:00:13\n",
      "     ---------------------------------- --- 366.0/400.7 MB 2.8 MB/s eta 0:00:13\n",
      "     ---------------------------------- --- 366.0/400.7 MB 2.8 MB/s eta 0:00:13\n",
      "     ---------------------------------- --- 366.2/400.7 MB 2.8 MB/s eta 0:00:13\n",
      "     ---------------------------------- --- 366.2/400.7 MB 2.8 MB/s eta 0:00:13\n",
      "     ---------------------------------- --- 366.5/400.7 MB 2.8 MB/s eta 0:00:13\n",
      "     ---------------------------------- --- 366.7/400.7 MB 2.8 MB/s eta 0:00:13\n",
      "     ---------------------------------- --- 367.0/400.7 MB 2.8 MB/s eta 0:00:13\n",
      "     ---------------------------------- --- 367.3/400.7 MB 2.8 MB/s eta 0:00:12\n",
      "     ---------------------------------- --- 367.3/400.7 MB 2.8 MB/s eta 0:00:12\n",
      "     ---------------------------------- --- 367.5/400.7 MB 2.8 MB/s eta 0:00:12\n",
      "     ---------------------------------- --- 367.8/400.7 MB 2.8 MB/s eta 0:00:12\n",
      "     ---------------------------------- --- 368.1/400.7 MB 2.8 MB/s eta 0:00:12\n",
      "     ---------------------------------- --- 368.3/400.7 MB 2.8 MB/s eta 0:00:12\n",
      "     ---------------------------------- --- 368.8/400.7 MB 2.8 MB/s eta 0:00:12\n",
      "     ----------------------------------- -- 369.1/400.7 MB 2.8 MB/s eta 0:00:12\n",
      "     ----------------------------------- -- 369.4/400.7 MB 2.8 MB/s eta 0:00:12\n",
      "     ----------------------------------- -- 369.6/400.7 MB 2.8 MB/s eta 0:00:12\n",
      "     ----------------------------------- -- 369.9/400.7 MB 2.8 MB/s eta 0:00:12\n",
      "     ----------------------------------- -- 369.9/400.7 MB 2.8 MB/s eta 0:00:12\n",
      "     ----------------------------------- -- 370.1/400.7 MB 2.8 MB/s eta 0:00:11\n",
      "     ----------------------------------- -- 370.4/400.7 MB 2.8 MB/s eta 0:00:11\n",
      "     ----------------------------------- -- 370.7/400.7 MB 2.8 MB/s eta 0:00:11\n",
      "     ----------------------------------- -- 370.9/400.7 MB 2.8 MB/s eta 0:00:11\n",
      "     ----------------------------------- -- 371.2/400.7 MB 2.8 MB/s eta 0:00:11\n",
      "     ----------------------------------- -- 371.5/400.7 MB 2.7 MB/s eta 0:00:11\n",
      "     ----------------------------------- -- 371.7/400.7 MB 2.7 MB/s eta 0:00:11\n",
      "     ----------------------------------- -- 372.2/400.7 MB 2.7 MB/s eta 0:00:11\n",
      "     ----------------------------------- -- 372.5/400.7 MB 2.7 MB/s eta 0:00:11\n",
      "     ----------------------------------- -- 372.8/400.7 MB 2.7 MB/s eta 0:00:11\n",
      "     ----------------------------------- -- 373.3/400.7 MB 2.7 MB/s eta 0:00:11\n",
      "     ----------------------------------- -- 373.6/400.7 MB 2.7 MB/s eta 0:00:10\n",
      "     ----------------------------------- -- 374.1/400.7 MB 2.7 MB/s eta 0:00:10\n",
      "     ----------------------------------- -- 374.3/400.7 MB 2.7 MB/s eta 0:00:10\n",
      "     ----------------------------------- -- 374.9/400.7 MB 2.7 MB/s eta 0:00:10\n",
      "     ----------------------------------- -- 375.1/400.7 MB 2.7 MB/s eta 0:00:10\n",
      "     ----------------------------------- -- 375.7/400.7 MB 2.7 MB/s eta 0:00:10\n",
      "     ----------------------------------- -- 376.2/400.7 MB 2.7 MB/s eta 0:00:10\n",
      "     ----------------------------------- -- 376.7/400.7 MB 2.7 MB/s eta 0:00:09\n",
      "     ----------------------------------- -- 377.2/400.7 MB 2.7 MB/s eta 0:00:09\n",
      "     ----------------------------------- -- 377.5/400.7 MB 2.7 MB/s eta 0:00:09\n",
      "     ----------------------------------- -- 378.0/400.7 MB 2.6 MB/s eta 0:00:09\n",
      "     ----------------------------------- -- 378.0/400.7 MB 2.6 MB/s eta 0:00:09\n",
      "     ----------------------------------- -- 378.5/400.7 MB 2.6 MB/s eta 0:00:09\n",
      "     ----------------------------------- -- 378.5/400.7 MB 2.6 MB/s eta 0:00:09\n",
      "     ----------------------------------- -- 378.8/400.7 MB 2.5 MB/s eta 0:00:09\n",
      "     ----------------------------------- -- 379.1/400.7 MB 2.5 MB/s eta 0:00:09\n",
      "     ----------------------------------- -- 379.3/400.7 MB 2.4 MB/s eta 0:00:09\n",
      "     ----------------------------------- -- 379.3/400.7 MB 2.4 MB/s eta 0:00:09\n",
      "     ------------------------------------ - 379.6/400.7 MB 2.4 MB/s eta 0:00:09\n",
      "     ------------------------------------ - 379.8/400.7 MB 2.3 MB/s eta 0:00:09\n",
      "     ------------------------------------ - 380.1/400.7 MB 2.3 MB/s eta 0:00:10\n",
      "     ------------------------------------ - 380.4/400.7 MB 2.2 MB/s eta 0:00:10\n",
      "     ------------------------------------ - 380.6/400.7 MB 2.2 MB/s eta 0:00:10\n",
      "     ------------------------------------ - 380.9/400.7 MB 2.1 MB/s eta 0:00:10\n",
      "     ------------------------------------ - 380.9/400.7 MB 2.1 MB/s eta 0:00:10\n",
      "     ------------------------------------ - 381.2/400.7 MB 2.0 MB/s eta 0:00:10\n",
      "     ------------------------------------ - 381.2/400.7 MB 2.0 MB/s eta 0:00:10\n",
      "     ------------------------------------ - 381.4/400.7 MB 2.0 MB/s eta 0:00:10\n",
      "     ------------------------------------ - 381.7/400.7 MB 1.9 MB/s eta 0:00:10\n",
      "     ------------------------------------ - 381.7/400.7 MB 1.9 MB/s eta 0:00:10\n",
      "     ------------------------------------ - 381.7/400.7 MB 1.9 MB/s eta 0:00:10\n",
      "     ------------------------------------ - 381.7/400.7 MB 1.9 MB/s eta 0:00:10\n",
      "     ------------------------------------ - 381.7/400.7 MB 1.9 MB/s eta 0:00:10\n",
      "     ------------------------------------ - 381.9/400.7 MB 1.8 MB/s eta 0:00:11\n",
      "     ------------------------------------ - 381.9/400.7 MB 1.8 MB/s eta 0:00:11\n",
      "     ------------------------------------ - 381.9/400.7 MB 1.8 MB/s eta 0:00:11\n",
      "     ------------------------------------ - 381.9/400.7 MB 1.8 MB/s eta 0:00:11\n",
      "     ------------------------------------ - 381.9/400.7 MB 1.8 MB/s eta 0:00:11\n",
      "     ------------------------------------ - 382.2/400.7 MB 1.6 MB/s eta 0:00:12\n",
      "     ------------------------------------ - 382.2/400.7 MB 1.6 MB/s eta 0:00:12\n",
      "     ------------------------------------ - 382.2/400.7 MB 1.6 MB/s eta 0:00:12\n",
      "     ------------------------------------ - 382.5/400.7 MB 1.5 MB/s eta 0:00:12\n",
      "     ------------------------------------ - 382.5/400.7 MB 1.5 MB/s eta 0:00:12\n",
      "     ------------------------------------ - 382.5/400.7 MB 1.5 MB/s eta 0:00:12\n",
      "     ------------------------------------ - 382.7/400.7 MB 1.5 MB/s eta 0:00:12\n",
      "     ------------------------------------ - 383.0/400.7 MB 1.5 MB/s eta 0:00:12\n",
      "     ------------------------------------ - 383.0/400.7 MB 1.5 MB/s eta 0:00:12\n",
      "     ------------------------------------ - 383.3/400.7 MB 1.5 MB/s eta 0:00:12\n",
      "     ------------------------------------ - 383.5/400.7 MB 1.5 MB/s eta 0:00:12\n",
      "     ------------------------------------ - 383.8/400.7 MB 1.5 MB/s eta 0:00:12\n",
      "     ------------------------------------ - 383.8/400.7 MB 1.5 MB/s eta 0:00:12\n",
      "     ------------------------------------ - 384.0/400.7 MB 1.4 MB/s eta 0:00:12\n",
      "     ------------------------------------ - 384.3/400.7 MB 1.4 MB/s eta 0:00:12\n",
      "     ------------------------------------ - 384.6/400.7 MB 1.4 MB/s eta 0:00:12\n",
      "     ------------------------------------ - 384.8/400.7 MB 1.4 MB/s eta 0:00:12\n",
      "     ------------------------------------ - 385.1/400.7 MB 1.4 MB/s eta 0:00:12\n",
      "     ------------------------------------ - 385.4/400.7 MB 1.4 MB/s eta 0:00:11\n",
      "     ------------------------------------ - 385.6/400.7 MB 1.4 MB/s eta 0:00:11\n",
      "     ------------------------------------ - 386.1/400.7 MB 1.4 MB/s eta 0:00:11\n",
      "     ------------------------------------ - 386.4/400.7 MB 1.4 MB/s eta 0:00:11\n",
      "     ------------------------------------ - 386.7/400.7 MB 1.4 MB/s eta 0:00:11\n",
      "     ------------------------------------ - 386.9/400.7 MB 1.4 MB/s eta 0:00:11\n",
      "     ------------------------------------ - 387.4/400.7 MB 1.4 MB/s eta 0:00:10\n",
      "     ------------------------------------ - 387.7/400.7 MB 1.4 MB/s eta 0:00:10\n",
      "     ------------------------------------ - 388.2/400.7 MB 1.4 MB/s eta 0:00:10\n",
      "     ------------------------------------ - 388.5/400.7 MB 1.4 MB/s eta 0:00:09\n",
      "     ------------------------------------ - 389.0/400.7 MB 1.4 MB/s eta 0:00:09\n",
      "     ------------------------------------ - 389.5/400.7 MB 1.4 MB/s eta 0:00:09\n",
      "     ------------------------------------ - 389.8/400.7 MB 1.4 MB/s eta 0:00:09\n",
      "     -------------------------------------  390.3/400.7 MB 1.4 MB/s eta 0:00:08\n",
      "     -------------------------------------  390.9/400.7 MB 1.4 MB/s eta 0:00:08\n",
      "     -------------------------------------  391.4/400.7 MB 1.4 MB/s eta 0:00:07\n",
      "     -------------------------------------  391.9/400.7 MB 1.4 MB/s eta 0:00:07\n",
      "     -------------------------------------  392.4/400.7 MB 1.4 MB/s eta 0:00:06\n",
      "     -------------------------------------  393.2/400.7 MB 1.4 MB/s eta 0:00:06\n",
      "     -------------------------------------  394.0/400.7 MB 1.4 MB/s eta 0:00:05\n",
      "     -------------------------------------  395.1/400.7 MB 1.4 MB/s eta 0:00:04\n",
      "     -------------------------------------  395.8/400.7 MB 1.4 MB/s eta 0:00:04\n",
      "     -------------------------------------  396.9/400.7 MB 1.4 MB/s eta 0:00:03\n",
      "     -------------------------------------  397.9/400.7 MB 1.5 MB/s eta 0:00:02\n",
      "     -------------------------------------  399.2/400.7 MB 1.5 MB/s eta 0:00:01\n",
      "     -------------------------------------  400.6/400.7 MB 1.5 MB/s eta 0:00:01\n",
      "     -------------------------------------  400.6/400.7 MB 1.5 MB/s eta 0:00:01\n",
      "     -------------------------------------  400.6/400.7 MB 1.5 MB/s eta 0:00:01\n",
      "     -------------------------------------  400.6/400.7 MB 1.5 MB/s eta 0:00:01\n",
      "     -------------------------------------  400.6/400.7 MB 1.5 MB/s eta 0:00:01\n",
      "     -------------------------------------  400.6/400.7 MB 1.5 MB/s eta 0:00:01\n",
      "     -------------------------------------  400.6/400.7 MB 1.5 MB/s eta 0:00:01\n",
      "     -------------------------------------- 400.7/400.7 MB 1.4 MB/s eta 0:00:00\n",
      "\u001b[38;5;2m[+] Download and installation successful\u001b[0m\n",
      "You can now load the package via spacy.load('en_core_web_lg')\n"
     ]
    }
   ],
   "source": [
    "!python -m spacy download en_core_web_lg\n",
    "              \n"
   ]
  },
  {
   "cell_type": "code",
   "execution_count": 32,
   "id": "fbaeaaab-1e7c-491b-b6ae-a8e57b3531d3",
   "metadata": {},
   "outputs": [],
   "source": [
    "#lemmatization\n"
   ]
  },
  {
   "cell_type": "code",
   "execution_count": 33,
   "id": "7cf5f0ba-2cf6-44cd-ac06-f9e793238d48",
   "metadata": {},
   "outputs": [],
   "source": [
    "from nltk.stem import WordNetLemmatizer"
   ]
  },
  {
   "cell_type": "code",
   "execution_count": 39,
   "id": "83872174-aa94-49cb-96c3-874702c82f05",
   "metadata": {},
   "outputs": [],
   "source": [
    "from nltk.stem import WordNetLemmatizer\n",
    "from nltk.tokenize import word_tokenize\n",
    "\n",
    "lemmatizer = WordNetLemmatizer()\n",
    "tokens = word_tokenize(final_content)\n",
    "\n",
    "lemmatized_words = [lemmatizer.lemmatize(w) for w in tokens]\n"
   ]
  },
  {
   "cell_type": "code",
   "execution_count": 40,
   "id": "58cbbb1c-4cbc-4792-b9d6-7b3ccda56f21",
   "metadata": {},
   "outputs": [
    {
     "data": {
      "text/plain": [
       "[]"
      ]
     },
     "execution_count": 40,
     "metadata": {},
     "output_type": "execute_result"
    }
   ],
   "source": [
    "lemmatized_words"
   ]
  },
  {
   "cell_type": "markdown",
   "id": "da153ab3-2488-436f-a22c-7545d0ba2690",
   "metadata": {},
   "source": [
    "# Tabelau => used for the creation of the dashbord \n",
    "📊 What is Tableau?\n",
    "Tableau is a powerful data visualization and business intelligence (BI) tool used to analyze data and create interactive, shareable dashboards.\n",
    "\n",
    "🚀 Key Features:\n",
    "Drag-and-drop Interface – No coding required.\n",
    "\n",
    "Interactive Dashboards – Real-time data exploration.\n",
    "\n",
    "Connects to Multiple Data Sources – Excel, SQL, Google Sheets, BigQuery, etc.\n",
    "\n",
    "Live & Extract Connections – Real-time or in-memory analysis.\n",
    "\n",
    "Data Blending & Joins – Combine data from different sources.\n",
    "\n",
    "Beautiful Visualizations – Bar charts, maps, scatter plots, treemaps, and more.\n",
    "\n"
   ]
  },
  {
   "attachments": {
    "3a31d93c-5b8c-42c9-9171-91e2c8e7dc43.png": {
     "image/png": "[encoded data removed]"
    }
   },
   "cell_type": "markdown",
   "id": "e6d58ea4-4726-42f5-b8cc-feb2d7d0cdb7",
   "metadata": {},
   "source": [
    "![image.png](attachment:3a31d93c-5b8c-42c9-9171-91e2c8e7dc43.png)"
   ]
  },
  {
   "attachments": {
    "9a32a6a8-9eef-408b-922b-a36532b5c12b.png": {
     "image/png": "[encoded data removed]"
    }
   },
   "cell_type": "markdown",
   "id": "31a10bef-225f-40d4-a9de-be1da4cd8ada",
   "metadata": {},
   "source": [
    "![image.png](attachment:9a32a6a8-9eef-408b-922b-a36532b5c12b.png)"
   ]
  },
  {
   "cell_type": "code",
   "execution_count": null,
   "id": "41acc82a-594f-4bb7-bede-980f23fd94cb",
   "metadata": {},
   "outputs": [],
   "source": []
  }
 ],
 "metadata": {
  "kernelspec": {
   "display_name": "Python 3 (ipykernel)",
   "language": "python",
   "name": "python3"
  },
  "language_info": {
   "codemirror_mode": {
    "name": "ipython",
    "version": 3
   },
   "file_extension": ".py",
   "mimetype": "text/x-python",
   "name": "python",
   "nbconvert_exporter": "python",
   "pygments_lexer": "ipython3",
   "version": "3.13.1"
  }
 },
 "nbformat": 4,
 "nbformat_minor": 5
}
