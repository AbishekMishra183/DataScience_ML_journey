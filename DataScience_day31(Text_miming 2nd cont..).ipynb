{
 "cells": [
  {
   "cell_type": "code",
   "execution_count": 18,
   "id": "d810bc5d-ff50-4aa6-9ec9-27a7b0406b90",
   "metadata": {},
   "outputs": [],
   "source": [
    "with open('text_mining.txt','r',encoding='utf-8') as file:\n",
    "    content=file.read()"
   ]
  },
  {
   "cell_type": "code",
   "execution_count": 19,
   "id": "3e03a9f9-6e11-4dff-82b2-e0f8f146f87e",
   "metadata": {},
   "outputs": [
    {
     "name": "stdout",
     "output_type": "stream",
     "text": [
      "Law enforcement and criminal justice authorities are increasingly using artificial intelligence (AI) and automated decision-making (ADM) systems in their work.\n",
      "These systems can be used to profile people as criminal, ‘predict’ their \n",
      "actions, and assess their risk\n",
      "of certain behaviour, such as committing a crime, in the future.\n",
      "This can have devastating consequences for the people involved, if they are profiled as \n",
      "criminals or considered a ‘risk’ even though they haven’t actually committed a crime.\n",
      "These criminal ‘prediction’ systems or ‘predictive’  policing are no longer confined to the realms of science fiction. \n",
      "These systems are being used by law enforcement around the world.\n",
      "And predictions, profiles, and risk assessments that are based on data analysis, \n",
      "algorithms and AI, often lead to real criminal justice outcomes. This can include monitoring or surveillance,\n",
      "repeated stop and search, questioning, fines and arrests. \n",
      "These systems can also heavily influence prosecution, sentencing and probation decisions\n"
     ]
    }
   ],
   "source": [
    "print(content)"
   ]
  },
  {
   "cell_type": "code",
   "execution_count": 3,
   "id": "3216da9c-615f-4430-b7ba-941aa0c07430",
   "metadata": {},
   "outputs": [
    {
     "ename": "ImportError",
     "evalue": "cannot import name 'path' from 'pathlib' (C:\\Program Files\\Python313\\Lib\\pathlib\\__init__.py)",
     "output_type": "error",
     "traceback": [
      "\u001b[31m---------------------------------------------------------------------------\u001b[39m",
      "\u001b[31mImportError\u001b[39m                               Traceback (most recent call last)",
      "\u001b[36mCell\u001b[39m\u001b[36m \u001b[39m\u001b[32mIn[3]\u001b[39m\u001b[32m, line 1\u001b[39m\n\u001b[32m----> \u001b[39m\u001b[32m1\u001b[39m \u001b[38;5;28;01mfrom\u001b[39;00m\u001b[38;5;250m \u001b[39m\u001b[34;01mpathlib\u001b[39;00m\u001b[38;5;250m \u001b[39m\u001b[38;5;28;01mimport\u001b[39;00m path \n",
      "\u001b[31mImportError\u001b[39m: cannot import name 'path' from 'pathlib' (C:\\Program Files\\Python313\\Lib\\pathlib\\__init__.py)"
     ]
    }
   ],
   "source": [
    "Another way of open the file is pathlib so "
   ]
  },
  {
   "cell_type": "code",
   "execution_count": 4,
   "id": "77e9a5aa-8bb5-48b7-a037-bfd2e125a280",
   "metadata": {},
   "outputs": [
    {
     "name": "stdout",
     "output_type": "stream",
     "text": [
      "Defaulting to user installation because normal site-packages is not writeable\n",
      "Collecting pathlib\n",
      "  Downloading pathlib-1.0.1-py3-none-any.whl.metadata (5.1 kB)\n",
      "Downloading pathlib-1.0.1-py3-none-any.whl (14 kB)\n",
      "Installing collected packages: pathlib\n",
      "Successfully installed pathlib-1.0.1\n",
      "Note: you may need to restart the kernel to use updated packages.\n"
     ]
    }
   ],
   "source": [
    "pip install pathlib"
   ]
  },
  {
   "cell_type": "code",
   "execution_count": 7,
   "id": "c81849c8-38b3-4509-abe0-3ec909382b5f",
   "metadata": {},
   "outputs": [],
   "source": [
    "from pathlib import Path "
   ]
  },
  {
   "cell_type": "code",
   "execution_count": 9,
   "id": "76d85f98-782d-4b05-84f3-e558a00f890e",
   "metadata": {},
   "outputs": [],
   "source": [
    "content=Path('text_mining.txt').read_text\n"
   ]
  },
  {
   "cell_type": "code",
   "execution_count": 10,
   "id": "d645c9dc-e270-4bb4-b85a-0baccad8d0a9",
   "metadata": {},
   "outputs": [],
   "source": [
    "# Tokenization \n",
    "\n",
    "from nltk import word_tokenize\n"
   ]
  },
  {
   "cell_type": "code",
   "execution_count": 13,
   "id": "a692f042-7db2-4494-aa5b-540bb41ac6e2",
   "metadata": {},
   "outputs": [],
   "source": [
    "import nltk"
   ]
  },
  {
   "cell_type": "code",
   "execution_count": 14,
   "id": "fac438c1-f658-4e6a-a0d1-cfad22ca9969",
   "metadata": {},
   "outputs": [
    {
     "name": "stderr",
     "output_type": "stream",
     "text": [
      "[nltk_data] Downloading package punkt_tab to\n",
      "[nltk_data]     C:\\Users\\Acer\\AppData\\Roaming\\nltk_data...\n",
      "[nltk_data]   Unzipping tokenizers\\punkt_tab.zip.\n"
     ]
    },
    {
     "data": {
      "text/plain": [
       "True"
      ]
     },
     "execution_count": 14,
     "metadata": {},
     "output_type": "execute_result"
    }
   ],
   "source": [
    "nltk.download('punkt_tab')"
   ]
  },
  {
   "cell_type": "code",
   "execution_count": 20,
   "id": "7cfeabd4-8c6f-490b-8ec6-6a8748815926",
   "metadata": {},
   "outputs": [
    {
     "name": "stdout",
     "output_type": "stream",
     "text": [
      "['Law', 'enforcement', 'and', 'criminal', 'justice', 'authorities', 'are', 'increasingly', 'using', 'artificial', 'intelligence', '(', 'AI', ')', 'and', 'automated', 'decision-making', '(', 'ADM', ')', 'systems', 'in', 'their', 'work', '.', 'These', 'systems', 'can', 'be', 'used', 'to', 'profile', 'people', 'as', 'criminal', ',', '‘', 'predict', '’', 'their', 'actions', ',', 'and', 'assess', 'their', 'risk', 'of', 'certain', 'behaviour', ',', 'such', 'as', 'committing', 'a', 'crime', ',', 'in', 'the', 'future', '.', 'This', 'can', 'have', 'devastating', 'consequences', 'for', 'the', 'people', 'involved', ',', 'if', 'they', 'are', 'profiled', 'as', 'criminals', 'or', 'considered', 'a', '‘', 'risk', '’', 'even', 'though', 'they', 'haven', '’', 't', 'actually', 'committed', 'a', 'crime', '.', 'These', 'criminal', '‘', 'prediction', '’', 'systems', 'or', '‘', 'predictive', '’', 'policing', 'are', 'no', 'longer', 'confined', 'to', 'the', 'realms', 'of', 'science', 'fiction', '.', 'These', 'systems', 'are', 'being', 'used', 'by', 'law', 'enforcement', 'around', 'the', 'world', '.', 'And', 'predictions', ',', 'profiles', ',', 'and', 'risk', 'assessments', 'that', 'are', 'based', 'on', 'data', 'analysis', ',', 'algorithms', 'and', 'AI', ',', 'often', 'lead', 'to', 'real', 'criminal', 'justice', 'outcomes', '.', 'This', 'can', 'include', 'monitoring', 'or', 'surveillance', ',', 'repeated', 'stop', 'and', 'search', ',', 'questioning', ',', 'fines', 'and', 'arrests', '.', 'These', 'systems', 'can', 'also', 'heavily', 'influence', 'prosecution', ',', 'sentencing', 'and', 'probation', 'decisions']\n"
     ]
    }
   ],
   "source": [
    "tokens=word_tokenize(content)\n",
    "print(tokens)"
   ]
  },
  {
   "cell_type": "code",
   "execution_count": 21,
   "id": "8227e17a-19d3-4580-ba25-43111f0c9665",
   "metadata": {
    "collapsed": true,
    "jupyter": {
     "outputs_hidden": true
    },
    "scrolled": true
   },
   "outputs": [
    {
     "data": {
      "text/plain": [
       "['Law',\n",
       " 'enforcement',\n",
       " 'and',\n",
       " 'criminal',\n",
       " 'justice',\n",
       " 'authorities',\n",
       " 'are',\n",
       " 'increasingly',\n",
       " 'using',\n",
       " 'artificial',\n",
       " 'intelligence',\n",
       " '(AI)',\n",
       " 'and',\n",
       " 'automated',\n",
       " 'decision-making',\n",
       " '(ADM)',\n",
       " 'systems',\n",
       " 'in',\n",
       " 'their',\n",
       " 'work.',\n",
       " 'These',\n",
       " 'systems',\n",
       " 'can',\n",
       " 'be',\n",
       " 'used',\n",
       " 'to',\n",
       " 'profile',\n",
       " 'people',\n",
       " 'as',\n",
       " 'criminal,',\n",
       " '‘predict’',\n",
       " 'their',\n",
       " 'actions,',\n",
       " 'and',\n",
       " 'assess',\n",
       " 'their',\n",
       " 'risk',\n",
       " 'of',\n",
       " 'certain',\n",
       " 'behaviour,',\n",
       " 'such',\n",
       " 'as',\n",
       " 'committing',\n",
       " 'a',\n",
       " 'crime,',\n",
       " 'in',\n",
       " 'the',\n",
       " 'future.',\n",
       " 'This',\n",
       " 'can',\n",
       " 'have',\n",
       " 'devastating',\n",
       " 'consequences',\n",
       " 'for',\n",
       " 'the',\n",
       " 'people',\n",
       " 'involved,',\n",
       " 'if',\n",
       " 'they',\n",
       " 'are',\n",
       " 'profiled',\n",
       " 'as',\n",
       " 'criminals',\n",
       " 'or',\n",
       " 'considered',\n",
       " 'a',\n",
       " '‘risk’',\n",
       " 'even',\n",
       " 'though',\n",
       " 'they',\n",
       " 'haven’t',\n",
       " 'actually',\n",
       " 'committed',\n",
       " 'a',\n",
       " 'crime.',\n",
       " 'These',\n",
       " 'criminal',\n",
       " '‘prediction’',\n",
       " 'systems',\n",
       " 'or',\n",
       " '‘predictive’',\n",
       " 'policing',\n",
       " 'are',\n",
       " 'no',\n",
       " 'longer',\n",
       " 'confined',\n",
       " 'to',\n",
       " 'the',\n",
       " 'realms',\n",
       " 'of',\n",
       " 'science',\n",
       " 'fiction.',\n",
       " 'These',\n",
       " 'systems',\n",
       " 'are',\n",
       " 'being',\n",
       " 'used',\n",
       " 'by',\n",
       " 'law',\n",
       " 'enforcement',\n",
       " 'around',\n",
       " 'the',\n",
       " 'world.',\n",
       " 'And',\n",
       " 'predictions,',\n",
       " 'profiles,',\n",
       " 'and',\n",
       " 'risk',\n",
       " 'assessments',\n",
       " 'that',\n",
       " 'are',\n",
       " 'based',\n",
       " 'on',\n",
       " 'data',\n",
       " 'analysis,',\n",
       " 'algorithms',\n",
       " 'and',\n",
       " 'AI,',\n",
       " 'often',\n",
       " 'lead',\n",
       " 'to',\n",
       " 'real',\n",
       " 'criminal',\n",
       " 'justice',\n",
       " 'outcomes.',\n",
       " 'This',\n",
       " 'can',\n",
       " 'include',\n",
       " 'monitoring',\n",
       " 'or',\n",
       " 'surveillance,',\n",
       " 'repeated',\n",
       " 'stop',\n",
       " 'and',\n",
       " 'search,',\n",
       " 'questioning,',\n",
       " 'fines',\n",
       " 'and',\n",
       " 'arrests.',\n",
       " 'These',\n",
       " 'systems',\n",
       " 'can',\n",
       " 'also',\n",
       " 'heavily',\n",
       " 'influence',\n",
       " 'prosecution,',\n",
       " 'sentencing',\n",
       " 'and',\n",
       " 'probation',\n",
       " 'decisions']"
      ]
     },
     "execution_count": 21,
     "metadata": {},
     "output_type": "execute_result"
    }
   ],
   "source": [
    "tokens=content.split()\n",
    "tokens"
   ]
  },
  {
   "cell_type": "code",
   "execution_count": 22,
   "id": "ca8f8c10-1217-4f37-ae8f-adac89066be2",
   "metadata": {},
   "outputs": [
    {
     "name": "stdout",
     "output_type": "stream",
     "text": [
      "<FreqDist with 105 samples and 150 outcomes>\n"
     ]
    }
   ],
   "source": [
    "# Most Frequent \n",
    "\n",
    "from nltk.probability import FreqDist\n",
    "frequency=FreqDist(tokens)\n",
    "print(frequency)"
   ]
  },
  {
   "cell_type": "code",
   "execution_count": null,
   "id": "48b563c0-7d03-4b90-b190-5e2e182a00ca",
   "metadata": {},
   "outputs": [],
   "source": [
    "here in the above output out of 150 outcomes 105 are unique "
   ]
  },
  {
   "cell_type": "code",
   "execution_count": 25,
   "id": "bdca69a0-722c-4185-8651-e218f99a312e",
   "metadata": {},
   "outputs": [
    {
     "data": {
      "text/plain": [
       "[('and', 8), ('are', 5), ('systems', 5), ('These', 4), ('can', 4)]"
      ]
     },
     "execution_count": 25,
     "metadata": {},
     "output_type": "execute_result"
    }
   ],
   "source": [
    "frequency.most_common(5)"
   ]
  },
  {
   "cell_type": "code",
   "execution_count": 26,
   "id": "246919a7-790d-432f-b8cd-7568946b08f1",
   "metadata": {},
   "outputs": [
    {
     "data": {
      "text/plain": [
       "[('and', 8),\n",
       " ('are', 5),\n",
       " ('systems', 5),\n",
       " ('These', 4),\n",
       " ('can', 4),\n",
       " ('the', 4),\n",
       " ('criminal', 3),\n",
       " ('their', 3),\n",
       " ('to', 3),\n",
       " ('as', 3)]"
      ]
     },
     "execution_count": 26,
     "metadata": {},
     "output_type": "execute_result"
    }
   ],
   "source": [
    "frequency.most_common(10) # top 10 most common repeated data "
   ]
  },
  {
   "cell_type": "code",
   "execution_count": 27,
   "id": "690d8bcb-3754-46b2-8836-27d8d42d85f3",
   "metadata": {},
   "outputs": [],
   "source": [
    "#Punctaution Removal \n",
    "import string\n"
   ]
  },
  {
   "cell_type": "code",
   "execution_count": 28,
   "id": "f8141a67-75ff-4877-9597-7885b940ffbf",
   "metadata": {},
   "outputs": [
    {
     "data": {
      "text/plain": [
       "'!\"#$%&\\'()*+,-./:;<=>?@[\\\\]^_`{|}~'"
      ]
     },
     "execution_count": 28,
     "metadata": {},
     "output_type": "execute_result"
    }
   ],
   "source": [
    "string.punctuation"
   ]
  },
  {
   "cell_type": "code",
   "execution_count": 31,
   "id": "ca7c2472-4fd4-42f3-935f-d4e163a93783",
   "metadata": {},
   "outputs": [],
   "source": [
    "translator=str.maketrans('','',string.punctuation)\n",
    "# if the liyako token cahi string .puncuation ma xa vanyue teslai chai \n",
    "# empty ley represent '','' yeni haruley 2 ota space ko matlab yauta ley chai represent garne arko ley chai replace garne \n",
    "# "
   ]
  },
  {
   "cell_type": "code",
   "execution_count": 33,
   "id": "21676341-cd42-4cc3-84ac-0ba29acc4627",
   "metadata": {},
   "outputs": [],
   "source": [
    "after_content=content.translate(translator)"
   ]
  },
  {
   "cell_type": "code",
   "execution_count": 34,
   "id": "e3dc959c-d658-40a4-aab8-3b143ceef143",
   "metadata": {},
   "outputs": [
    {
     "data": {
      "text/plain": [
       "'Law enforcement and criminal justice authorities are increasingly using artificial intelligence AI and automated decisionmaking ADM systems in their work\\nThese systems can be used to profile people as criminal ‘predict’ their \\nactions and assess their risk\\nof certain behaviour such as committing a crime in the future\\nThis can have devastating consequences for the people involved if they are profiled as \\ncriminals or considered a ‘risk’ even though they haven’t actually committed a crime\\nThese criminal ‘prediction’ systems or ‘predictive’  policing are no longer confined to the realms of science fiction \\nThese systems are being used by law enforcement around the world\\nAnd predictions profiles and risk assessments that are based on data analysis \\nalgorithms and AI often lead to real criminal justice outcomes This can include monitoring or surveillance\\nrepeated stop and search questioning fines and arrests \\nThese systems can also heavily influence prosecution sentencing and probation decisions'"
      ]
     },
     "execution_count": 34,
     "metadata": {},
     "output_type": "execute_result"
    }
   ],
   "source": [
    "after_content"
   ]
  },
  {
   "cell_type": "code",
   "execution_count": 41,
   "id": "fb84e139-25f6-4e69-be33-fe1be183ff0d",
   "metadata": {
    "collapsed": true,
    "jupyter": {
     "outputs_hidden": true
    }
   },
   "outputs": [
    {
     "data": {
      "text/plain": [
       "['Law',\n",
       " 'enforcement',\n",
       " 'and',\n",
       " 'criminal',\n",
       " 'justice',\n",
       " 'authorities',\n",
       " 'are',\n",
       " 'increasingly',\n",
       " 'using',\n",
       " 'artificial',\n",
       " 'intelligence',\n",
       " '(AI)',\n",
       " 'and',\n",
       " 'automated',\n",
       " 'decision-making',\n",
       " '(ADM)',\n",
       " 'systems',\n",
       " 'in',\n",
       " 'their',\n",
       " 'work.',\n",
       " 'These',\n",
       " 'systems',\n",
       " 'can',\n",
       " 'be',\n",
       " 'used',\n",
       " 'to',\n",
       " 'profile',\n",
       " 'people',\n",
       " 'as',\n",
       " 'criminal,',\n",
       " '‘predict’',\n",
       " 'their',\n",
       " 'actions,',\n",
       " 'and',\n",
       " 'assess',\n",
       " 'their',\n",
       " 'risk',\n",
       " 'of',\n",
       " 'certain',\n",
       " 'behaviour,',\n",
       " 'such',\n",
       " 'as',\n",
       " 'committing',\n",
       " 'a',\n",
       " 'crime,',\n",
       " 'in',\n",
       " 'the',\n",
       " 'future.',\n",
       " 'This',\n",
       " 'can',\n",
       " 'have',\n",
       " 'devastating',\n",
       " 'consequences',\n",
       " 'for',\n",
       " 'the',\n",
       " 'people',\n",
       " 'involved,',\n",
       " 'if',\n",
       " 'they',\n",
       " 'are',\n",
       " 'profiled',\n",
       " 'as',\n",
       " 'criminals',\n",
       " 'or',\n",
       " 'considered',\n",
       " 'a',\n",
       " '‘risk’',\n",
       " 'even',\n",
       " 'though',\n",
       " 'they',\n",
       " 'haven’t',\n",
       " 'actually',\n",
       " 'committed',\n",
       " 'a',\n",
       " 'crime.',\n",
       " 'These',\n",
       " 'criminal',\n",
       " '‘prediction’',\n",
       " 'systems',\n",
       " 'or',\n",
       " '‘predictive’',\n",
       " 'policing',\n",
       " 'are',\n",
       " 'no',\n",
       " 'longer',\n",
       " 'confined',\n",
       " 'to',\n",
       " 'the',\n",
       " 'realms',\n",
       " 'of',\n",
       " 'science',\n",
       " 'fiction.',\n",
       " 'These',\n",
       " 'systems',\n",
       " 'are',\n",
       " 'being',\n",
       " 'used',\n",
       " 'by',\n",
       " 'law',\n",
       " 'enforcement',\n",
       " 'around',\n",
       " 'the',\n",
       " 'world.',\n",
       " 'And',\n",
       " 'predictions,',\n",
       " 'profiles,',\n",
       " 'and',\n",
       " 'risk',\n",
       " 'assessments',\n",
       " 'that',\n",
       " 'are',\n",
       " 'based',\n",
       " 'on',\n",
       " 'data',\n",
       " 'analysis,',\n",
       " 'algorithms',\n",
       " 'and',\n",
       " 'AI,',\n",
       " 'often',\n",
       " 'lead',\n",
       " 'to',\n",
       " 'real',\n",
       " 'criminal',\n",
       " 'justice',\n",
       " 'outcomes.',\n",
       " 'This',\n",
       " 'can',\n",
       " 'include',\n",
       " 'monitoring',\n",
       " 'or',\n",
       " 'surveillance,',\n",
       " 'repeated',\n",
       " 'stop',\n",
       " 'and',\n",
       " 'search,',\n",
       " 'questioning,',\n",
       " 'fines',\n",
       " 'and',\n",
       " 'arrests.',\n",
       " 'These',\n",
       " 'systems',\n",
       " 'can',\n",
       " 'also',\n",
       " 'heavily',\n",
       " 'influence',\n",
       " 'prosecution,',\n",
       " 'sentencing',\n",
       " 'and',\n",
       " 'probation',\n",
       " 'decisions']"
      ]
     },
     "execution_count": 41,
     "metadata": {},
     "output_type": "execute_result"
    }
   ],
   "source": [
    "tokens=content.split()\n",
    "tokens"
   ]
  },
  {
   "cell_type": "code",
   "execution_count": null,
   "id": "ee05615f-4370-48c2-815e-3de24865895c",
   "metadata": {},
   "outputs": [],
   "source": []
  },
  {
   "cell_type": "code",
   "execution_count": null,
   "id": "83b3ce56-9852-41fe-909b-feeec3272ef8",
   "metadata": {},
   "outputs": [],
   "source": []
  },
  {
   "cell_type": "code",
   "execution_count": null,
   "id": "f9da1582-b4ce-46af-a73e-f577e4f97d66",
   "metadata": {},
   "outputs": [],
   "source": [
    "# /n is the indication of the new line and all the other puncuation are removed from here \n",
    "# after using content.translator"
   ]
  },
  {
   "cell_type": "code",
   "execution_count": null,
   "id": "4b3dfcda-0f76-48cf-a9b2-7021b8994130",
   "metadata": {},
   "outputs": [],
   "source": [
    "stopwords => a, an, the , but(preposition and conjuction)\n",
    "# stopwords use garne import corpus garno parxa\n",
    "# corpus is the collection of the documents "
   ]
  },
  {
   "cell_type": "code",
   "execution_count": 35,
   "id": "0a3c9ee6-346b-4ed2-8319-4df2d9507d2a",
   "metadata": {},
   "outputs": [],
   "source": [
    "import nltk.corpus "
   ]
  },
  {
   "cell_type": "code",
   "execution_count": 36,
   "id": "12c4b7c5-c6b8-4e47-92af-eaa54bf71706",
   "metadata": {},
   "outputs": [],
   "source": [
    "from nltk.corpus import stopwords"
   ]
  },
  {
   "cell_type": "code",
   "execution_count": 38,
   "id": "7518d31a-873b-400c-8cff-eb6b7bfed494",
   "metadata": {},
   "outputs": [
    {
     "name": "stderr",
     "output_type": "stream",
     "text": [
      "[nltk_data] Downloading package stopwords to\n",
      "[nltk_data]     C:\\Users\\Acer\\AppData\\Roaming\\nltk_data...\n",
      "[nltk_data]   Unzipping corpora\\stopwords.zip.\n"
     ]
    },
    {
     "data": {
      "text/plain": [
       "True"
      ]
     },
     "execution_count": 38,
     "metadata": {},
     "output_type": "execute_result"
    }
   ],
   "source": [
    "nltk.download('stopwords')"
   ]
  },
  {
   "cell_type": "code",
   "execution_count": 39,
   "id": "15674489-003f-47ab-8a07-27b5b97b6425",
   "metadata": {},
   "outputs": [],
   "source": [
    "stop_words=set(stopwords.words('english')) # english ko stopwords lai set garyako"
   ]
  },
  {
   "cell_type": "code",
   "execution_count": 40,
   "id": "9824e156-8c86-4b07-a9a0-d56e14672353",
   "metadata": {
    "collapsed": true,
    "jupyter": {
     "outputs_hidden": true
    }
   },
   "outputs": [
    {
     "data": {
      "text/plain": [
       "{'a',\n",
       " 'about',\n",
       " 'above',\n",
       " 'after',\n",
       " 'again',\n",
       " 'against',\n",
       " 'ain',\n",
       " 'all',\n",
       " 'am',\n",
       " 'an',\n",
       " 'and',\n",
       " 'any',\n",
       " 'are',\n",
       " 'aren',\n",
       " \"aren't\",\n",
       " 'as',\n",
       " 'at',\n",
       " 'be',\n",
       " 'because',\n",
       " 'been',\n",
       " 'before',\n",
       " 'being',\n",
       " 'below',\n",
       " 'between',\n",
       " 'both',\n",
       " 'but',\n",
       " 'by',\n",
       " 'can',\n",
       " 'couldn',\n",
       " \"couldn't\",\n",
       " 'd',\n",
       " 'did',\n",
       " 'didn',\n",
       " \"didn't\",\n",
       " 'do',\n",
       " 'does',\n",
       " 'doesn',\n",
       " \"doesn't\",\n",
       " 'doing',\n",
       " 'don',\n",
       " \"don't\",\n",
       " 'down',\n",
       " 'during',\n",
       " 'each',\n",
       " 'few',\n",
       " 'for',\n",
       " 'from',\n",
       " 'further',\n",
       " 'had',\n",
       " 'hadn',\n",
       " \"hadn't\",\n",
       " 'has',\n",
       " 'hasn',\n",
       " \"hasn't\",\n",
       " 'have',\n",
       " 'haven',\n",
       " \"haven't\",\n",
       " 'having',\n",
       " 'he',\n",
       " \"he'd\",\n",
       " \"he'll\",\n",
       " \"he's\",\n",
       " 'her',\n",
       " 'here',\n",
       " 'hers',\n",
       " 'herself',\n",
       " 'him',\n",
       " 'himself',\n",
       " 'his',\n",
       " 'how',\n",
       " 'i',\n",
       " \"i'd\",\n",
       " \"i'll\",\n",
       " \"i'm\",\n",
       " \"i've\",\n",
       " 'if',\n",
       " 'in',\n",
       " 'into',\n",
       " 'is',\n",
       " 'isn',\n",
       " \"isn't\",\n",
       " 'it',\n",
       " \"it'd\",\n",
       " \"it'll\",\n",
       " \"it's\",\n",
       " 'its',\n",
       " 'itself',\n",
       " 'just',\n",
       " 'll',\n",
       " 'm',\n",
       " 'ma',\n",
       " 'me',\n",
       " 'mightn',\n",
       " \"mightn't\",\n",
       " 'more',\n",
       " 'most',\n",
       " 'mustn',\n",
       " \"mustn't\",\n",
       " 'my',\n",
       " 'myself',\n",
       " 'needn',\n",
       " \"needn't\",\n",
       " 'no',\n",
       " 'nor',\n",
       " 'not',\n",
       " 'now',\n",
       " 'o',\n",
       " 'of',\n",
       " 'off',\n",
       " 'on',\n",
       " 'once',\n",
       " 'only',\n",
       " 'or',\n",
       " 'other',\n",
       " 'our',\n",
       " 'ours',\n",
       " 'ourselves',\n",
       " 'out',\n",
       " 'over',\n",
       " 'own',\n",
       " 're',\n",
       " 's',\n",
       " 'same',\n",
       " 'shan',\n",
       " \"shan't\",\n",
       " 'she',\n",
       " \"she'd\",\n",
       " \"she'll\",\n",
       " \"she's\",\n",
       " 'should',\n",
       " \"should've\",\n",
       " 'shouldn',\n",
       " \"shouldn't\",\n",
       " 'so',\n",
       " 'some',\n",
       " 'such',\n",
       " 't',\n",
       " 'than',\n",
       " 'that',\n",
       " \"that'll\",\n",
       " 'the',\n",
       " 'their',\n",
       " 'theirs',\n",
       " 'them',\n",
       " 'themselves',\n",
       " 'then',\n",
       " 'there',\n",
       " 'these',\n",
       " 'they',\n",
       " \"they'd\",\n",
       " \"they'll\",\n",
       " \"they're\",\n",
       " \"they've\",\n",
       " 'this',\n",
       " 'those',\n",
       " 'through',\n",
       " 'to',\n",
       " 'too',\n",
       " 'under',\n",
       " 'until',\n",
       " 'up',\n",
       " 've',\n",
       " 'very',\n",
       " 'was',\n",
       " 'wasn',\n",
       " \"wasn't\",\n",
       " 'we',\n",
       " \"we'd\",\n",
       " \"we'll\",\n",
       " \"we're\",\n",
       " \"we've\",\n",
       " 'were',\n",
       " 'weren',\n",
       " \"weren't\",\n",
       " 'what',\n",
       " 'when',\n",
       " 'where',\n",
       " 'which',\n",
       " 'while',\n",
       " 'who',\n",
       " 'whom',\n",
       " 'why',\n",
       " 'will',\n",
       " 'with',\n",
       " 'won',\n",
       " \"won't\",\n",
       " 'wouldn',\n",
       " \"wouldn't\",\n",
       " 'y',\n",
       " 'you',\n",
       " \"you'd\",\n",
       " \"you'll\",\n",
       " \"you're\",\n",
       " \"you've\",\n",
       " 'your',\n",
       " 'yours',\n",
       " 'yourself',\n",
       " 'yourselves'}"
      ]
     },
     "execution_count": 40,
     "metadata": {},
     "output_type": "execute_result"
    }
   ],
   "source": [
    "stop_words"
   ]
  },
  {
   "cell_type": "code",
   "execution_count": 42,
   "id": "4b3ef515-db25-4ee5-8677-0cda38ebfb05",
   "metadata": {},
   "outputs": [],
   "source": [
    "after_stopwords=[]\n",
    "for word in tokens:\n",
    "    if word not in stop_words:\n",
    "        after_stopwords.append(word)\n",
    "        "
   ]
  },
  {
   "cell_type": "code",
   "execution_count": 43,
   "id": "3de1dbca-bbbd-4ee6-b32d-90e5f0fa0dd6",
   "metadata": {},
   "outputs": [
    {
     "data": {
      "text/plain": [
       "['Law',\n",
       " 'enforcement',\n",
       " 'criminal',\n",
       " 'justice',\n",
       " 'authorities',\n",
       " 'increasingly',\n",
       " 'using',\n",
       " 'artificial',\n",
       " 'intelligence',\n",
       " '(AI)',\n",
       " 'automated',\n",
       " 'decision-making',\n",
       " '(ADM)',\n",
       " 'systems',\n",
       " 'work.',\n",
       " 'These',\n",
       " 'systems',\n",
       " 'used',\n",
       " 'profile',\n",
       " 'people',\n",
       " 'criminal,',\n",
       " '‘predict’',\n",
       " 'actions,',\n",
       " 'assess',\n",
       " 'risk',\n",
       " 'certain',\n",
       " 'behaviour,',\n",
       " 'committing',\n",
       " 'crime,',\n",
       " 'future.',\n",
       " 'This',\n",
       " 'devastating',\n",
       " 'consequences',\n",
       " 'people',\n",
       " 'involved,',\n",
       " 'profiled',\n",
       " 'criminals',\n",
       " 'considered',\n",
       " '‘risk’',\n",
       " 'even',\n",
       " 'though',\n",
       " 'haven’t',\n",
       " 'actually',\n",
       " 'committed',\n",
       " 'crime.',\n",
       " 'These',\n",
       " 'criminal',\n",
       " '‘prediction’',\n",
       " 'systems',\n",
       " '‘predictive’',\n",
       " 'policing',\n",
       " 'longer',\n",
       " 'confined',\n",
       " 'realms',\n",
       " 'science',\n",
       " 'fiction.',\n",
       " 'These',\n",
       " 'systems',\n",
       " 'used',\n",
       " 'law',\n",
       " 'enforcement',\n",
       " 'around',\n",
       " 'world.',\n",
       " 'And',\n",
       " 'predictions,',\n",
       " 'profiles,',\n",
       " 'risk',\n",
       " 'assessments',\n",
       " 'based',\n",
       " 'data',\n",
       " 'analysis,',\n",
       " 'algorithms',\n",
       " 'AI,',\n",
       " 'often',\n",
       " 'lead',\n",
       " 'real',\n",
       " 'criminal',\n",
       " 'justice',\n",
       " 'outcomes.',\n",
       " 'This',\n",
       " 'include',\n",
       " 'monitoring',\n",
       " 'surveillance,',\n",
       " 'repeated',\n",
       " 'stop',\n",
       " 'search,',\n",
       " 'questioning,',\n",
       " 'fines',\n",
       " 'arrests.',\n",
       " 'These',\n",
       " 'systems',\n",
       " 'also',\n",
       " 'heavily',\n",
       " 'influence',\n",
       " 'prosecution,',\n",
       " 'sentencing',\n",
       " 'probation',\n",
       " 'decisions']"
      ]
     },
     "execution_count": 43,
     "metadata": {},
     "output_type": "execute_result"
    }
   ],
   "source": [
    "after_stopwords"
   ]
  },
  {
   "cell_type": "markdown",
   "id": "96e376b3-e578-4a7c-8f3a-b58fbf8722a4",
   "metadata": {},
   "source": [
    "line 42 number logic is for removing the stopword from the text"
   ]
  },
  {
   "cell_type": "markdown",
   "id": "2eba0ff1-c870-4249-a872-7db234b8ba5c",
   "metadata": {},
   "source": [
    "if we want this stopwords in the paragraph we have to use the join with the help of space"
   ]
  },
  {
   "cell_type": "code",
   "execution_count": 45,
   "id": "353796e8-0c8a-4910-963b-33c45242a4ed",
   "metadata": {},
   "outputs": [],
   "source": [
    "final_content=' '.join(after_stopwords)\n",
    "\n",
    "#joins a list of words (after removing stopwords) into a single string, where each word is separated by a space.'space'"
   ]
  },
  {
   "cell_type": "code",
   "execution_count": 46,
   "id": "c31ffeac-0e9f-4ee6-bb5c-80b92a84f293",
   "metadata": {},
   "outputs": [
    {
     "data": {
      "text/plain": [
       "'Law enforcement criminal justice authorities increasingly using artificial intelligence (AI) automated decision-making (ADM) systems work. These systems used profile people criminal, ‘predict’ actions, assess risk certain behaviour, committing crime, future. This devastating consequences people involved, profiled criminals considered ‘risk’ even though haven’t actually committed crime. These criminal ‘prediction’ systems ‘predictive’ policing longer confined realms science fiction. These systems used law enforcement around world. And predictions, profiles, risk assessments based data analysis, algorithms AI, often lead real criminal justice outcomes. This include monitoring surveillance, repeated stop search, questioning, fines arrests. These systems also heavily influence prosecution, sentencing probation decisions'"
      ]
     },
     "execution_count": 46,
     "metadata": {},
     "output_type": "execute_result"
    }
   ],
   "source": [
    "final_content"
   ]
  },
  {
   "cell_type": "code",
   "execution_count": 49,
   "id": "ebd72833-9296-4423-a740-de1645f326c2",
   "metadata": {},
   "outputs": [],
   "source": [
    "  #list compherension\n",
    "number=[2,3,4,5,6]"
   ]
  },
  {
   "cell_type": "code",
   "execution_count": 50,
   "id": "e6c0b7b6-16e1-47ed-ba19-a5102ad5f1db",
   "metadata": {},
   "outputs": [],
   "source": [
    "sq_list=[]\n",
    "for x in number:\n",
    "    sq=x*x\n",
    "    sq_list.append(sq)\n",
    "    "
   ]
  },
  {
   "cell_type": "code",
   "execution_count": 51,
   "id": "265e0432-1338-491f-b1bd-ef7dcdf2e0ff",
   "metadata": {},
   "outputs": [
    {
     "data": {
      "text/plain": [
       "[4, 9, 16, 25, 36]"
      ]
     },
     "execution_count": 51,
     "metadata": {},
     "output_type": "execute_result"
    }
   ],
   "source": [
    "sq_list"
   ]
  },
  {
   "cell_type": "code",
   "execution_count": null,
   "id": "9d8496d2-3ebf-4832-98ca-ecfc8e76c891",
   "metadata": {},
   "outputs": [],
   "source": [
    "# yeslai 1 line ko logic ma ni garana sakinccha list comphernsion use garyarw"
   ]
  },
  {
   "cell_type": "code",
   "execution_count": 52,
   "id": "9570484d-92c6-4f48-81c2-8e5c4fbdc697",
   "metadata": {},
   "outputs": [],
   "source": [
    "# List comphernsion\n",
    "sq_list=[x**2 for x in number]"
   ]
  },
  {
   "cell_type": "code",
   "execution_count": 53,
   "id": "48eb2e63-2f32-47a9-bcef-55926e0f99cf",
   "metadata": {},
   "outputs": [
    {
     "data": {
      "text/plain": [
       "[4, 9, 16, 25, 36]"
      ]
     },
     "execution_count": 53,
     "metadata": {},
     "output_type": "execute_result"
    }
   ],
   "source": [
    "sq_list"
   ]
  },
  {
   "cell_type": "code",
   "execution_count": null,
   "id": "ad0d0ce3-a244-499c-9aca-279e61e7d42e",
   "metadata": {},
   "outputs": [],
   "source": [
    "# Assignment for the spacy "
   ]
  },
  {
   "cell_type": "code",
   "execution_count": 58,
   "id": "0820fa32-b66a-48fb-9dce-23b410cb190a",
   "metadata": {},
   "outputs": [
    {
     "name": "stdout",
     "output_type": "stream",
     "text": [
      "Defaulting to user installation because normal site-packages is not writeable\n",
      "Requirement already satisfied: spacy in c:\\users\\acer\\appdata\\roaming\\python\\python313\\site-packages (3.8.7)\n",
      "Requirement already satisfied: spacy-legacy<3.1.0,>=3.0.11 in c:\\users\\acer\\appdata\\roaming\\python\\python313\\site-packages (from spacy) (3.0.12)\n",
      "Requirement already satisfied: spacy-loggers<2.0.0,>=1.0.0 in c:\\users\\acer\\appdata\\roaming\\python\\python313\\site-packages (from spacy) (1.0.5)\n",
      "Requirement already satisfied: murmurhash<1.1.0,>=0.28.0 in c:\\users\\acer\\appdata\\roaming\\python\\python313\\site-packages (from spacy) (1.0.13)\n",
      "Requirement already satisfied: cymem<2.1.0,>=2.0.2 in c:\\users\\acer\\appdata\\roaming\\python\\python313\\site-packages (from spacy) (2.0.11)\n",
      "Requirement already satisfied: preshed<3.1.0,>=3.0.2 in c:\\users\\acer\\appdata\\roaming\\python\\python313\\site-packages (from spacy) (3.0.10)\n",
      "Requirement already satisfied: thinc<8.4.0,>=8.3.4 in c:\\users\\acer\\appdata\\roaming\\python\\python313\\site-packages (from spacy) (8.3.6)\n",
      "Requirement already satisfied: wasabi<1.2.0,>=0.9.1 in c:\\users\\acer\\appdata\\roaming\\python\\python313\\site-packages (from spacy) (1.1.3)\n",
      "Requirement already satisfied: srsly<3.0.0,>=2.4.3 in c:\\users\\acer\\appdata\\roaming\\python\\python313\\site-packages (from spacy) (2.5.1)\n",
      "Requirement already satisfied: catalogue<2.1.0,>=2.0.6 in c:\\users\\acer\\appdata\\roaming\\python\\python313\\site-packages (from spacy) (2.0.10)\n",
      "Requirement already satisfied: weasel<0.5.0,>=0.1.0 in c:\\users\\acer\\appdata\\roaming\\python\\python313\\site-packages (from spacy) (0.4.1)\n",
      "Requirement already satisfied: typer<1.0.0,>=0.3.0 in c:\\users\\acer\\appdata\\roaming\\python\\python313\\site-packages (from spacy) (0.16.0)\n",
      "Requirement already satisfied: tqdm<5.0.0,>=4.38.0 in c:\\users\\acer\\appdata\\roaming\\python\\python313\\site-packages (from spacy) (4.67.1)\n",
      "Requirement already satisfied: numpy>=1.19.0 in c:\\users\\acer\\appdata\\roaming\\python\\python313\\site-packages (from spacy) (2.2.1)\n",
      "Requirement already satisfied: requests<3.0.0,>=2.13.0 in c:\\users\\acer\\appdata\\roaming\\python\\python313\\site-packages (from spacy) (2.32.3)\n",
      "Requirement already satisfied: pydantic!=1.8,!=1.8.1,<3.0.0,>=1.7.4 in c:\\users\\acer\\appdata\\roaming\\python\\python313\\site-packages (from spacy) (2.11.7)\n",
      "Requirement already satisfied: jinja2 in c:\\users\\acer\\appdata\\roaming\\python\\python313\\site-packages (from spacy) (3.1.6)\n",
      "Requirement already satisfied: setuptools in c:\\users\\acer\\appdata\\roaming\\python\\python313\\site-packages (from spacy) (78.1.0)\n",
      "Requirement already satisfied: packaging>=20.0 in c:\\users\\acer\\appdata\\roaming\\python\\python313\\site-packages (from spacy) (24.2)\n",
      "Requirement already satisfied: langcodes<4.0.0,>=3.2.0 in c:\\users\\acer\\appdata\\roaming\\python\\python313\\site-packages (from spacy) (3.5.0)\n",
      "Requirement already satisfied: language-data>=1.2 in c:\\users\\acer\\appdata\\roaming\\python\\python313\\site-packages (from langcodes<4.0.0,>=3.2.0->spacy) (1.3.0)\n",
      "Requirement already satisfied: annotated-types>=0.6.0 in c:\\users\\acer\\appdata\\roaming\\python\\python313\\site-packages (from pydantic!=1.8,!=1.8.1,<3.0.0,>=1.7.4->spacy) (0.7.0)\n",
      "Requirement already satisfied: pydantic-core==2.33.2 in c:\\users\\acer\\appdata\\roaming\\python\\python313\\site-packages (from pydantic!=1.8,!=1.8.1,<3.0.0,>=1.7.4->spacy) (2.33.2)\n",
      "Requirement already satisfied: typing-extensions>=4.12.2 in c:\\users\\acer\\appdata\\roaming\\python\\python313\\site-packages (from pydantic!=1.8,!=1.8.1,<3.0.0,>=1.7.4->spacy) (4.13.2)\n",
      "Requirement already satisfied: typing-inspection>=0.4.0 in c:\\users\\acer\\appdata\\roaming\\python\\python313\\site-packages (from pydantic!=1.8,!=1.8.1,<3.0.0,>=1.7.4->spacy) (0.4.1)\n",
      "Requirement already satisfied: charset-normalizer<4,>=2 in c:\\users\\acer\\appdata\\roaming\\python\\python313\\site-packages (from requests<3.0.0,>=2.13.0->spacy) (3.4.1)\n",
      "Requirement already satisfied: idna<4,>=2.5 in c:\\users\\acer\\appdata\\roaming\\python\\python313\\site-packages (from requests<3.0.0,>=2.13.0->spacy) (3.10)\n",
      "Requirement already satisfied: urllib3<3,>=1.21.1 in c:\\users\\acer\\appdata\\roaming\\python\\python313\\site-packages (from requests<3.0.0,>=2.13.0->spacy) (2.4.0)\n",
      "Requirement already satisfied: certifi>=2017.4.17 in c:\\users\\acer\\appdata\\roaming\\python\\python313\\site-packages (from requests<3.0.0,>=2.13.0->spacy) (2025.1.31)\n",
      "Requirement already satisfied: blis<1.4.0,>=1.3.0 in c:\\users\\acer\\appdata\\roaming\\python\\python313\\site-packages (from thinc<8.4.0,>=8.3.4->spacy) (1.3.0)\n",
      "Requirement already satisfied: confection<1.0.0,>=0.0.1 in c:\\users\\acer\\appdata\\roaming\\python\\python313\\site-packages (from thinc<8.4.0,>=8.3.4->spacy) (0.1.5)\n",
      "Requirement already satisfied: colorama in c:\\users\\acer\\appdata\\roaming\\python\\python313\\site-packages (from tqdm<5.0.0,>=4.38.0->spacy) (0.4.6)\n",
      "Requirement already satisfied: click>=8.0.0 in c:\\users\\acer\\appdata\\roaming\\python\\python313\\site-packages (from typer<1.0.0,>=0.3.0->spacy) (8.2.1)\n",
      "Requirement already satisfied: shellingham>=1.3.0 in c:\\users\\acer\\appdata\\roaming\\python\\python313\\site-packages (from typer<1.0.0,>=0.3.0->spacy) (1.5.4)\n",
      "Requirement already satisfied: rich>=10.11.0 in c:\\users\\acer\\appdata\\roaming\\python\\python313\\site-packages (from typer<1.0.0,>=0.3.0->spacy) (14.0.0)\n",
      "Requirement already satisfied: cloudpathlib<1.0.0,>=0.7.0 in c:\\users\\acer\\appdata\\roaming\\python\\python313\\site-packages (from weasel<0.5.0,>=0.1.0->spacy) (0.21.1)\n",
      "Requirement already satisfied: smart-open<8.0.0,>=5.2.1 in c:\\users\\acer\\appdata\\roaming\\python\\python313\\site-packages (from weasel<0.5.0,>=0.1.0->spacy) (7.1.0)\n",
      "Requirement already satisfied: wrapt in c:\\users\\acer\\appdata\\roaming\\python\\python313\\site-packages (from smart-open<8.0.0,>=5.2.1->weasel<0.5.0,>=0.1.0->spacy) (1.17.2)\n",
      "Requirement already satisfied: marisa-trie>=1.1.0 in c:\\users\\acer\\appdata\\roaming\\python\\python313\\site-packages (from language-data>=1.2->langcodes<4.0.0,>=3.2.0->spacy) (1.2.1)\n",
      "Requirement already satisfied: markdown-it-py>=2.2.0 in c:\\users\\acer\\appdata\\roaming\\python\\python313\\site-packages (from rich>=10.11.0->typer<1.0.0,>=0.3.0->spacy) (3.0.0)\n",
      "Requirement already satisfied: pygments<3.0.0,>=2.13.0 in c:\\users\\acer\\appdata\\roaming\\python\\python313\\site-packages (from rich>=10.11.0->typer<1.0.0,>=0.3.0->spacy) (2.19.1)\n",
      "Requirement already satisfied: mdurl~=0.1 in c:\\users\\acer\\appdata\\roaming\\python\\python313\\site-packages (from markdown-it-py>=2.2.0->rich>=10.11.0->typer<1.0.0,>=0.3.0->spacy) (0.1.2)\n",
      "Requirement already satisfied: MarkupSafe>=2.0 in c:\\users\\acer\\appdata\\roaming\\python\\python313\\site-packages (from jinja2->spacy) (3.0.2)\n",
      "Note: you may need to restart the kernel to use updated packages.\n"
     ]
    }
   ],
   "source": [
    "pip install spacy"
   ]
  },
  {
   "cell_type": "code",
   "execution_count": 61,
   "id": "36fd426b-690c-447f-bcc6-71ab99c2a4cd",
   "metadata": {},
   "outputs": [
    {
     "name": "stdout",
     "output_type": "stream",
     "text": [
      "Defaulting to user installation because normal site-packages is not writeable\n",
      "Collecting en-core-web-md==3.8.0\n",
      "  Downloading https://github.com/explosion/spacy-models/releases/download/en_core_web_md-3.8.0/en_core_web_md-3.8.0-py3-none-any.whl (33.5 MB)\n",
      "     ---------------------------------------- 0.0/33.5 MB ? eta -:--:--\n",
      "     ---------------------------------------- 0.0/33.5 MB ? eta -:--:--\n",
      "      --------------------------------------- 0.5/33.5 MB 2.5 MB/s eta 0:00:13\n",
      "     - -------------------------------------- 1.3/33.5 MB 4.3 MB/s eta 0:00:08\n",
      "     -- ------------------------------------- 1.8/33.5 MB 3.2 MB/s eta 0:00:10\n",
      "     ---- ----------------------------------- 3.9/33.5 MB 4.8 MB/s eta 0:00:07\n",
      "     ----- ---------------------------------- 5.0/33.5 MB 5.5 MB/s eta 0:00:06\n",
      "     -------- ------------------------------- 7.3/33.5 MB 6.0 MB/s eta 0:00:05\n",
      "     ---------- ----------------------------- 8.9/33.5 MB 6.3 MB/s eta 0:00:04\n",
      "     ------------ --------------------------- 10.7/33.5 MB 6.6 MB/s eta 0:00:04\n",
      "     -------------- ------------------------- 12.3/33.5 MB 6.8 MB/s eta 0:00:04\n",
      "     ---------------- ----------------------- 14.2/33.5 MB 6.9 MB/s eta 0:00:03\n",
      "     ------------------ --------------------- 15.5/33.5 MB 6.9 MB/s eta 0:00:03\n",
      "     -------------------- ------------------- 16.8/33.5 MB 6.9 MB/s eta 0:00:03\n",
      "     --------------------- ------------------ 18.4/33.5 MB 7.0 MB/s eta 0:00:03\n",
      "     ------------------------ --------------- 20.2/33.5 MB 7.1 MB/s eta 0:00:02\n",
      "     -------------------------- ------------- 22.0/33.5 MB 7.2 MB/s eta 0:00:02\n",
      "     ---------------------------- ----------- 23.6/33.5 MB 7.2 MB/s eta 0:00:02\n",
      "     ----------------------------- ---------- 24.9/33.5 MB 7.2 MB/s eta 0:00:02\n",
      "     ------------------------------- -------- 26.2/33.5 MB 7.2 MB/s eta 0:00:02\n",
      "     -------------------------------- ------- 27.3/33.5 MB 7.1 MB/s eta 0:00:01\n",
      "     --------------------------------- ------ 27.8/33.5 MB 6.8 MB/s eta 0:00:01\n",
      "     --------------------------------- ------ 28.3/33.5 MB 6.7 MB/s eta 0:00:01\n",
      "     ---------------------------------- ----- 28.8/33.5 MB 6.4 MB/s eta 0:00:01\n",
      "     ---------------------------------- ----- 29.1/33.5 MB 6.3 MB/s eta 0:00:01\n",
      "     ----------------------------------- ---- 29.4/33.5 MB 6.1 MB/s eta 0:00:01\n",
      "     ----------------------------------- ---- 29.9/33.5 MB 5.8 MB/s eta 0:00:01\n",
      "     ------------------------------------ --- 30.1/33.5 MB 5.7 MB/s eta 0:00:01\n",
      "     ------------------------------------ --- 30.7/33.5 MB 5.5 MB/s eta 0:00:01\n",
      "     ------------------------------------ --- 30.9/33.5 MB 5.4 MB/s eta 0:00:01\n",
      "     ------------------------------------- -- 31.5/33.5 MB 5.3 MB/s eta 0:00:01\n",
      "     ------------------------------------- -- 31.7/33.5 MB 5.2 MB/s eta 0:00:01\n",
      "     -------------------------------------- - 32.2/33.5 MB 5.1 MB/s eta 0:00:01\n",
      "     -------------------------------------- - 32.5/33.5 MB 5.0 MB/s eta 0:00:01\n",
      "     ---------------------------------------  33.0/33.5 MB 4.9 MB/s eta 0:00:01\n",
      "     ---------------------------------------  33.3/33.5 MB 4.8 MB/s eta 0:00:01\n",
      "     ---------------------------------------- 33.5/33.5 MB 4.7 MB/s eta 0:00:00\n",
      "Installing collected packages: en-core-web-md\n",
      "Successfully installed en-core-web-md-3.8.0\n",
      "\u001b[38;5;2m[+] Download and installation successful\u001b[0m\n",
      "You can now load the package via spacy.load('en_core_web_md')\n"
     ]
    }
   ],
   "source": [
    "!python -m spacy download en_core_web_md\n"
   ]
  },
  {
   "cell_type": "code",
   "execution_count": 62,
   "id": "00e77bf3-8a65-48a4-9d54-c49f11fc7946",
   "metadata": {},
   "outputs": [
    {
     "name": "stdout",
     "output_type": "stream",
     "text": [
      "Defaulting to user installation because normal site-packages is not writeable\n",
      "Collecting en-core-web-sm==3.8.0\n",
      "  Downloading https://github.com/explosion/spacy-models/releases/download/en_core_web_sm-3.8.0/en_core_web_sm-3.8.0-py3-none-any.whl (12.8 MB)\n",
      "     ---------------------------------------- 0.0/12.8 MB ? eta -:--:--\n",
      "      --------------------------------------- 0.3/12.8 MB ? eta -:--:--\n",
      "     ----- ---------------------------------- 1.8/12.8 MB 6.9 MB/s eta 0:00:02\n",
      "     ---------- ----------------------------- 3.4/12.8 MB 7.6 MB/s eta 0:00:02\n",
      "     -------------- ------------------------- 4.7/12.8 MB 7.0 MB/s eta 0:00:02\n",
      "     ------------------ --------------------- 5.8/12.8 MB 6.7 MB/s eta 0:00:02\n",
      "     --------------------- ------------------ 6.8/12.8 MB 6.3 MB/s eta 0:00:01\n",
      "     ------------------------ --------------- 7.9/12.8 MB 6.1 MB/s eta 0:00:01\n",
      "     ---------------------------- ----------- 9.2/12.8 MB 6.1 MB/s eta 0:00:01\n",
      "     ------------------------------- -------- 10.2/12.8 MB 6.1 MB/s eta 0:00:01\n",
      "     ------------------------------------ --- 11.5/12.8 MB 6.1 MB/s eta 0:00:01\n",
      "     ---------------------------------------  12.6/12.8 MB 6.1 MB/s eta 0:00:01\n",
      "     ---------------------------------------- 12.8/12.8 MB 5.9 MB/s eta 0:00:00\n",
      "Installing collected packages: en-core-web-sm\n",
      "Successfully installed en-core-web-sm-3.8.0\n",
      "\u001b[38;5;2m[+] Download and installation successful\u001b[0m\n",
      "You can now load the package via spacy.load('en_core_web_sm')\n"
     ]
    }
   ],
   "source": [
    "!python -m spacy download en_core_web_sm\n"
   ]
  },
  {
   "cell_type": "code",
   "execution_count": null,
   "id": "30a0ca75-4e54-48f5-9bce-d4f1849aa0a1",
   "metadata": {},
   "outputs": [],
   "source": [
    "!python -m spacy download en_core_web_lg\n",
    "              \n"
   ]
  },
  {
   "cell_type": "code",
   "execution_count": null,
   "id": "fbaeaaab-1e7c-491b-b6ae-a8e57b3531d3",
   "metadata": {},
   "outputs": [],
   "source": []
  },
  {
   "cell_type": "code",
   "execution_count": null,
   "id": "83872174-aa94-49cb-96c3-874702c82f05",
   "metadata": {},
   "outputs": [],
   "source": []
  },
  {
   "cell_type": "code",
   "execution_count": null,
   "id": "b94ee939-919f-47cf-bb61-2a657005cd51",
   "metadata": {},
   "outputs": [],
   "source": []
  },
  {
   "cell_type": "code",
   "execution_count": null,
   "id": "27f48b9a-6f4b-449b-84fb-052d67ef9744",
   "metadata": {},
   "outputs": [],
   "source": []
  }
 ],
 "metadata": {
  "kernelspec": {
   "display_name": "Python 3 (ipykernel)",
   "language": "python",
   "name": "python3"
  },
  "language_info": {
   "codemirror_mode": {
    "name": "ipython",
    "version": 3
   },
   "file_extension": ".py",
   "mimetype": "text/x-python",
   "name": "python",
   "nbconvert_exporter": "python",
   "pygments_lexer": "ipython3",
   "version": "3.13.1"
  }
 },
 "nbformat": 4,
 "nbformat_minor": 5
}
